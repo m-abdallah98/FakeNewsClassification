{
  "nbformat": 4,
  "nbformat_minor": 0,
  "metadata": {
    "colab": {
      "provenance": []
    },
    "kernelspec": {
      "name": "python3",
      "display_name": "Python 3"
    },
    "language_info": {
      "name": "python"
    },
    "accelerator": "GPU",
    "gpuClass": "standard"
  },
  "cells": [
    {
      "cell_type": "markdown",
      "source": [
        "## Downloading Data"
      ],
      "metadata": {
        "id": "8dPamOXZxhDM"
      }
    },
    {
      "cell_type": "code",
      "source": [
        "!pip install kaggle"
      ],
      "metadata": {
        "id": "zHZPgxLvUbPA",
        "colab": {
          "base_uri": "https://localhost:8080/"
        },
        "outputId": "8f5c6300-5bc1-47c6-8fab-a86bfc22c185"
      },
      "execution_count": 1,
      "outputs": [
        {
          "output_type": "stream",
          "name": "stdout",
          "text": [
            "Looking in indexes: https://pypi.org/simple, https://us-python.pkg.dev/colab-wheels/public/simple/\n",
            "Requirement already satisfied: kaggle in /usr/local/lib/python3.8/dist-packages (1.5.12)\n",
            "Requirement already satisfied: tqdm in /usr/local/lib/python3.8/dist-packages (from kaggle) (4.64.1)\n",
            "Requirement already satisfied: certifi in /usr/local/lib/python3.8/dist-packages (from kaggle) (2022.9.24)\n",
            "Requirement already satisfied: python-dateutil in /usr/local/lib/python3.8/dist-packages (from kaggle) (2.8.2)\n",
            "Requirement already satisfied: urllib3 in /usr/local/lib/python3.8/dist-packages (from kaggle) (1.24.3)\n",
            "Requirement already satisfied: requests in /usr/local/lib/python3.8/dist-packages (from kaggle) (2.23.0)\n",
            "Requirement already satisfied: six>=1.10 in /usr/local/lib/python3.8/dist-packages (from kaggle) (1.15.0)\n",
            "Requirement already satisfied: python-slugify in /usr/local/lib/python3.8/dist-packages (from kaggle) (7.0.0)\n",
            "Requirement already satisfied: text-unidecode>=1.3 in /usr/local/lib/python3.8/dist-packages (from python-slugify->kaggle) (1.3)\n",
            "Requirement already satisfied: idna<3,>=2.5 in /usr/local/lib/python3.8/dist-packages (from requests->kaggle) (2.10)\n",
            "Requirement already satisfied: chardet<4,>=3.0.2 in /usr/local/lib/python3.8/dist-packages (from requests->kaggle) (3.0.4)\n"
          ]
        }
      ]
    },
    {
      "cell_type": "code",
      "source": [
        "from google.colab import files\n",
        "files.upload()"
      ],
      "metadata": {
        "id": "z7iiItjVUixB",
        "colab": {
          "base_uri": "https://localhost:8080/",
          "height": 92
        },
        "outputId": "2b6bea74-9c75-40fc-d9a1-4698d3025d98"
      },
      "execution_count": 2,
      "outputs": [
        {
          "output_type": "display_data",
          "data": {
            "text/plain": [
              "<IPython.core.display.HTML object>"
            ],
            "text/html": [
              "\n",
              "     <input type=\"file\" id=\"files-6ed6dfef-c5d8-44be-8ff2-3ef8b4270c6a\" name=\"files[]\" multiple disabled\n",
              "        style=\"border:none\" />\n",
              "     <output id=\"result-6ed6dfef-c5d8-44be-8ff2-3ef8b4270c6a\">\n",
              "      Upload widget is only available when the cell has been executed in the\n",
              "      current browser session. Please rerun this cell to enable.\n",
              "      </output>\n",
              "      <script>// Copyright 2017 Google LLC\n",
              "//\n",
              "// Licensed under the Apache License, Version 2.0 (the \"License\");\n",
              "// you may not use this file except in compliance with the License.\n",
              "// You may obtain a copy of the License at\n",
              "//\n",
              "//      http://www.apache.org/licenses/LICENSE-2.0\n",
              "//\n",
              "// Unless required by applicable law or agreed to in writing, software\n",
              "// distributed under the License is distributed on an \"AS IS\" BASIS,\n",
              "// WITHOUT WARRANTIES OR CONDITIONS OF ANY KIND, either express or implied.\n",
              "// See the License for the specific language governing permissions and\n",
              "// limitations under the License.\n",
              "\n",
              "/**\n",
              " * @fileoverview Helpers for google.colab Python module.\n",
              " */\n",
              "(function(scope) {\n",
              "function span(text, styleAttributes = {}) {\n",
              "  const element = document.createElement('span');\n",
              "  element.textContent = text;\n",
              "  for (const key of Object.keys(styleAttributes)) {\n",
              "    element.style[key] = styleAttributes[key];\n",
              "  }\n",
              "  return element;\n",
              "}\n",
              "\n",
              "// Max number of bytes which will be uploaded at a time.\n",
              "const MAX_PAYLOAD_SIZE = 100 * 1024;\n",
              "\n",
              "function _uploadFiles(inputId, outputId) {\n",
              "  const steps = uploadFilesStep(inputId, outputId);\n",
              "  const outputElement = document.getElementById(outputId);\n",
              "  // Cache steps on the outputElement to make it available for the next call\n",
              "  // to uploadFilesContinue from Python.\n",
              "  outputElement.steps = steps;\n",
              "\n",
              "  return _uploadFilesContinue(outputId);\n",
              "}\n",
              "\n",
              "// This is roughly an async generator (not supported in the browser yet),\n",
              "// where there are multiple asynchronous steps and the Python side is going\n",
              "// to poll for completion of each step.\n",
              "// This uses a Promise to block the python side on completion of each step,\n",
              "// then passes the result of the previous step as the input to the next step.\n",
              "function _uploadFilesContinue(outputId) {\n",
              "  const outputElement = document.getElementById(outputId);\n",
              "  const steps = outputElement.steps;\n",
              "\n",
              "  const next = steps.next(outputElement.lastPromiseValue);\n",
              "  return Promise.resolve(next.value.promise).then((value) => {\n",
              "    // Cache the last promise value to make it available to the next\n",
              "    // step of the generator.\n",
              "    outputElement.lastPromiseValue = value;\n",
              "    return next.value.response;\n",
              "  });\n",
              "}\n",
              "\n",
              "/**\n",
              " * Generator function which is called between each async step of the upload\n",
              " * process.\n",
              " * @param {string} inputId Element ID of the input file picker element.\n",
              " * @param {string} outputId Element ID of the output display.\n",
              " * @return {!Iterable<!Object>} Iterable of next steps.\n",
              " */\n",
              "function* uploadFilesStep(inputId, outputId) {\n",
              "  const inputElement = document.getElementById(inputId);\n",
              "  inputElement.disabled = false;\n",
              "\n",
              "  const outputElement = document.getElementById(outputId);\n",
              "  outputElement.innerHTML = '';\n",
              "\n",
              "  const pickedPromise = new Promise((resolve) => {\n",
              "    inputElement.addEventListener('change', (e) => {\n",
              "      resolve(e.target.files);\n",
              "    });\n",
              "  });\n",
              "\n",
              "  const cancel = document.createElement('button');\n",
              "  inputElement.parentElement.appendChild(cancel);\n",
              "  cancel.textContent = 'Cancel upload';\n",
              "  const cancelPromise = new Promise((resolve) => {\n",
              "    cancel.onclick = () => {\n",
              "      resolve(null);\n",
              "    };\n",
              "  });\n",
              "\n",
              "  // Wait for the user to pick the files.\n",
              "  const files = yield {\n",
              "    promise: Promise.race([pickedPromise, cancelPromise]),\n",
              "    response: {\n",
              "      action: 'starting',\n",
              "    }\n",
              "  };\n",
              "\n",
              "  cancel.remove();\n",
              "\n",
              "  // Disable the input element since further picks are not allowed.\n",
              "  inputElement.disabled = true;\n",
              "\n",
              "  if (!files) {\n",
              "    return {\n",
              "      response: {\n",
              "        action: 'complete',\n",
              "      }\n",
              "    };\n",
              "  }\n",
              "\n",
              "  for (const file of files) {\n",
              "    const li = document.createElement('li');\n",
              "    li.append(span(file.name, {fontWeight: 'bold'}));\n",
              "    li.append(span(\n",
              "        `(${file.type || 'n/a'}) - ${file.size} bytes, ` +\n",
              "        `last modified: ${\n",
              "            file.lastModifiedDate ? file.lastModifiedDate.toLocaleDateString() :\n",
              "                                    'n/a'} - `));\n",
              "    const percent = span('0% done');\n",
              "    li.appendChild(percent);\n",
              "\n",
              "    outputElement.appendChild(li);\n",
              "\n",
              "    const fileDataPromise = new Promise((resolve) => {\n",
              "      const reader = new FileReader();\n",
              "      reader.onload = (e) => {\n",
              "        resolve(e.target.result);\n",
              "      };\n",
              "      reader.readAsArrayBuffer(file);\n",
              "    });\n",
              "    // Wait for the data to be ready.\n",
              "    let fileData = yield {\n",
              "      promise: fileDataPromise,\n",
              "      response: {\n",
              "        action: 'continue',\n",
              "      }\n",
              "    };\n",
              "\n",
              "    // Use a chunked sending to avoid message size limits. See b/62115660.\n",
              "    let position = 0;\n",
              "    do {\n",
              "      const length = Math.min(fileData.byteLength - position, MAX_PAYLOAD_SIZE);\n",
              "      const chunk = new Uint8Array(fileData, position, length);\n",
              "      position += length;\n",
              "\n",
              "      const base64 = btoa(String.fromCharCode.apply(null, chunk));\n",
              "      yield {\n",
              "        response: {\n",
              "          action: 'append',\n",
              "          file: file.name,\n",
              "          data: base64,\n",
              "        },\n",
              "      };\n",
              "\n",
              "      let percentDone = fileData.byteLength === 0 ?\n",
              "          100 :\n",
              "          Math.round((position / fileData.byteLength) * 100);\n",
              "      percent.textContent = `${percentDone}% done`;\n",
              "\n",
              "    } while (position < fileData.byteLength);\n",
              "  }\n",
              "\n",
              "  // All done.\n",
              "  yield {\n",
              "    response: {\n",
              "      action: 'complete',\n",
              "    }\n",
              "  };\n",
              "}\n",
              "\n",
              "scope.google = scope.google || {};\n",
              "scope.google.colab = scope.google.colab || {};\n",
              "scope.google.colab._files = {\n",
              "  _uploadFiles,\n",
              "  _uploadFilesContinue,\n",
              "};\n",
              "})(self);\n",
              "</script> "
            ]
          },
          "metadata": {}
        },
        {
          "output_type": "stream",
          "name": "stdout",
          "text": [
            "Saving kaggle.json to kaggle.json\n"
          ]
        },
        {
          "output_type": "execute_result",
          "data": {
            "text/plain": [
              "{'kaggle.json': b'{\"username\":\"mohamedabdallah98\",\"key\":\"05df623b311b1a8123f43cce3e4e80a2\"}'}"
            ]
          },
          "metadata": {},
          "execution_count": 2
        }
      ]
    },
    {
      "cell_type": "code",
      "source": [
        "!mkdir -p ~/.kaggle\n",
        "!cp kaggle.json ~/.kaggle\n",
        "!chmod 600 ~/.kaggle/kaggle.json"
      ],
      "metadata": {
        "id": "qaCoRHKAUiuK"
      },
      "execution_count": 3,
      "outputs": []
    },
    {
      "cell_type": "code",
      "source": [
        "!kaggle competitions download -c fake-news"
      ],
      "metadata": {
        "id": "PqYEoOoyUisF",
        "colab": {
          "base_uri": "https://localhost:8080/"
        },
        "outputId": "d0c6d636-8519-4b0a-f5dd-8a472802e40d"
      },
      "execution_count": 4,
      "outputs": [
        {
          "output_type": "stream",
          "name": "stdout",
          "text": [
            "Downloading fake-news.zip to /content\n",
            " 71% 33.0M/46.5M [00:00<00:00, 139MB/s] \n",
            "100% 46.5M/46.5M [00:00<00:00, 150MB/s]\n"
          ]
        }
      ]
    },
    {
      "cell_type": "code",
      "source": [
        "!mkdir Datasets\n",
        "!unzip fake-news.zip -d Datasets"
      ],
      "metadata": {
        "id": "C2GV9pk_UipB",
        "colab": {
          "base_uri": "https://localhost:8080/"
        },
        "outputId": "747c87ec-5ba0-4084-8263-5af92e368b85"
      },
      "execution_count": 5,
      "outputs": [
        {
          "output_type": "stream",
          "name": "stdout",
          "text": [
            "Archive:  fake-news.zip\n",
            "  inflating: Datasets/submit.csv     \n",
            "  inflating: Datasets/test.csv       \n",
            "  inflating: Datasets/train.csv      \n"
          ]
        }
      ]
    },
    {
      "cell_type": "markdown",
      "source": [
        "## Import libraries"
      ],
      "metadata": {
        "id": "QcqyY11QRpwh"
      }
    },
    {
      "cell_type": "code",
      "execution_count": 1,
      "metadata": {
        "id": "vuX3VNVeTGar",
        "colab": {
          "base_uri": "https://localhost:8080/"
        },
        "outputId": "ce5fcb54-8ccc-4505-f9cc-724c94d4bdd9"
      },
      "outputs": [
        {
          "output_type": "stream",
          "name": "stderr",
          "text": [
            "[nltk_data] Downloading package stopwords to /root/nltk_data...\n",
            "[nltk_data]   Package stopwords is already up-to-date!\n",
            "[nltk_data] Downloading package punkt to /root/nltk_data...\n",
            "[nltk_data]   Package punkt is already up-to-date!\n"
          ]
        },
        {
          "output_type": "execute_result",
          "data": {
            "text/plain": [
              "True"
            ]
          },
          "metadata": {},
          "execution_count": 1
        }
      ],
      "source": [
        "import numpy as np\n",
        "from pandas.plotting import scatter_matrix\n",
        "from matplotlib import pyplot\n",
        "import matplotlib.pyplot as plt\n",
        "import seaborn as sns \n",
        "import os\n",
        "import gensim\n",
        "from gensim.models import Word2Vec\n",
        "from gensim.models.doc2vec import Doc2Vec, TaggedDocument\n",
        "from sklearn import metrics\n",
        "from sklearn.model_selection import train_test_split,GridSearchCV\n",
        "from sklearn.model_selection import KFold\n",
        "import pandas as pd\n",
        "from sklearn.svm import SVC\n",
        "from sklearn import preprocessing\n",
        "from sklearn.model_selection import cross_val_score\n",
        "from sklearn.metrics import classification_report\n",
        "from sklearn.metrics import confusion_matrix\n",
        "from sklearn.metrics import accuracy_score\n",
        "import warnings\n",
        "warnings.filterwarnings(\"ignore\")\n",
        "\n",
        "\n",
        "import itertools\n",
        "import re\n",
        "import nltk\n",
        "from nltk.corpus import stopwords\n",
        "from nltk.stem import PorterStemmer\n",
        "from nltk.stem import WordNetLemmatizer\n",
        "from sklearn.feature_extraction.text import CountVectorizer, HashingVectorizer\n",
        "from sklearn.feature_extraction.text import TfidfVectorizer\n",
        "nltk.download('stopwords')\n",
        "nltk.download('punkt')"
      ]
    },
    {
      "cell_type": "code",
      "source": [
        "import tensorflow as tf\n",
        "from tensorflow import keras\n",
        "from keras.preprocessing.text import one_hot\n",
        "from keras_preprocessing.sequence import pad_sequences\n",
        "from tensorflow.keras.layers.experimental import RandomFourierFeatures\n",
        "import numpy as np\n",
        "from keras.models import Sequential\n",
        "from keras.layers import Dense, Dropout, Flatten, BatchNormalization, Embedding, Activation, LSTM"
      ],
      "metadata": {
        "id": "TfPdbaqGTn5o"
      },
      "execution_count": 45,
      "outputs": []
    },
    {
      "cell_type": "markdown",
      "source": [
        "# Reading Data and EDA"
      ],
      "metadata": {
        "id": "nWdD3Ls-Uwzm"
      }
    },
    {
      "cell_type": "code",
      "source": [
        "data = pd.read_csv('/content/Datasets/train.csv')"
      ],
      "metadata": {
        "id": "2305W5c4T5ji"
      },
      "execution_count": 3,
      "outputs": []
    },
    {
      "cell_type": "code",
      "source": [
        "data.dropna(inplace =True)"
      ],
      "metadata": {
        "id": "GagkJ0l9VXLK"
      },
      "execution_count": 4,
      "outputs": []
    },
    {
      "cell_type": "code",
      "source": [
        "X=data.drop(columns=['label'])"
      ],
      "metadata": {
        "id": "c5rMrMPaT5hb"
      },
      "execution_count": 5,
      "outputs": []
    },
    {
      "cell_type": "code",
      "source": [
        "y = data['label']"
      ],
      "metadata": {
        "id": "je6c0cV9T5eY"
      },
      "execution_count": 6,
      "outputs": []
    },
    {
      "cell_type": "code",
      "source": [
        "X.info()"
      ],
      "metadata": {
        "id": "4VBuDFFAT5cT",
        "colab": {
          "base_uri": "https://localhost:8080/"
        },
        "outputId": "a7a369ca-ee4e-4b06-9581-d5900b1714d8"
      },
      "execution_count": 7,
      "outputs": [
        {
          "output_type": "stream",
          "name": "stdout",
          "text": [
            "<class 'pandas.core.frame.DataFrame'>\n",
            "Int64Index: 18285 entries, 0 to 20799\n",
            "Data columns (total 4 columns):\n",
            " #   Column  Non-Null Count  Dtype \n",
            "---  ------  --------------  ----- \n",
            " 0   id      18285 non-null  int64 \n",
            " 1   title   18285 non-null  object\n",
            " 2   author  18285 non-null  object\n",
            " 3   text    18285 non-null  object\n",
            "dtypes: int64(1), object(3)\n",
            "memory usage: 714.3+ KB\n"
          ]
        }
      ]
    },
    {
      "cell_type": "code",
      "source": [
        "voc_size=5000"
      ],
      "metadata": {
        "id": "MzTc7sdfXJZ-"
      },
      "execution_count": 8,
      "outputs": []
    },
    {
      "cell_type": "markdown",
      "source": [
        "# Preprocessing"
      ],
      "metadata": {
        "id": "OyWwLv9VWKP2"
      }
    },
    {
      "cell_type": "code",
      "source": [
        "news_msg = data.copy()\n"
      ],
      "metadata": {
        "id": "ZjDAfPGsT5YU"
      },
      "execution_count": 9,
      "outputs": []
    },
    {
      "cell_type": "code",
      "source": [
        "news_msg.reset_index(inplace = True)"
      ],
      "metadata": {
        "id": "cJynNd3CT5WV"
      },
      "execution_count": 10,
      "outputs": []
    },
    {
      "cell_type": "code",
      "source": [
        "ps = PorterStemmer()\n",
        "corpus = []\n",
        "for i in range(0, len(news_msg)):\n",
        "    review = re.sub('[^a-zA-Z]', ' ', news_msg['title'][i])\n",
        "    review = review.lower()\n",
        "    review = review.split()\n",
        "    \n",
        "    review = [ps.stem(word) for word in review if not word in stopwords.words('english')]\n",
        "    review = ' '.join(review)\n",
        "    corpus.append(review)"
      ],
      "metadata": {
        "id": "nrkz9waOT5S8"
      },
      "execution_count": 11,
      "outputs": []
    },
    {
      "cell_type": "markdown",
      "source": [
        "### One Hot Representation"
      ],
      "metadata": {
        "id": "P5OGL2eQXO7v"
      }
    },
    {
      "cell_type": "code",
      "source": [
        "one_hot_rep=[one_hot(words,voc_size)for words in corpus] \n",
        "one_hot_rep"
      ],
      "metadata": {
        "id": "isasAUiVT5RO",
        "colab": {
          "base_uri": "https://localhost:8080/"
        },
        "outputId": "8aaa970d-005a-474b-903f-e7552e6b0f2b"
      },
      "execution_count": 12,
      "outputs": [
        {
          "output_type": "execute_result",
          "data": {
            "text/plain": [
              "[[4539, 4626, 839, 4430, 3933, 535, 3132, 499, 4992, 3079],\n",
              " [2021, 2744, 688, 3470, 4334, 4338, 4374],\n",
              " [1863, 3183, 1250, 2893],\n",
              " [2236, 3987, 2274, 832, 4609, 1032],\n",
              " [1907, 4334, 2640, 3301, 4763, 2595, 4334, 2157, 592, 4414],\n",
              " [3508,\n",
              "  1043,\n",
              "  1584,\n",
              "  2120,\n",
              "  2513,\n",
              "  1627,\n",
              "  3553,\n",
              "  3432,\n",
              "  2092,\n",
              "  2762,\n",
              "  3689,\n",
              "  1009,\n",
              "  2278,\n",
              "  2704,\n",
              "  4374],\n",
              " [320, 1682, 4242, 3134, 923, 448, 2686, 2369, 2173, 2908, 279],\n",
              " [2549, 3749, 1842, 3880, 1541, 4950, 1627, 9, 2173, 2908, 279],\n",
              " [3559, 4317, 119, 2043, 2596, 2075, 3858, 72, 1627, 4954],\n",
              " [932, 1379, 675, 144, 703, 2158, 31, 3910],\n",
              " [3320, 1834, 4386, 3498, 2507, 3629, 4034, 382, 2589, 4803, 772],\n",
              " [832, 863, 3933, 2075, 1627, 1541],\n",
              " [4708, 2956, 3103, 369, 4850, 3233, 3793, 2299, 3211],\n",
              " [4415, 2700, 2900, 4245, 3442, 3000, 827, 2173, 2908, 279],\n",
              " [1722, 4745, 211, 2925, 1286, 2173, 2908, 279],\n",
              " [4183, 2256, 226, 2733, 3074, 2564, 2298, 4445, 3477, 3021],\n",
              " [1880, 1248, 2744],\n",
              " [1814, 1192, 4514, 569, 1627, 607, 1191, 4374],\n",
              " [76, 4108, 688, 873, 237, 3300, 942, 916, 2595],\n",
              " [1555, 2130, 1627, 3213, 579, 4374],\n",
              " [968, 3597, 2693, 1947, 4171, 942, 2482, 4536, 3726, 2173, 2908, 279],\n",
              " [1246, 3465, 1804, 2310, 330, 1043, 329],\n",
              " [2278, 546, 1442, 62, 288, 1258, 2152, 4117, 2443, 4128, 1423, 4374],\n",
              " [4447, 2744, 112, 599, 2136, 4896, 1289, 4546],\n",
              " [4960, 1294, 976, 2774, 717, 1790, 873, 4515, 3645, 2173, 2908, 279],\n",
              " [2744, 688, 1490, 340, 2173, 2908, 279],\n",
              " [1814, 1192, 4514, 4547, 2860, 4812, 2774, 4374],\n",
              " [3890, 3106, 3506, 3615, 2601, 2173, 2908, 279],\n",
              " [584, 2112, 3277, 530, 4825, 2768, 3429, 2503, 4465, 2173, 2908, 279],\n",
              " [247, 2430, 116, 4117, 770, 3481, 4904, 4474, 1504, 2173, 2908, 279],\n",
              " [1541, 1102, 330, 4816, 4538, 2629, 2173, 2908, 279],\n",
              " [2012, 775, 3131, 1544, 395],\n",
              " [1253, 4331, 936, 4976],\n",
              " [4888, 45, 4339, 2828, 3564, 397, 4536, 4374],\n",
              " [2900, 930, 2900, 4393, 3193, 3042, 2173, 2908, 279],\n",
              " [273, 541, 189, 4109, 2424, 3552, 1431, 4374],\n",
              " [968, 4989, 1600, 3917],\n",
              " [4261, 852, 3754, 4791, 666, 4667, 2173, 2908, 279],\n",
              " [81, 253, 241, 253, 3559, 514, 2197, 2914, 4374],\n",
              " [918, 3863, 1239, 4587, 2907, 3104, 976, 2173, 2908, 279],\n",
              " [4976, 510, 3969, 3469, 207, 869, 1161, 695, 2704],\n",
              " [4959, 175, 569, 2188, 2329, 2173, 2404, 2173, 2908, 279],\n",
              " [4060, 288, 1798, 1370, 3108, 949, 552, 1214, 3767, 4012, 3168, 4374],\n",
              " [4088, 244, 368],\n",
              " [2160, 2385, 1033, 3573, 4000, 3728, 4781, 1471, 3346, 4374],\n",
              " [1627, 4976, 4088, 4590, 2427, 4912],\n",
              " [2006, 3942, 228, 1841, 634, 794, 2826, 4432, 386, 2051, 2704],\n",
              " [53, 905, 546, 1867, 283],\n",
              " [569, 1627, 4242, 4976, 2084, 2866, 832, 607, 4335],\n",
              " [3656, 1695, 22, 1565, 4304, 2173, 2908, 279],\n",
              " [4415, 1406, 3274, 1309, 1948, 777, 2173, 2908, 279],\n",
              " [878, 3974, 3509, 603, 4976],\n",
              " [3557, 4170, 133, 1976, 2792, 3387, 928, 2497, 2173, 2908, 279],\n",
              " [3826, 234, 1627, 206, 2646, 2387, 3173, 2062, 690],\n",
              " [283, 1148, 3561, 124, 3851, 4550, 1568, 2115, 159, 2173, 2908, 279],\n",
              " [936, 4130, 546, 1442, 376, 4897, 3274, 936, 3827],\n",
              " [2299, 3442, 3172, 3696, 1530, 3979, 274, 4713, 3564, 4745],\n",
              " [688, 818, 434, 1880, 915, 1629, 515, 2744, 688, 4377],\n",
              " [1793, 2947, 234, 968, 4546, 2173, 2908, 279],\n",
              " [2374, 4204, 2844, 3233, 1627, 4527, 607, 3598],\n",
              " [750, 3516, 4157, 3857],\n",
              " [1447, 3446, 288, 4603, 370],\n",
              " [2749, 3509, 4334, 1786, 2173, 2908, 279],\n",
              " [2324, 3577, 2012, 4896, 4678, 2173, 4936, 2173, 2908, 279],\n",
              " [4976, 1390, 4954, 3559, 470, 3413, 418, 2197, 2173, 2908, 279],\n",
              " [4888, 3431, 3331, 2237, 3190, 2173, 2908, 279],\n",
              " [3619, 2872, 2260, 4127, 3559, 1580, 523, 2774],\n",
              " [936, 3533, 253, 1747, 544, 1886, 2173, 2908, 279],\n",
              " [3299, 2858, 4406, 1322, 1627, 3687, 4064, 4374],\n",
              " [482, 4274, 3025, 936, 2686, 4932, 1325, 4430, 2707, 2173, 2908, 279],\n",
              " [3869, 230, 1253, 1370, 255, 2632, 1468, 274, 1709],\n",
              " [494, 2865, 3055, 2744],\n",
              " [214, 881, 541, 228, 2614, 3674, 943, 1754, 3307],\n",
              " [1627, 2640, 1271, 2847, 2173, 2908, 279],\n",
              " [2649, 1670, 11, 3163, 2614, 3827, 1736, 887, 2173, 2908, 279],\n",
              " [1684],\n",
              " [1627, 3567, 4546, 4613, 2482, 62, 695, 2173, 2908, 279],\n",
              " [976, 2613, 370, 4381, 2119, 688, 4546, 221, 1627, 2232, 3439, 603],\n",
              " [3301, 1835, 1750, 3596, 2173, 2908, 279],\n",
              " [1839, 3911, 3099, 750, 4411, 1584, 224, 2173, 2908, 279],\n",
              " [291, 3813, 4409, 624, 4721, 3350, 1333, 1946, 1471, 595],\n",
              " [2314, 866, 1888, 1102, 1343, 3585, 2539, 3042, 2173, 2908, 279],\n",
              " [3351,\n",
              "  4682,\n",
              "  4485,\n",
              "  1630,\n",
              "  1888,\n",
              "  569,\n",
              "  1627,\n",
              "  4888,\n",
              "  874,\n",
              "  2109,\n",
              "  1589,\n",
              "  664,\n",
              "  4076,\n",
              "  2493,\n",
              "  1546,\n",
              "  1216],\n",
              " [4374, 2774, 4157, 1627, 4980, 4374],\n",
              " [753, 4539, 3078, 441, 2922, 3559, 4843, 4368],\n",
              " [2009, 2757, 3168, 4888, 4976, 1216, 4374],\n",
              " [1370, 3296, 1023, 603, 1174, 4636, 2693, 2173, 2908, 279],\n",
              " [1651, 936, 2025, 494, 12, 1842, 2966, 2173, 2908, 279],\n",
              " [30, 144, 4722, 3465, 387, 292, 4027],\n",
              " [942, 3728, 3183, 325, 3399, 975, 2173, 2908, 279],\n",
              " [2744, 688, 1588, 2733, 1589, 4350, 4284, 569, 1627, 2173, 2908, 279],\n",
              " [1627, 4460, 4860, 370, 1834, 2290, 4462, 1210],\n",
              " [3190, 1881, 3320, 3103, 2424],\n",
              " [4109, 2666, 1214, 2922, 4445, 3477, 3021],\n",
              " [3502, 1442, 2572, 2676, 3722, 1327, 980, 2572, 2676, 3722, 4374],\n",
              " [1685, 3470, 1027, 4294, 3911, 584, 1009, 4574, 4374],\n",
              " [3826, 131, 3521, 2385, 1341, 2773, 4835, 2065, 4396, 4554, 4374],\n",
              " [152, 3204, 1900, 3300, 4128, 2577, 3905, 1181, 3470, 541, 2173, 2908, 279],\n",
              " [3164, 3471, 204, 3860, 4966, 1627, 3861, 2561, 2544, 4754],\n",
              " [1997,\n",
              "  1627,\n",
              "  3697,\n",
              "  4409,\n",
              "  1773,\n",
              "  2865,\n",
              "  2647,\n",
              "  3477,\n",
              "  1641,\n",
              "  4145,\n",
              "  3905,\n",
              "  2680,\n",
              "  4020],\n",
              " [2244, 996, 131, 1450, 1976, 2980, 2899, 4093, 2173, 2908, 279],\n",
              " [688, 818, 3295, 4812, 2364, 4078, 863, 3585, 603, 2744, 4460, 1711],\n",
              " [510, 179, 2065, 3133, 1544, 2107, 2653, 3585, 1782, 2160, 1902, 4374],\n",
              " [3867, 968, 2078, 664, 3729, 1770, 492, 3559, 3167, 2173, 2908, 279],\n",
              " [1394, 2774, 2482, 1505, 2919, 3687, 2173, 2908, 279],\n",
              " [283, 3961, 750, 1846, 3981, 946, 2173, 2908, 279],\n",
              " [1627, 1621, 1879, 4909, 3629, 545, 863, 2844, 2173, 2908, 279],\n",
              " [3613, 3221, 3564, 4377, 3302, 253, 3559, 2744, 4377],\n",
              " [2413, 1681, 4539, 2173, 2503, 89, 1835, 4136, 1343, 2197, 4527],\n",
              " [1686, 4106, 2084, 2846, 2359, 1686, 4124, 2173, 2908, 279],\n",
              " [3963, 2496, 3662, 4539, 1427, 595, 2603],\n",
              " [2979, 994, 3681, 2290, 832, 4976, 2010, 3506, 2744, 4242],\n",
              " [3664, 3342, 1085, 2863, 4905, 2695, 2173, 2908, 279],\n",
              " [1248, 2684, 3002, 4836, 2844, 4818, 4015, 2173, 2908, 279],\n",
              " [510, 2906, 4396, 753, 4539, 3831, 569, 1627, 4374],\n",
              " [4523, 1546, 3464, 1627, 3561, 4546, 695, 4374],\n",
              " [1349, 1083, 4170, 2909, 675],\n",
              " [2707, 1627, 2774, 2424, 4297, 2173, 2908, 279],\n",
              " [569, 1627, 2329, 1842, 1560, 596, 664, 1639, 2173, 2908, 279],\n",
              " [2585, 4888, 1639, 4574, 330, 639, 2495, 2858, 2175, 4374],\n",
              " [116, 987, 3264, 4191],\n",
              " [863, 4274, 3025, 4170, 968, 139, 2173, 2908, 279],\n",
              " [259, 2071, 4179, 3351, 1946, 433, 447, 3093, 1538],\n",
              " [936, 1651, 3991, 4130, 4937, 4605, 1149, 4746, 1191, 2482],\n",
              " [1627, 2695, 1145, 153, 3308, 1508, 942, 2757, 4339, 2170, 2704],\n",
              " [1880, 3442, 2596, 1393, 2744, 688, 4377, 2865, 2483],\n",
              " [3905, 942, 2238, 3987, 4713, 3079, 1886, 1748, 222],\n",
              " [370, 2647, 729, 3291, 3824, 4045, 1283, 1627, 4764],\n",
              " [750, 1942, 2834, 4452, 2027, 139],\n",
              " [1770, 3987, 2153, 3935, 2335, 4024, 4551, 4897],\n",
              " [3615, 3050, 873, 760, 3462, 152, 1999, 3204, 1770, 4780, 178],\n",
              " [3860, 228, 4283, 134, 927, 4201, 206, 799, 738, 1638],\n",
              " [1550, 3519, 3564, 292, 3585, 3032, 943, 1187, 4790, 603, 4526],\n",
              " [1947, 4027, 3567, 430, 2173, 2908, 279],\n",
              " [4406, 82, 3502, 4108, 1627, 436, 3570, 2173, 2908, 279],\n",
              " [3719, 3452, 4142, 2160, 1566, 1842, 4923, 4909, 2173, 2908, 279],\n",
              " [3120, 2049],\n",
              " [710, 743, 753, 4539, 1072, 3173, 3218, 483, 2173, 2908, 279],\n",
              " [3447, 1603, 2893, 1322, 3498, 2623, 1627, 2517, 3079, 4374],\n",
              " [688, 1654],\n",
              " [2170, 2746, 3291, 485, 2364, 4888, 134, 2173, 2908, 279],\n",
              " [2364, 1165, 4170, 204, 2412],\n",
              " [2173, 2160, 2075, 579, 1551, 1020, 4398, 125, 1007],\n",
              " [4662, 4224, 3991, 4441],\n",
              " [228, 634, 318, 1421, 4425, 1639, 1627],\n",
              " [1087, 1864, 1749, 2534, 577, 228, 2749, 413, 4904, 681, 2173, 2908, 279],\n",
              " [4025, 211, 3988, 2173, 3521, 1214, 755, 2173, 2908, 279],\n",
              " [1056, 2972, 228, 4176, 2173, 2908, 279],\n",
              " [1765, 4160, 1145, 2771, 99, 1607, 698, 4374],\n",
              " [3667, 3343, 1821, 2306, 2539, 665, 942, 3722, 4745, 4551],\n",
              " [4825, 2221, 676, 4299, 1007, 3521, 4374],\n",
              " [4743, 2170, 1318, 392, 3251, 1475],\n",
              " [1627, 1560, 436, 3263, 3016, 4812, 2188, 255, 4210],\n",
              " [436,\n",
              "  793,\n",
              "  3239,\n",
              "  2834,\n",
              "  1687,\n",
              "  3828,\n",
              "  1842,\n",
              "  514,\n",
              "  2197,\n",
              "  403,\n",
              "  3625,\n",
              "  2844,\n",
              "  1888,\n",
              "  3786,\n",
              "  569,\n",
              "  1627,\n",
              "  4374],\n",
              " [4294, 510, 4278, 1546, 4155, 569, 1627, 3083, 2173, 2908, 279],\n",
              " [1253, 3132, 1627, 2757, 4370, 3509],\n",
              " [4943, 3437, 1309, 3960, 3284, 2549, 2744, 4299, 508, 1634],\n",
              " [4484, 1731, 109, 1161, 3640, 255, 2288, 2173, 2908, 279],\n",
              " [3509, 4507, 4507, 2838, 2173, 2908, 279],\n",
              " [4850, 2844, 2774, 329, 1442, 1021, 2909, 312, 2173, 2908, 279],\n",
              " [132, 3103, 3827, 2484, 1886, 357, 508, 936, 1541, 961, 2173, 2908, 279],\n",
              " [707, 1029, 2893, 3968, 1402, 3859, 2982],\n",
              " [403, 2444, 4344, 403, 2173, 2908, 279],\n",
              " [1302, 476, 508, 4539, 695, 4976, 1627, 2173, 2908, 279],\n",
              " [4263, 936, 1383, 1565, 106, 4441, 595, 2893],\n",
              " [1654,\n",
              "  233,\n",
              "  1589,\n",
              "  4161,\n",
              "  1250,\n",
              "  2336,\n",
              "  3674,\n",
              "  3165,\n",
              "  4539,\n",
              "  3722,\n",
              "  2216,\n",
              "  1250,\n",
              "  1740,\n",
              "  1023,\n",
              "  3264,\n",
              "  4241,\n",
              "  3000],\n",
              " [2665, 1565, 1589, 3719, 1831, 1835, 2549, 2647, 2676, 1027, 1835],\n",
              " [172, 1627, 4503, 2046, 2173, 2908, 279],\n",
              " [1880, 2904, 535, 306, 4078, 3308, 688],\n",
              " [3824, 3670, 358, 1546, 2956, 1859, 4897],\n",
              " [592, 3360, 1442, 216],\n",
              " [4943, 2285, 962, 1831, 1033, 4323, 4396, 3987, 2213],\n",
              " [569, 1627, 253, 541, 2794, 4886, 4976, 4303, 2173, 2908, 279],\n",
              " [2129, 2449, 112, 1146, 1621, 2607, 3986, 1028, 1283, 2173, 2908, 279],\n",
              " [2278, 4629, 2504, 3662, 4346, 1627, 3800, 707],\n",
              " [569, 1627, 2621, 1216, 2173, 2908, 279],\n",
              " [4438, 2173, 2885, 2744, 1145, 818, 2543, 2572, 832, 1589, 2777, 3075, 4955],\n",
              " [2278,\n",
              "  1560,\n",
              "  4323,\n",
              "  4836,\n",
              "  2986,\n",
              "  1842,\n",
              "  4831,\n",
              "  1010,\n",
              "  2844,\n",
              "  2567,\n",
              "  4579,\n",
              "  499,\n",
              "  144,\n",
              "  3834,\n",
              "  1210],\n",
              " [1627, 3464, 370, 2123, 403, 1621, 2045, 4374],\n",
              " [3561, 283, 2577, 3905],\n",
              " [760, 541, 4976, 2967, 1508, 4281, 2173, 2908, 279],\n",
              " [3465, 1842, 4285, 2564, 4191, 4073, 884],\n",
              " [1627, 4897, 3190, 2314, 3315, 4943, 2173, 2908, 279],\n",
              " [688, 3280, 4107, 1544, 4377, 2744, 2647, 3705],\n",
              " [4028, 3074, 3467, 4261, 2889, 2197, 4374],\n",
              " [569, 1627, 4339, 1946, 3573],\n",
              " [4075, 3264, 358, 4523, 1454, 76, 118, 3163, 3213],\n",
              " [2323, 3190, 4932, 3096, 1517, 842, 2172, 2195, 2173, 2908, 279],\n",
              " [2278, 3947, 2844, 152, 3204, 2120, 1843, 2549, 976, 2774],\n",
              " [1997, 4673, 3559, 3939, 1594, 3389, 2737, 3847, 603, 2173, 2908, 279],\n",
              " [3506, 1639, 3264, 4061, 361, 1021, 2532, 1873, 2173, 2908, 279],\n",
              " [4996, 669, 2646, 3193, 2774, 1627],\n",
              " [4020,\n",
              "  2665,\n",
              "  2170,\n",
              "  2503,\n",
              "  89,\n",
              "  3449,\n",
              "  3567,\n",
              "  4507,\n",
              "  1577,\n",
              "  3603,\n",
              "  1250,\n",
              "  3477,\n",
              "  3921,\n",
              "  3498],\n",
              " [2847, 936, 254, 3695, 1589, 2173, 2908, 279],\n",
              " [328, 1103, 3022, 4748, 2656, 4431, 4897, 2173, 2908, 279],\n",
              " [3963, 4888, 1786, 980, 1558, 3264, 1627],\n",
              " [3719, 1286, 4904, 2160, 1021, 262, 2173, 2908, 279],\n",
              " [1541, 1956, 4897, 2116, 1193, 2844, 2664, 3687],\n",
              " [4209, 1322, 2897, 888, 4000, 4644, 747, 2173, 2908, 279],\n",
              " [3719, 4904, 2749, 4142, 2160, 3694, 3423, 371, 2173, 2908, 279],\n",
              " [3006,\n",
              "  3156,\n",
              "  1651,\n",
              "  2533,\n",
              "  314,\n",
              "  394,\n",
              "  3430,\n",
              "  3006,\n",
              "  1117,\n",
              "  2533,\n",
              "  314,\n",
              "  64,\n",
              "  4739,\n",
              "  1190],\n",
              " [1627, 494, 2774, 3233, 2173, 3042, 603, 221, 2173, 2908, 279],\n",
              " [936, 969, 1747, 3446, 202, 3615, 2173, 2908, 279],\n",
              " [936, 147, 2010, 2237, 4517, 4897, 1112, 2173, 2908, 2306, 584],\n",
              " [4370, 1529, 2834, 1015, 4729],\n",
              " [370, 152, 3204, 2735, 4418, 541, 4875, 1560, 2290],\n",
              " [2366, 3431, 1021, 3331, 3982, 2173, 2908, 279],\n",
              " [582,\n",
              "  738,\n",
              "  1638,\n",
              "  2474,\n",
              "  326,\n",
              "  1654,\n",
              "  326,\n",
              "  2847,\n",
              "  1638,\n",
              "  1627,\n",
              "  3880,\n",
              "  2120,\n",
              "  1156,\n",
              "  607,\n",
              "  3808],\n",
              " [246, 3190, 1722, 4745, 211, 1069, 1076, 2173, 2908, 279],\n",
              " [709, 246, 2702, 3236, 4514, 4812, 2774, 523, 4374],\n",
              " [2572, 4919, 1192, 2173, 178, 1627, 3042, 2173, 2908, 279],\n",
              " [1018, 464, 2142, 1882, 1821, 3193, 4976, 4374],\n",
              " [1208, 779, 1322, 76, 2409, 4108, 2173, 2908, 279],\n",
              " [2503, 470],\n",
              " [71, 1159, 936, 3057, 1208, 2430, 2021, 527, 2394, 2173, 2908, 279],\n",
              " [1627, 4724, 2572, 3560, 3788, 4150, 2084, 2173, 2908, 279],\n",
              " [3661, 942, 89, 175, 274, 3103, 848, 1804, 1782, 4374],\n",
              " [546, 1442, 62, 2294, 2482, 255, 146, 3979, 4551, 4745, 2306],\n",
              " [1018, 370, 3264, 4904, 607, 3509, 3470, 4550, 4507, 4374],\n",
              " [3615, 1700, 3315, 3078, 4242, 132, 2546, 1189],\n",
              " [2804],\n",
              " [3134, 3108, 1328, 221, 4717, 2260, 2276, 2173, 2908, 279],\n",
              " [1627, 2058, 448, 3242, 3564, 292, 2173, 2908, 279],\n",
              " [1207, 1867, 2127, 1937, 4976],\n",
              " [394, 1799, 962, 2544, 1944, 1651, 3704, 3838, 4344, 2544, 1944, 1651, 3704],\n",
              " [4390, 4539, 3096, 4145, 4934, 2173, 2908, 279],\n",
              " [2155, 2513, 3520, 569, 1627, 2173, 4793, 3025, 2173, 2908, 279],\n",
              " [4682, 4485, 2844, 62, 569, 1627, 4596, 2429, 2173, 2908, 279],\n",
              " [1472, 3824, 2810, 932, 390, 596, 2173, 2908, 279],\n",
              " [3177, 4912, 936, 4539, 666, 3559, 695],\n",
              " [494, 3340, 3867, 1880, 2485, 2430],\n",
              " [2274, 4002, 3911, 2655, 3131, 3585, 3538, 962, 279, 2173, 2908, 279],\n",
              " [4052, 4820, 4122, 3799, 2173, 2538, 2394, 4374],\n",
              " [1627, 2158, 3138, 2800, 3183, 1027, 4051, 830, 2495, 2173, 2908, 279],\n",
              " [1238, 112, 3620, 3279, 901, 1997, 3190, 3042, 4135, 1913, 3541, 3506, 4374],\n",
              " [4414, 786, 693, 4843, 4092, 2121, 2173, 2908, 279],\n",
              " [725, 1519, 2549, 2546, 4527, 2541, 418],\n",
              " [1565, 2482, 363, 942, 3230, 2173, 2908, 279],\n",
              " [2832, 2443, 3163, 4302, 2298, 4358, 4374],\n",
              " [3498, 905, 3615],\n",
              " [3722, 1831, 2366, 2444, 3055, 3767, 4775, 639, 2641],\n",
              " [2744, 818, 4693, 3269, 4565, 3478, 621, 1880, 1842, 1093, 1322],\n",
              " [2012, 112, 17, 3769, 4283, 1624, 1627, 4242],\n",
              " [2237, 4749, 4626, 145, 4267, 121, 3289, 1627, 2757, 4374],\n",
              " [3982, 464, 916, 146, 1627, 1250, 4368],\n",
              " [4888, 3897, 241, 2173, 1632, 2765, 4374],\n",
              " [688,\n",
              "  2197,\n",
              "  3912,\n",
              "  4426,\n",
              "  3314,\n",
              "  1253,\n",
              "  2893,\n",
              "  688,\n",
              "  2197,\n",
              "  115,\n",
              "  1934,\n",
              "  2753,\n",
              "  3052,\n",
              "  3079],\n",
              " [671, 2469, 4130, 2744],\n",
              " [3432, 418, 37, 3662, 1337, 1193, 3198, 2173, 2908, 279],\n",
              " [2062, 2513, 3120, 291, 2173, 2908, 279],\n",
              " [4765, 3656, 403, 1319, 2063, 2270, 2173, 2908, 279],\n",
              " [4170, 2065, 283, 1090, 3560, 3437, 2587, 528, 2329, 951],\n",
              " [18, 527, 1980, 1427, 1250, 3242, 2173, 2908, 279],\n",
              " [4515, 1627, 3275, 1781, 3615, 832, 695, 2045, 1541, 4374],\n",
              " [968, 1700, 3000, 1250, 3578, 3670],\n",
              " [1961, 918, 370, 2429, 2757, 4244, 3674, 1627],\n",
              " [951, 1078, 3698, 1627, 2412, 1558, 432, 1007, 2173, 2908, 279],\n",
              " [1191, 4912, 1631, 4010, 1707, 1112, 2614, 1141, 2173, 2908, 279],\n",
              " [1791, 4116, 3800, 2173, 2908, 279],\n",
              " [3970, 4586, 528, 2594, 3905, 2173, 2908, 279],\n",
              " [279, 695, 801, 2173, 2908, 279],\n",
              " [936, 1651, 4083, 863, 2858, 4015, 4921, 1041, 3897, 2173, 2908, 279],\n",
              " [3925, 4770, 3541, 234, 185, 2503, 3509, 799],\n",
              " [2356, 586, 464, 4926, 832, 2017, 1156, 3987],\n",
              " [1082, 4381, 4273, 4662, 1971, 4845, 3786, 2173, 2908, 279],\n",
              " [1627, 2800, 1855, 2693, 1990, 241, 4415, 1121, 4374],\n",
              " [2169, 2266, 4714, 1853, 3410, 556],\n",
              " [2282, 1627, 2084, 695, 4678, 1946, 4746, 2173, 2908, 279],\n",
              " [2732, 3443, 4682, 1940, 392, 1057, 2550, 1873],\n",
              " [4291, 4073, 4105, 1639, 4959, 2173, 2908, 279],\n",
              " [2374, 4204, 1920, 4888, 954, 2577, 2173, 2908, 279],\n",
              " [1514, 3437, 4748, 1627, 3880, 2050, 1398],\n",
              " [1541, 3967, 3013, 4866, 1106, 4076, 603, 2776, 2173, 2908, 279],\n",
              " [3106, 4325, 1627, 288, 2493, 2847, 2173, 2908, 279],\n",
              " [569, 1627, 1328, 2546, 1148, 62],\n",
              " [1610, 863, 2504, 3662, 4389, 1907, 3163, 2098, 2173, 2908, 279],\n",
              " [258, 1156, 383, 4170, 4746, 3052, 2367],\n",
              " [3509, 750, 3297, 968, 2655, 2173, 2908, 279],\n",
              " [1627, 2369, 4264, 3315, 359, 4291, 2173, 2908, 279],\n",
              " [4566, 4069, 2980, 3947, 4940, 4836, 2123, 3870],\n",
              " [1627, 832, 4976],\n",
              " [2045, 3105, 164, 1023, 2557, 2152, 1791, 2173, 2908, 279],\n",
              " [4668, 2645, 2108, 2794, 3243, 1558, 3754, 3826, 1086, 581, 2640, 4374],\n",
              " [569, 1627, 3452, 1061, 4546, 1346, 443, 966, 3046, 3991, 2173, 2908, 279],\n",
              " [2370, 3967, 1390, 830, 1103, 2173, 2908, 279],\n",
              " [2819, 81, 2402, 1442, 4325, 1563, 2173, 2908, 279],\n",
              " [569,\n",
              "  1627,\n",
              "  3464,\n",
              "  1651,\n",
              "  4709,\n",
              "  2744,\n",
              "  688,\n",
              "  387,\n",
              "  4303,\n",
              "  3541,\n",
              "  3834,\n",
              "  3264,\n",
              "  328,\n",
              "  2173,\n",
              "  2908,\n",
              "  279],\n",
              " [4384, 566, 1627, 3213, 1325, 2707, 2173, 2908, 279],\n",
              " [2111, 603, 1015, 62, 2647, 2640],\n",
              " [1627, 818, 4160],\n",
              " [4888, 2773, 2745, 241, 3078, 1565, 4374],\n",
              " [1997, 2774, 643, 4832, 4463, 4279, 172, 1627, 436, 1406, 967, 725, 4780],\n",
              " [3006, 460, 3725, 3508, 3969, 2544, 4799],\n",
              " [18, 1936, 4667, 1588, 109, 4170],\n",
              " [3974, 4168, 2238, 1195, 822],\n",
              " [2609, 1248, 2629, 1017, 3548, 1907, 2012, 110, 1148, 242, 2173, 2908, 279],\n",
              " [2389, 2744, 688, 2109, 4374],\n",
              " [3798, 363, 750, 994, 3117, 1817, 418, 4555, 50],\n",
              " [4793, 4323, 2504, 3979, 2495, 2436, 2319, 924],\n",
              " [2733, 942, 3987, 4344],\n",
              " [4445, 716, 3664, 874, 4981, 4142, 2123, 2607],\n",
              " [3551, 4157, 3105, 3351],\n",
              " [3221, 370, 3559, 818, 3273, 508, 2628, 385],\n",
              " [334],\n",
              " [353, 681, 2065, 279, 3342, 1463, 2173, 2908, 279],\n",
              " [1627, 3071, 2844, 361, 2557, 2647],\n",
              " [759, 4819, 1587, 1253, 4763, 2173, 2908, 279],\n",
              " [1446, 2539, 1209, 11, 1657, 4083, 1627, 3847],\n",
              " [3632, 1519, 2549, 883, 2493, 1627, 2704],\n",
              " [1208, 3103, 4409, 1966, 508, 1627, 678, 4374],\n",
              " [95, 370, 4176, 4810, 1871, 2361, 3581, 2084, 2173, 2908, 279],\n",
              " [1051, 3209, 2075],\n",
              " [3068, 3442, 4577, 3000, 4368, 2173, 2908, 279],\n",
              " [1214, 3492, 284, 3467, 4261, 1069, 2262, 2221, 4574, 4374],\n",
              " [2260, 1009, 3969, 1507, 4613, 4998, 967, 786, 2173, 2908, 279],\n",
              " [3559, 2744, 387, 4358, 2971, 4202, 3987],\n",
              " [3726, 2294, 2596, 9, 2543, 132, 2330, 2614, 2671, 652, 3509],\n",
              " [2744, 490, 1880, 2865, 4377],\n",
              " [379, 4344, 1627, 1530, 1355, 2705, 1976, 2173, 2908, 279],\n",
              " [3585, 1610, 1206, 2986, 1073, 3561, 2173, 2908, 279],\n",
              " [1565, 2246, 616, 839, 144, 3585],\n",
              " [1112, 4430, 2707, 3506, 968, 178, 714, 2173, 2908, 279],\n",
              " [552, 4909, 3506, 4574, 1831, 4452, 4452],\n",
              " [324, 1378, 556, 368, 541, 3000, 2173, 2908, 279],\n",
              " [1907, 2061, 2353, 2493, 1907, 1894, 2508, 1886],\n",
              " [4471, 1786, 2323, 1639, 2395, 4164, 4526, 328, 3131, 3561],\n",
              " [1880, 535, 2295, 147, 2564, 2168, 4374],\n",
              " [3829, 4329, 3429, 2976, 2065, 3133, 2394, 485, 2173, 2908, 279],\n",
              " [1577, 50, 228, 2774, 2482, 202],\n",
              " [2364, 3239, 1915, 750, 3974, 3785, 4745, 1408, 4334, 50, 4374],\n",
              " [2704, 2484, 530, 714, 9, 3359, 4609, 1893],\n",
              " [2546, 3850, 2539, 1398, 592],\n",
              " [1627, 2172, 2195, 403, 4242, 3869, 3559, 830, 968, 2173, 2908, 279],\n",
              " [1018, 1588, 3986, 1627, 4642, 2126, 2546, 592, 4374],\n",
              " [2158, 3177, 62, 1627],\n",
              " [1043, 4994, 832, 1541, 699, 775, 145],\n",
              " [1527, 3411, 1643, 213, 1520, 499, 918, 3834, 4291],\n",
              " [2918, 2539, 1112, 695, 1627, 3167],\n",
              " [3559, 253, 569, 1627, 2846, 659, 1538, 4696, 4278, 664, 2173, 2908, 279],\n",
              " [3509, 2866, 4334, 1990, 743, 2870, 1734, 3747, 253, 4948, 2173, 2908, 279],\n",
              " [1269, 2282, 827, 2109, 2109, 2109, 2173, 2908, 279],\n",
              " [994, 3729, 1423, 1990, 1990, 246, 98, 1886],\n",
              " [2744, 4742, 541, 3909, 2744, 1103, 128, 4597, 4749],\n",
              " [3720, 3052, 1360, 967, 4763, 2173, 2908, 279],\n",
              " [4682, 3180, 1149, 3124, 936, 4000, 3869, 4036, 2173, 2908, 279],\n",
              " [1627, 839, 3297, 1445, 936, 2297, 3212, 2197, 1081, 442, 3497, 980, 4374],\n",
              " [3905, 1174, 3320, 4507, 2947, 4428],\n",
              " [3437, 1309, 3960, 3284, 2549, 2744, 4299, 508],\n",
              " [4489, 1712, 3457, 50, 791, 2173, 2908, 279],\n",
              " [3817, 4423, 535, 2893, 1459, 369, 1627, 4626, 4374],\n",
              " [2111, 525, 3103, 1624, 2299, 1528, 3582, 1627, 2173, 2908, 279],\n",
              " [438, 2506, 3000, 769, 2995, 2173, 2908, 279],\n",
              " [535, 3132, 688, 4377, 626, 2469, 1807, 3863, 2173, 2908, 279],\n",
              " [1207, 2288, 936, 1654, 1214, 4305, 204, 3320, 2359, 4278, 499, 2295],\n",
              " [283, 3744, 2188, 3166, 1281, 119, 3743, 2173, 2908, 279],\n",
              " [2539, 4456, 1610, 3385, 2822, 403],\n",
              " [4334, 2298, 2236, 255, 2142, 4894],\n",
              " [4070,\n",
              "  928,\n",
              "  2173,\n",
              "  2908,\n",
              "  279,\n",
              "  4242,\n",
              "  4157,\n",
              "  2774,\n",
              "  4738,\n",
              "  996,\n",
              "  3767,\n",
              "  2623,\n",
              "  2792,\n",
              "  2173,\n",
              "  2908,\n",
              "  279],\n",
              " [1491, 4538, 3144, 883, 688, 3701, 569, 1627, 3847, 4374],\n",
              " [3712, 3158, 3559, 2229, 409, 3449, 1257, 3070, 1861, 2539, 4374],\n",
              " [665, 1970, 763, 1446, 2173, 2908, 279],\n",
              " [2227, 1238, 2001, 2285, 535, 3582, 3411],\n",
              " [2482,\n",
              "  4792,\n",
              "  2640,\n",
              "  514,\n",
              "  1589,\n",
              "  3328,\n",
              "  2972,\n",
              "  472,\n",
              "  1507,\n",
              "  3722,\n",
              "  1370,\n",
              "  397,\n",
              "  98,\n",
              "  1893],\n",
              " [2539, 1187, 3662, 4368, 1721, 3564, 1610, 2844, 2173, 2908, 279],\n",
              " [2278, 3273, 1687, 3051, 1627, 2065, 603, 3982, 2834, 541, 4374],\n",
              " [4727, 4897, 1886, 3585, 695, 4646, 4036, 4374],\n",
              " [1191, 3171, 3573, 994, 4268, 3567, 2361, 3133],\n",
              " [707, 1029, 2893, 3968, 1402, 3859, 2982],\n",
              " [4191, 1184, 717, 2744, 1103, 228, 1639, 228, 2062],\n",
              " [2158, 2870, 4283, 2858, 2173, 4128, 4897, 2173, 2908, 279],\n",
              " [4157, 541, 2885, 2658, 4042, 152, 3204, 4418, 1450],\n",
              " [830, 1103, 4574, 4733, 4051, 4028, 2430, 4374],\n",
              " [1694, 535, 198, 3967, 2794, 4415, 1867, 2430, 4374],\n",
              " [129, 118, 3302, 1406, 753, 4539, 4976, 3991, 3429, 2290],\n",
              " [688, 818, 2875, 4682, 643, 4577, 2625, 3457, 2577, 4812, 2522, 421],\n",
              " [3559, 4263, 3077, 4843, 1253, 1627, 2173, 2908, 279],\n",
              " [4547, 1156, 4179, 22, 1021, 4381, 3963, 2173, 2908, 279],\n",
              " [3127, 1253, 1685, 3133, 1513, 409, 112, 1913, 2088],\n",
              " [2522, 1311, 3533, 507, 3423],\n",
              " [2210, 1627, 1567, 1524, 2858, 915, 4028, 4374],\n",
              " [2577, 291, 279, 403, 2173, 2908, 279],\n",
              " [3193, 2774, 2515, 1560, 4334, 1544, 887, 4860, 621, 873, 3498],\n",
              " [3315, 4594, 1546, 448, 4169, 4430, 2707, 2173, 2908, 279],\n",
              " [4008, 3362, 3350, 4613, 2451, 725, 4374],\n",
              " [1728, 420, 1799, 234, 1627, 206, 4374],\n",
              " [1627, 3880, 1786, 213],\n",
              " [470, 2546, 4569, 2909, 4591, 2173, 2908, 279],\n",
              " [3559, 244, 508, 177, 3719, 947, 2844, 3076, 1593, 2173, 2908, 279],\n",
              " [2173, 1882, 4909, 3399, 1948, 1731, 4389, 607, 3231, 2173, 2908, 279],\n",
              " [4293, 2443, 4897, 3509, 2195, 234, 546, 2035, 4374],\n",
              " [3977, 4422, 231, 4746, 3654, 4954],\n",
              " [3429, 942, 2173, 2908, 279],\n",
              " [4204, 1621, 3559, 1643, 4445, 3477, 3021, 3111],\n",
              " [159, 1697, 3429, 4043, 4570, 1774, 536, 1066, 2160, 4374],\n",
              " [280, 3051, 4256, 725, 2173, 2908, 279],\n",
              " [4626,\n",
              "  3273,\n",
              "  3737,\n",
              "  1627,\n",
              "  2870,\n",
              "  4108,\n",
              "  3722,\n",
              "  2640,\n",
              "  4179,\n",
              "  1271,\n",
              "  3980,\n",
              "  2899,\n",
              "  4374],\n",
              " [443, 430, 1760, 2021, 430, 3793, 4240, 430],\n",
              " [2319, 4748, 1560, 4294, 3564, 4444, 2556, 2173, 2908, 279],\n",
              " [4109, 1273, 3573, 1391, 4569, 2308],\n",
              " [4221, 4263, 996, 464, 3057, 4409, 2464, 458, 3190],\n",
              " [2496, 4157, 3105, 3351],\n",
              " [1627, 3847, 4485, 403, 2267, 4780, 178, 4374],\n",
              " [1627, 2933, 3297, 822, 4320, 234, 3502, 4034, 2173, 2908, 279],\n",
              " [3233, 3910, 753, 4539, 2278, 4812, 2774, 4374],\n",
              " [1722, 4340, 1536, 1379, 3246, 2887, 325],\n",
              " [3559, 2744, 688, 2229, 1558, 4912, 4504, 2482],\n",
              " [2512, 4642],\n",
              " [1486, 1224, 1439, 3006, 410, 2544, 859],\n",
              " [1210, 947, 695, 4756, 3686, 4904, 4108, 2173, 2908, 279],\n",
              " [738, 1993, 2394, 3230, 2947, 4648, 4428, 2173, 2908, 279],\n",
              " [641, 1920, 810, 1627, 3042, 4437, 2926, 1651, 2088, 3975],\n",
              " [3800, 984, 4551, 175, 3585, 2375, 1443, 4551, 1471, 2298],\n",
              " [1217, 1225, 340, 3620, 4989, 4749, 2655, 2173, 2908, 279],\n",
              " [1907, 3629, 1459, 717, 1072, 2482, 2846, 1936, 4452, 3444, 832, 1468],\n",
              " [1528],\n",
              " [4294, 3722, 3860, 717, 3538, 2365, 3987, 546, 980, 4374],\n",
              " [4087,\n",
              "  2334,\n",
              "  1821,\n",
              "  2705,\n",
              "  3977,\n",
              "  4130,\n",
              "  925,\n",
              "  832,\n",
              "  4142,\n",
              "  526,\n",
              "  1106,\n",
              "  2173,\n",
              "  4462,\n",
              "  1179],\n",
              " [4294, 3722, 665, 313, 4117, 733, 2890, 3987, 763, 810],\n",
              " [2607, 3055, 1823, 2858, 2189, 3759, 1116, 1456, 418],\n",
              " [2045, 2863, 234, 3103, 2238, 1718],\n",
              " [2173, 380, 2495, 2572, 2065, 1286, 3989, 2721],\n",
              " [2749, 4646, 4947, 3988, 4036, 4647, 2893, 1926, 237, 4374],\n",
              " [2451, 4173, 4396, 1126],\n",
              " [113, 38, 4982, 536, 3436, 1499, 727, 2173, 2908, 279],\n",
              " [3521, 1174, 1728, 2666, 543, 3904, 2809, 2173, 2908, 279],\n",
              " [4582, 2329, 4976, 4438, 4168, 3233],\n",
              " [725, 2173, 2908, 279],\n",
              " [1610, 2893, 4621, 111, 3021, 206],\n",
              " [1214, 3492, 4966, 3278, 517, 2597, 3354, 744, 2158, 3850, 4592],\n",
              " [4943, 3824, 2084, 3497, 936, 4317, 2342],\n",
              " [652, 955, 76, 3351, 1613, 2173, 2908, 279],\n",
              " [2744, 688, 4416, 3905, 2680, 1773, 2865, 2112, 2295],\n",
              " [2733, 4095, 255, 4866, 2152, 3275, 2173, 2908, 279],\n",
              " [3870, 1589, 4294, 1250, 2225],\n",
              " [695, 3687, 1621, 832, 1454, 2467, 1541],\n",
              " [3863, 4522, 2544, 1524, 596, 595, 455, 4278, 4932, 2173, 2908, 279],\n",
              " [832, 969, 1747, 3207, 3987, 3844, 1443, 2236],\n",
              " [1127, 4590, 4505, 2680, 2326, 3117, 725, 2173, 2908, 279],\n",
              " [1314, 4709, 2609, 1029, 3625, 132, 942, 4709, 4577, 4374],\n",
              " [3870, 2686, 2508, 2928, 2647, 1781, 3507, 2922, 4896, 1158],\n",
              " [2065, 549, 2028, 3559, 1627, 387, 4896, 2184, 4254],\n",
              " [1643, 4760, 2637, 1343, 1589, 868, 2080, 775, 2173, 2908, 279],\n",
              " [2482, 1596, 4652, 4278, 2548, 3429, 4504, 3561],\n",
              " [148, 4982, 14, 1639, 936, 2414, 4374],\n",
              " [4046, 3506, 502, 2173, 2908, 279],\n",
              " [2851, 517, 3772, 1886, 2666, 750, 1765, 4374],\n",
              " [4074, 2493, 1598, 2173, 2908, 279],\n",
              " [832, 958, 4897, 3687, 3629, 884, 1541, 4170, 1589, 1513, 3726, 1321],\n",
              " [2173, 688, 4377, 1519, 4217, 873, 4223, 1773, 2865],\n",
              " [2585, 329, 4897, 3850, 2079, 283, 2065, 839, 2173, 2908, 279],\n",
              " [968, 3561, 2173, 2908, 279],\n",
              " [2726, 1286, 2492, 3336, 2173, 2908, 279],\n",
              " [2704, 3559, 2713, 3464, 4749, 2126, 4374],\n",
              " [1966, 2549, 1737, 3705, 1267, 2173, 4122, 2844, 2173, 2908, 279],\n",
              " [556, 4036, 76, 725, 2173, 2908, 279],\n",
              " [3589, 1902, 2234, 4116, 4878, 2173, 2908, 279],\n",
              " [582, 2261, 1627, 2532, 3951, 1835, 2173, 2908, 279],\n",
              " [4943,\n",
              "  2614,\n",
              "  3406,\n",
              "  3812,\n",
              "  1250,\n",
              "  3541,\n",
              "  1610,\n",
              "  4323,\n",
              "  4553,\n",
              "  2392,\n",
              "  2925,\n",
              "  3827,\n",
              "  3325,\n",
              "  2907],\n",
              " [3585, 3905, 4116, 1892, 1786, 1770, 603, 4374],\n",
              " [2278, 514, 2684, 3827, 3446, 4209, 4763, 2173, 2908, 279],\n",
              " [3905, 1174, 2849, 4764, 3935, 2504],\n",
              " [3457, 2577, 220, 643, 4377, 2334, 2543, 3179, 3473],\n",
              " [569, 1627, 1570, 2969, 3754, 2055, 62, 3731, 1442, 2173, 2908, 279],\n",
              " [3097, 448, 4746, 3660, 1286, 832, 3190, 3969, 509, 1688],\n",
              " [4368, 1456, 2734, 605, 1281, 690, 3982],\n",
              " [1610, 2098, 1408, 1493, 1475, 1937, 2623, 3055, 4776, 3000, 4887, 4374],\n",
              " [479, 152, 3204, 4555, 923, 843, 415, 676],\n",
              " [2628, 2846, 1936, 4780, 4228, 1468, 4734, 1442, 1867, 3120],\n",
              " [2744, 2670, 569, 1627, 695, 676, 2295],\n",
              " [3378, 1627, 523, 783, 2982, 147, 211, 411, 1627, 4374],\n",
              " [4519, 2369, 4925, 2613, 1161, 492, 1826, 578, 2062, 2173, 2908, 279],\n",
              " [1627, 966, 4812, 43, 1643, 418, 686, 2217, 2904, 2173, 2908, 279],\n",
              " [569, 1627, 4739, 1337, 4582, 1243, 2544, 2533, 893, 3286],\n",
              " [4514, 4130, 2397, 4512, 146, 2926],\n",
              " [1541, 936, 2061, 3046, 1036, 3405, 2969, 4023, 1390],\n",
              " [3502, 1842, 2729, 1886, 1065, 1786],\n",
              " [4839, 3506, 727, 810, 3967, 951, 2173, 2908, 279],\n",
              " [4507, 1621, 1164, 1990, 1782, 2870, 1835, 535, 4539],\n",
              " [1314, 918, 1528, 3559, 2645, 3987, 2236, 1886],\n",
              " [3442, 705, 4200, 793, 1867, 4918, 2173, 2908, 279],\n",
              " [2314, 4015, 3497, 775, 1943, 326, 4722, 3264, 462],\n",
              " [1239, 4800, 2509, 4051, 1474, 2370, 454, 4036, 2744, 688, 2225, 119, 4976],\n",
              " [1558, 3057, 1621, 2513, 3585, 1639, 22, 2173, 2908, 279],\n",
              " [932, 1621, 1065, 4191, 688, 1654],\n",
              " [1627, 966, 3948, 2456, 2364, 3470, 3071, 2173, 2908, 279],\n",
              " [595, 1740],\n",
              " [1627, 4818, 4148, 4381, 40, 4334, 2402, 2556, 1033, 2870, 772, 4226, 2704],\n",
              " [3163, 2828, 1610, 4368, 652],\n",
              " [3982, 3183, 2104, 4438, 2704],\n",
              " [76, 4390, 3987, 4771, 3722, 1217, 1262],\n",
              " [4943,\n",
              "  2637,\n",
              "  760,\n",
              "  687,\n",
              "  2746,\n",
              "  2539,\n",
              "  4719,\n",
              "  4912,\n",
              "  880,\n",
              "  2637,\n",
              "  760,\n",
              "  687,\n",
              "  2746,\n",
              "  2539,\n",
              "  4719,\n",
              "  4912,\n",
              "  880,\n",
              "  2173,\n",
              "  2909,\n",
              "  3233],\n",
              " [178, 1589, 3042, 213, 4919],\n",
              " [1479, 994, 2947, 1722, 3040, 2290],\n",
              " [4294, 2045, 2513, 1584, 2305, 1789, 4415, 4753, 3561, 4344, 2822, 4976],\n",
              " [1651, 4586, 569, 1627, 1514, 4406, 603, 588, 2173, 2908, 279],\n",
              " [2278, 4229, 2208, 4091, 2844, 133, 1960, 27, 1572, 1253, 4027, 4374],\n",
              " [3845, 3905, 3927, 266, 3000],\n",
              " [3826,\n",
              "  135,\n",
              "  3559,\n",
              "  3729,\n",
              "  603,\n",
              "  3559,\n",
              "  3509,\n",
              "  2845,\n",
              "  308,\n",
              "  2236,\n",
              "  2151,\n",
              "  1979,\n",
              "  1165,\n",
              "  22,\n",
              "  3487,\n",
              "  2704],\n",
              " [4428, 330, 664, 2628],\n",
              " [1731, 178, 1248, 688, 3405, 1442, 1507],\n",
              " [1627, 1565, 3331, 1651, 2173, 4462, 1179],\n",
              " [4150, 272, 103, 2084, 688, 1627, 659, 1712, 2173, 2908, 279],\n",
              " [283, 3498, 2546, 3600, 4947, 2257, 1990, 2173, 2908, 279],\n",
              " [2065, 2922, 2375, 4711, 4980, 2539, 582, 873, 834, 1976],\n",
              " [3786, 603, 3209, 4445, 3477, 3021, 206],\n",
              " [3975, 4832, 3120, 2956, 510, 1835, 4596, 1643, 4445],\n",
              " [4135, 3925, 3439, 2457, 4921, 206, 393, 2893, 4542, 1001, 4374],\n",
              " [4626, 2152, 4571, 455, 4127, 3615],\n",
              " [1648, 279, 3640, 624, 2550, 2647, 1370],\n",
              " [1215, 4027, 295, 2125, 3662, 1430, 2953, 2964],\n",
              " [4723, 1627, 2757, 3650, 4662, 2173, 2908, 279],\n",
              " [258, 942, 2822, 187, 4551, 4278, 263, 443, 1544, 395, 81, 4157, 4886],\n",
              " [4519, 1321, 793, 1627, 822, 1978, 4128, 1423],\n",
              " [3687, 132, 1627, 1996, 369, 4461, 3956, 3636, 4940],\n",
              " [2736, 106, 3535, 3242, 2606, 2236, 2148, 1383, 4452, 2173, 2908, 279],\n",
              " [4587, 2475, 2833, 1253, 528, 2087, 1731, 1720, 124, 2173, 2908, 279],\n",
              " [3905, 1174, 2791, 4518, 3933, 2364, 181, 3330, 1237, 2792],\n",
              " [370,\n",
              "  1454,\n",
              "  4141,\n",
              "  3431,\n",
              "  2647,\n",
              "  729,\n",
              "  4836,\n",
              "  506,\n",
              "  2120,\n",
              "  226,\n",
              "  1627,\n",
              "  4836,\n",
              "  2123,\n",
              "  4374],\n",
              " [1585, 2646, 1789, 3729, 2543, 2757],\n",
              " [1936, 2173, 2908, 1610, 4734, 3630, 4128, 4897, 2173, 2908, 279],\n",
              " [1627, 1584, 887, 4752, 4075, 2128, 2173, 2704, 2347, 1610, 3867],\n",
              " [2323, 2852, 4087, 2283, 4613, 338, 4580, 3056, 2173, 2908, 279],\n",
              " [3198, 1627, 185, 3687, 2844, 3561, 2065, 2824, 1159, 4374],\n",
              " [2664, 3687, 4546, 918, 3302, 4918, 3166, 4170, 2043, 2664, 3687],\n",
              " [1208, 4850, 3233, 3836, 4734, 3640, 4662, 4374],\n",
              " [3561, 3742, 2550, 4836],\n",
              " [1649,\n",
              "  4551,\n",
              "  3101,\n",
              "  750,\n",
              "  2314,\n",
              "  2277,\n",
              "  1934,\n",
              "  666,\n",
              "  2294,\n",
              "  3465,\n",
              "  4023,\n",
              "  4241,\n",
              "  695,\n",
              "  2844,\n",
              "  4374],\n",
              " [2866, 2709, 1715, 2704, 4284, 1145, 959, 2173, 2908, 279],\n",
              " [2112, 4461, 2484, 1272, 253, 3350, 3905, 4020, 2707],\n",
              " [643, 150, 3264, 4692, 4377],\n",
              " [3599, 2154, 4713, 3079, 603, 3351],\n",
              " [582, 738, 1638, 582, 1403, 65, 2744, 1447, 1627, 1638, 4242],\n",
              " [3320, 1780, 4926, 4214, 3686, 4128, 2911, 769, 2061, 2704],\n",
              " [2744, 688, 3509, 3408, 119, 1283, 3408, 2682, 541, 2173, 2908, 279],\n",
              " [832, 2945, 1383, 4000, 3439, 2158, 775, 243],\n",
              " [843, 418, 344, 1191, 3424, 1731, 4662, 4976, 603, 3897],\n",
              " [113, 2596, 2549, 4228, 1328, 3561, 773, 2482, 2896, 4207, 1826, 4374],\n",
              " [409, 3449, 4389, 1472, 3406, 1584, 2173, 2908, 279],\n",
              " [228, 1627, 2539, 259, 1893, 1356],\n",
              " [4574, 688, 1465, 2858, 635, 2744, 277],\n",
              " [1541,\n",
              "  702,\n",
              "  4919,\n",
              "  3407,\n",
              "  3543,\n",
              "  4688,\n",
              "  4586,\n",
              "  1431,\n",
              "  3508,\n",
              "  2079,\n",
              "  2514,\n",
              "  4140,\n",
              "  3181,\n",
              "  2299,\n",
              "  3860],\n",
              " [1353, 3905, 4723, 681, 2507, 2267, 4433, 2173, 2908, 279],\n",
              " [3585, 1627, 4724, 922, 125, 4127, 3264, 4438, 4374],\n",
              " [4574, 688, 1096, 753, 526, 4217, 2546, 2010, 1635, 3559, 3905],\n",
              " [3488, 2567, 4579, 1789, 2096, 2543, 535, 2102, 1195],\n",
              " [3282, 1627, 119, 603],\n",
              " [1649, 2606, 3251, 265, 4921, 357, 3103, 2484, 2173, 2908, 279],\n",
              " [1763, 120, 1313, 294, 2460, 2112, 952, 2826, 2173, 2908, 279],\n",
              " [105, 241, 1322, 784, 4775, 710, 4374],\n",
              " [357, 2914, 1328, 3502, 3867, 3561, 664, 2128, 2173, 2908, 279],\n",
              " [481, 1263, 1627, 1584, 134, 3782, 1490, 2306, 430],\n",
              " [234, 1651, 1627, 1842, 4836, 4677, 1964, 113, 2596, 2819],\n",
              " [3254, 2946, 2000, 4645],\n",
              " [1627, 2021, 4770, 760, 4812, 3233, 2647, 1544, 4374],\n",
              " [2323, 2852, 2589, 1577, 1322, 1914, 1263, 2922, 2173, 2908, 279],\n",
              " [1646, 1842, 4879, 411, 4512, 3236, 2173, 2908, 279],\n",
              " [2063, 135, 3729, 588, 581, 4519, 2173, 2908, 279],\n",
              " [3506, 185, 4358, 1021, 3006, 253, 1997, 936, 621, 2173, 2908, 279],\n",
              " [2539, 3958, 228, 2000, 2504, 4748, 1103, 4525, 2173, 2908, 279],\n",
              " [38, 2021, 2170, 1356, 2718, 1541, 2075, 2910, 2173, 2908, 279],\n",
              " [274, 3619, 1114, 2886, 2572, 1258, 1770, 2546, 3689],\n",
              " [569, 1627, 3559, 4222, 4824, 2707, 2173, 2908, 279],\n",
              " [],\n",
              " [2125, 4160, 2546, 592, 3626, 2442],\n",
              " [1977, 4020, 2810, 744, 4109, 2914, 220, 616, 1065],\n",
              " [3786, 4303, 3264, 2173, 3905],\n",
              " [4943, 1610, 2646, 4886, 3615, 2744, 2298, 1718, 4655],\n",
              " [3975, 4832, 3774, 2771, 794, 113, 2596, 2744, 688],\n",
              " [1627, 651, 4570, 3991, 1442, 2173, 2908, 279],\n",
              " [3164, 200, 1174, 1267, 1627, 4976, 3264, 4636, 3722],\n",
              " [4214, 2933, 2364, 4409, 830, 2528, 4968, 2173, 2908, 279],\n",
              " [3831, 443, 1842, 2109, 3826, 4374],\n",
              " [2647, 2640, 409, 4836, 1639],\n",
              " [2425, 2170, 2572, 4060, 1791, 2425, 448, 125, 2802, 518, 1566, 1894, 1225],\n",
              " [95, 1588, 2395, 2173, 2908, 279],\n",
              " [2109, 775, 1662, 714, 2173, 2908, 279],\n",
              " [3006,\n",
              "  595,\n",
              "  2247,\n",
              "  2544,\n",
              "  494,\n",
              "  3150,\n",
              "  1291,\n",
              "  3838,\n",
              "  2046,\n",
              "  3229,\n",
              "  3675,\n",
              "  3465,\n",
              "  1387,\n",
              "  2544,\n",
              "  2559,\n",
              "  4218,\n",
              "  2533,\n",
              "  2127],\n",
              " [4626, 4242, 658, 133, 178, 1990, 3741, 1546, 1302, 2995, 4374],\n",
              " [462, 998, 3519, 3564, 292, 4582, 4569, 4374],\n",
              " [2084, 1541, 3779, 2927, 1264, 1248, 3826, 1341, 3052, 2614, 2671],\n",
              " [4888,\n",
              "  2879,\n",
              "  4531,\n",
              "  4471,\n",
              "  3397,\n",
              "  4845,\n",
              "  2896,\n",
              "  2794,\n",
              "  1720,\n",
              "  2577,\n",
              "  4800,\n",
              "  3350,\n",
              "  4374],\n",
              " [20, 4246, 1886, 3683, 4051, 3387, 928, 185, 399],\n",
              " [3153, 3573, 4919, 3991, 4943, 3392, 936, 1253, 4538, 3798, 592, 4374],\n",
              " [3767, 585, 3695, 4170, 942, 2214],\n",
              " [131, 4874, 2704, 1326, 3982, 881, 1124, 4299, 2794, 4374],\n",
              " [574, 3245, 592, 3754, 1442, 454, 969],\n",
              " [1782, 482, 4170, 1250, 2173, 2908, 279],\n",
              " [3312, 569, 1627, 2228, 3128, 3100, 2707, 2173, 2908, 279],\n",
              " [4092, 2744],\n",
              " [1022, 2505, 1584, 3439, 697, 2173, 2908, 279],\n",
              " [4943, 4508, 4116, 3254, 3484],\n",
              " [1031, 688, 1835, 1976],\n",
              " [2323, 26, 4228, 1565, 2549, 1627, 2173, 2908, 279],\n",
              " [2172, 4919, 3905, 1174, 1011, 541, 2173, 2908, 279],\n",
              " [2744, 688, 1854, 2120, 518, 2173, 2908, 279],\n",
              " [4179, 3112, 3830, 31, 3209, 1674, 4550],\n",
              " [1627, 2834, 3467, 4142, 2508],\n",
              " [2744, 1781, 856, 3498, 3656, 1250, 1007, 2148, 4504],\n",
              " [141, 1033, 3209, 3042, 2927, 2173, 2908, 279],\n",
              " [3541, 607, 792, 1195, 4656, 2173, 2908, 279],\n",
              " [1627, 2290, 4303, 4087, 2127, 3083, 2173, 2908, 279],\n",
              " [283, 4507, 4092, 393, 3470, 581, 4832, 3300, 2173, 2908, 279],\n",
              " [2252, 2171, 1643, 418, 3729, 1770, 1187, 1821, 2065, 2173, 2908, 279],\n",
              " [564, 1627, 2566, 1459, 211, 3391, 1156, 4374],\n",
              " [1061, 1880, 688, 4377, 1322, 1206, 2009, 1965, 798, 1627, 1191],\n",
              " [4932, 4217, 1343, 1546, 4122],\n",
              " [3315, 2, 1148, 2495, 3619, 3967, 2495, 1831, 4222, 4374],\n",
              " [4139, 1442, 2627, 3860, 4886, 4976, 1609, 3824, 718],\n",
              " [3656, 1383, 2402, 106, 3987, 4613, 4894],\n",
              " [1797, 664, 1507, 969, 693, 3740, 3439, 2173, 2908, 279],\n",
              " [2084, 3603, 4328, 936, 2686, 4976],\n",
              " [1627, 3748, 3596, 4749, 3585, 3905, 2680, 3967, 4191],\n",
              " [4485, 1627, 4897, 4976, 1343, 1250, 541, 4374],\n",
              " [1023, 603, 3585, 4722, 4790, 763, 810, 3561, 1639, 569, 1627],\n",
              " [4036, 2142, 4976],\n",
              " [],\n",
              " [3786, 603, 3209, 228, 4445, 3477, 3021, 206],\n",
              " [951, 3656, 1148, 242, 2886, 98, 1208, 3860],\n",
              " [27, 4550, 91, 4745, 3012, 3133, 3164, 50, 1459],\n",
              " [2572, 3561, 2744, 688, 2469],\n",
              " [1585, 3927, 3834, 729, 584, 775],\n",
              " [4976, 3958, 4231, 2173, 2595],\n",
              " [2744, 3057, 2028, 3559, 4381],\n",
              " [1975,\n",
              "  3420,\n",
              "  727,\n",
              "  2370,\n",
              "  1174,\n",
              "  4110,\n",
              "  4886,\n",
              "  357,\n",
              "  873,\n",
              "  2946,\n",
              "  237,\n",
              "  2173,\n",
              "  2908,\n",
              "  279],\n",
              " [4943,\n",
              "  3167,\n",
              "  4448,\n",
              "  3814,\n",
              "  4775,\n",
              "  3693,\n",
              "  3167,\n",
              "  4448,\n",
              "  3814,\n",
              "  4775,\n",
              "  3693,\n",
              "  1414,\n",
              "  3656,\n",
              "  2237],\n",
              " [569, 1627, 1886, 3351, 435, 3100, 2707, 2173, 2908, 279],\n",
              " [3000, 3747, 2028, 3559, 263, 2744, 2493, 1102, 2111],\n",
              " [2021,\n",
              "  3582,\n",
              "  2858,\n",
              "  1043,\n",
              "  4850,\n",
              "  2257,\n",
              "  666,\n",
              "  4454,\n",
              "  2095,\n",
              "  3673,\n",
              "  2858,\n",
              "  830,\n",
              "  1103,\n",
              "  3416,\n",
              "  4374],\n",
              " [2679,\n",
              "  4283,\n",
              "  3860,\n",
              "  1886,\n",
              "  3012,\n",
              "  819,\n",
              "  358,\n",
              "  4109,\n",
              "  2305,\n",
              "  2725,\n",
              "  717,\n",
              "  3570,\n",
              "  2690,\n",
              "  4374],\n",
              " [4943, 968, 4986, 3042, 4187],\n",
              " [4274, 4786, 2614, 3684, 911, 1281, 2173, 2908, 279],\n",
              " [1639, 1976, 2480, 2693, 1937, 4976],\n",
              " [4259, 921, 2546, 4850, 4386, 2173, 329, 4278, 434, 4321, 1517, 1099],\n",
              " [1627, 3687, 2493, 2158],\n",
              " [772, 178, 2136, 4460, 786, 3158, 4207, 3325],\n",
              " [3869, 4711, 1468, 1604, 357, 1425, 1942, 2173, 2908, 279],\n",
              " [2295, 2982, 1273, 4734, 2482, 4142, 326, 2704],\n",
              " [4582, 1442, 4582, 3385, 671, 90],\n",
              " [3829, 4698, 370, 1297, 2774, 4170, 1589, 1218, 725, 2173, 2908, 279],\n",
              " [3432, 2129, 1610, 4368, 2319, 2539, 839, 119, 3619, 2173, 2908, 279],\n",
              " [485, 4020, 3162, 3561, 3695, 3103, 908, 4036],\n",
              " [2318, 4549, 1610, 96, 3991, 2429, 2291, 4122, 2173, 2908, 279],\n",
              " [659, 4415, 3954, 2614, 2671],\n",
              " [2246, 3073, 1174, 4793, 3057, 150, 2822, 3905, 4879, 2173, 2908, 279],\n",
              " [2465, 3174, 1855, 3449, 753, 3416, 2844, 2774, 83],\n",
              " [2647, 2640, 4709, 385, 1997, 4636, 1627],\n",
              " [4673, 4850, 3078, 569, 1627, 2197, 1674, 3619],\n",
              " [4374, 2774, 4157, 436, 1406, 4374],\n",
              " [1627, 3233, 459, 562],\n",
              " [4294, 2728, 109, 2844, 1056, 4421, 3837, 4821, 2704, 4374],\n",
              " [4746, 4866, 2197, 4713, 3079, 3861, 1627, 2173, 2908, 279],\n",
              " [3236, 2832, 2886, 1893, 3599, 592, 116, 1033, 2173, 2908, 279],\n",
              " [714, 2647, 725, 3495, 3738, 4684, 2173, 2908, 279],\n",
              " [563, 1302, 822, 103, 3233, 1565, 1627, 4374],\n",
              " [584, 3769, 2010, 3826, 2318, 4711, 3769, 4283, 1639],\n",
              " [3979, 3437, 2577, 448, 3103, 2143],\n",
              " [945, 2173, 2764, 603],\n",
              " [1268, 4607, 2844, 4414, 76, 133],\n",
              " [283, 2468, 4938, 1966, 2513, 1850, 2550, 2549, 1627, 2173, 2908, 279],\n",
              " [3834, 211],\n",
              " [3103, 1580, 4764],\n",
              " [1627, 3506, 4463, 4746, 2080],\n",
              " [50, 3308, 436, 863, 2267, 3296, 2666, 96, 2173, 2908, 279],\n",
              " [4628, 1731, 1565, 2173, 2908, 581, 1355, 2173, 2908, 279],\n",
              " [3470, 860, 1263, 4567, 3471, 2111, 4374],\n",
              " [2577, 3470, 4375, 3423, 2851, 4949, 1635, 2079, 2173, 2908, 279],\n",
              " [4308, 1196, 4242, 4932, 942, 3429, 2173, 2908, 279],\n",
              " [3933, 213, 2927, 2173, 2908, 279],\n",
              " [4191, 4106, 2341, 2744, 4959, 3662, 1297, 3475],\n",
              " [4574, 3441, 967, 1627, 1442, 328, 185, 2173, 2282, 2173, 2908, 279],\n",
              " [4586, 2195, 2172, 973, 569, 1627, 1231, 2173, 2908, 279],\n",
              " [104,\n",
              "  4028,\n",
              "  3938,\n",
              "  1627,\n",
              "  695,\n",
              "  2173,\n",
              "  4170,\n",
              "  2693,\n",
              "  2614,\n",
              "  3506,\n",
              "  2834,\n",
              "  4910,\n",
              "  3933,\n",
              "  3670],\n",
              " [3550, 3826, 603, 4959, 2298, 432, 2647, 729, 657, 76, 4374],\n",
              " [569, 1627, 230, 244, 3925, 274, 1023, 3506, 1913, 4135, 3439],\n",
              " [],\n",
              " [4574, 2832, 3350, 1589, 4170, 3837, 2227, 725, 2173, 2908, 279],\n",
              " [4246, 3106, 109, 1886, 592, 31, 544, 2152, 2173, 2908, 279],\n",
              " [1546, 3190, 4574, 1224, 3465, 234, 2045, 599],\n",
              " [4912, 1560, 1287, 664, 3856, 725, 2173, 2908, 279],\n",
              " [2457, 925, 3407, 443, 4452, 291, 936, 470, 4374],\n",
              " [37, 538, 1859, 560, 499, 1607, 4335, 4676],\n",
              " [4626, 4118, 3475, 3315, 2369, 4291, 2232, 4681, 1507, 2369, 4374],\n",
              " [1770, 3989, 1512, 318, 515],\n",
              " [2402, 4027, 2226, 3042, 1102, 3319, 2173, 2908, 279],\n",
              " [3349, 1577, 3662, 414, 500, 62, 688, 2173, 2908, 279],\n",
              " [1627, 62, 1842, 234, 1627, 4546, 2762, 1948, 4116],\n",
              " [727, 4591, 2532, 786, 4122, 2221],\n",
              " [1627, 1907, 695, 1539, 3742, 1103, 4374],\n",
              " [1997, 1378, 3046, 646, 724, 2324, 942, 3767, 1475, 4896, 1513, 607],\n",
              " [3687, 3071, 2572, 1980, 1627, 3880, 3558, 4381, 2847, 2295],\n",
              " [901, 3724, 1627, 3124, 4752, 2822, 2173, 2908, 279],\n",
              " [1880, 688, 4377, 1322, 1206, 2009, 1965, 798, 1627, 1191],\n",
              " [2744, 1601, 3615, 3104, 321, 387],\n",
              " [3467, 608, 4244, 374, 2844, 1174, 2173, 2908, 279],\n",
              " [2545, 2484, 2392, 3467, 1263, 2290, 3702, 1623, 4976, 1381, 3385, 2822],\n",
              " [4574, 688, 387, 2858, 1195, 2134, 3698, 2744, 4976],\n",
              " [1028, 592, 2084, 3332, 2274, 3261, 541, 2173, 2908, 279],\n",
              " [1627, 253, 2075, 1541, 3047, 3502, 2173, 2908, 279],\n",
              " [3432, 291, 2298, 3987, 4407, 4630, 3465, 2385, 4832, 2173, 2908, 279],\n",
              " [3143, 4896, 566, 3572, 3740, 664],\n",
              " [1589, 2607, 230, 1607, 1370, 1565, 2109, 3120, 3134, 775],\n",
              " [1184, 2757, 2135, 4111, 2369, 234, 1627, 185],\n",
              " [584, 2263, 234, 639, 2495],\n",
              " [2828, 1610, 4703, 3295, 4586, 581, 603, 274, 4381, 1507, 3779, 916, 4374],\n",
              " [3967, 911, 3551, 395, 1301, 1207, 916],\n",
              " [4264, 256, 4160, 2291, 2590, 4083, 3385, 2822],\n",
              " [2278,\n",
              "  357,\n",
              "  3467,\n",
              "  4261,\n",
              "  2221,\n",
              "  2402,\n",
              "  4950,\n",
              "  748,\n",
              "  1214,\n",
              "  3299,\n",
              "  1406,\n",
              "  3190,\n",
              "  2109,\n",
              "  4374],\n",
              " [4980, 3620, 3874, 76, 3674, 2028, 3559],\n",
              " [4112, 3264, 2609, 2896, 50, 4130, 489, 2792, 2173, 2908, 279],\n",
              " [2704, 1245, 2493, 1627, 1584, 887, 1250, 3193, 2774, 4587, 4879],\n",
              " [1936, 387, 4746, 371, 624],\n",
              " [968, 830, 4361, 231],\n",
              " [3190, 3078, 3135, 4862, 4919, 2195, 3923, 2173, 2908, 279],\n",
              " [4425, 4478, 1469, 3991, 222, 1381, 2173, 2908, 2833, 2173, 2908, 279],\n",
              " [241, 1406, 414, 50, 1437, 743, 1541, 3863, 2173, 2908, 279],\n",
              " [3163, 4151, 2364, 3892, 4368, 4587, 4824, 2173, 2908, 279],\n",
              " [830, 2528, 1842, 2160, 259, 2221, 1689, 4374],\n",
              " [3967, 3509, 2629, 3982, 4888, 2647, 1148, 3249],\n",
              " [4926, 1589, 370, 3551, 714, 3827, 1993, 4441, 119, 2819, 4776, 4921],\n",
              " [4629, 2810, 1250, 2744, 688, 1250, 313, 2139, 2206],\n",
              " [3190, 467, 2843, 4871, 3559, 2282, 4882, 4709, 3042, 2173, 2908, 279],\n",
              " [1644, 826, 1548, 983, 280, 1588, 1431, 1588, 2173, 2908, 279],\n",
              " [4678, 986, 3559, 3816, 688, 607, 1936, 2173, 2908, 279],\n",
              " [4260, 4752, 3074, 1627, 206, 3864, 2173, 2908, 279],\n",
              " [712, 3746, 936, 971, 2762, 2902, 2197, 2645, 1781, 1271],\n",
              " [1627, 4317, 1102, 2900, 3158, 2925, 4142, 2173, 2908, 279],\n",
              " [3640, 2106, 1610, 3827, 2402, 1997, 145, 397, 357, 1370, 2598],\n",
              " [4943, 4309, 3986, 3107, 4577, 71, 4309, 3397, 1529, 371, 3736],\n",
              " [3287, 2261, 1627, 1028, 2495, 247, 4981, 3071, 2173, 2908, 279],\n",
              " [2264, 50, 2546, 2148, 4460, 1750, 4777, 1749, 4374],\n",
              " [1286, 4279, 483, 1408, 2173, 2908, 279],\n",
              " [2220, 4102, 3766, 1835, 1250, 3232, 1893, 2922, 2173, 2908, 279],\n",
              " [4850, 2844, 4428, 659, 3056, 4846, 729],\n",
              " [936, 4543, 3111, 698, 717, 1536, 4994, 792, 2173, 2908, 279],\n",
              " [22, 2572, 1082, 1103, 2715, 2173, 2908, 279],\n",
              " [4780, 2794, 3132, 253, 3561, 1639, 569, 1627],\n",
              " [818, 4389, 249, 379, 3558, 2972, 3786, 2173, 2908, 279],\n",
              " [729, 1856, 887, 3446, 2733, 986, 4570],\n",
              " [772, 3987, 1664, 3189, 1519, 3203, 3629, 2173, 2908, 279],\n",
              " [4191, 110, 2549, 2173, 2908, 279],\n",
              " [873, 1791, 2685, 1886, 226, 681, 1523],\n",
              " [2614, 3113, 4947, 3086, 4840, 3302, 4587],\n",
              " [2762, 4425, 2488, 1558, 4214, 374, 2452, 2733, 1793, 3111, 2173, 2908, 279],\n",
              " [4189, 1991, 3551, 2685, 454, 2197, 1196, 4374],\n",
              " [3745, 1730, 2670, 1101, 4591, 3101, 1541, 1021, 4791, 273, 2173, 2908, 279],\n",
              " [1880, 3954, 2173, 1322, 4377, 688, 4639, 2647, 2099],\n",
              " [1859, 2177, 832, 1748, 3570, 1913],\n",
              " [370, 152, 1979, 1627, 760, 1581, 443, 676, 2068],\n",
              " [3320, 4850, 2863, 1463, 1148, 3056],\n",
              " [4176, 2512, 3013, 4007, 2543, 832, 1649, 595],\n",
              " [2672, 2367, 695, 2329, 2173, 2908, 279],\n",
              " [569, 1627, 1697, 621, 3243, 2482, 4023, 253, 2173, 2908, 279],\n",
              " [4773, 3561, 3010, 3991, 4389, 2024, 2173, 2908, 279],\n",
              " [1546, 4629, 1730, 4169, 4430, 2707, 2173, 2908, 279],\n",
              " [283, 4596, 3921, 901, 1422, 3106, 22, 2173, 2908, 279],\n",
              " [4959, 253, 4100, 1454, 2870, 569, 2188, 2937, 2893, 2173, 2908, 279],\n",
              " [4976, 2583, 3302, 2686, 4976, 1253, 4331],\n",
              " [4640, 4512, 4370, 1880, 2904, 535, 3264, 3767, 2173, 688, 4377, 1322],\n",
              " [569, 1627, 1947, 753, 1831, 607],\n",
              " [1513, 4582, 4504, 2315, 4087, 3561, 2173, 2908, 279],\n",
              " [462, 1032, 1739, 2539, 4897, 634, 3987, 10, 2173, 2908, 279],\n",
              " [2619, 2298, 2142, 2771, 4576],\n",
              " [4422, 4116, 942, 3767, 1250, 3345, 1627, 3541, 2334, 4374],\n",
              " [3778, 507],\n",
              " [4636, 1670, 4630, 4896, 940, 4613, 936, 1532, 4836],\n",
              " [1544, 3052, 2744, 688, 2402, 2521, 325, 4976],\n",
              " [1907, 925, 4337, 2922, 359, 1876, 526, 1106, 2173, 2908, 279],\n",
              " [903, 3180, 3302, 4926, 2557],\n",
              " [4586,\n",
              "  819,\n",
              "  2544,\n",
              "  666,\n",
              "  3442,\n",
              "  2544,\n",
              "  4586,\n",
              "  1797,\n",
              "  4655,\n",
              "  1152,\n",
              "  511,\n",
              "  2544,\n",
              "  4586,\n",
              "  4964,\n",
              "  2032,\n",
              "  3006,\n",
              "  4403,\n",
              "  2288,\n",
              "  2835],\n",
              " [1253, 4836, 4278, 3408, 4318, 2729, 1565],\n",
              " [4897, 65, 4671, 1535, 3498, 461],\n",
              " [1627, 4976, 1997, 3434, 607, 4476],\n",
              " [2450, 2645, 2572, 4228, 4839, 3754, 3561, 2065, 1047, 1842, 4374],\n",
              " [2628, 2543, 695, 4976, 1627, 157, 4551, 1043, 2430, 3559],\n",
              " [2728, 3553, 1627, 1929, 3461, 2489, 2204, 1991, 634, 1442],\n",
              " [2188, 4883, 2073],\n",
              " [4002, 887, 4699, 818, 1842, 1586],\n",
              " [544, 3850, 4921, 3827, 403, 551, 2173, 2908, 279],\n",
              " [1793, 2456, 822, 1706, 243, 4780, 4828, 1271, 3331, 4374],\n",
              " [2017, 2555, 3155, 4603, 1978, 1286, 2318, 4414, 255, 4278],\n",
              " [370, 159, 50, 1355, 4452, 552, 4533, 2922, 4374],\n",
              " [1621, 1067, 2908, 1430, 221, 4436, 1867],\n",
              " [4027, 4249],\n",
              " [2872, 4795, 4820, 2508, 1790, 1274, 2173, 2908, 279],\n",
              " [159, 4699, 457, 2480, 3781, 3958, 185, 4374],\n",
              " [2009, 541, 2744, 4678, 4834, 4809, 3284],\n",
              " [3350, 4587, 3939, 3908, 2972, 1658, 2173, 2908, 279],\n",
              " [4584, 4155, 4471, 3057, 2737, 2173, 2908, 279],\n",
              " [3816, 4820, 4758, 3099, 921, 2173, 2908, 279],\n",
              " [772, 75, 2147, 1645, 3897, 4866, 2173, 2908, 279],\n",
              " [1627, 689, 966, 4830, 4129, 3582, 4796, 362, 4909, 2173, 2908, 279],\n",
              " [2068,\n",
              "  3754,\n",
              "  2572,\n",
              "  3467,\n",
              "  3585,\n",
              "  3728,\n",
              "  35,\n",
              "  1550,\n",
              "  2127,\n",
              "  1854,\n",
              "  4242,\n",
              "  4315,\n",
              "  807,\n",
              "  2173,\n",
              "  2908,\n",
              "  279],\n",
              " [4014, 2998, 4338, 3366, 4179, 2173, 2908, 279],\n",
              " [1861, 1306, 1514, 3079, 4897, 1627, 456],\n",
              " [370, 1627, 1102, 1948, 4116, 1842, 2550, 4750, 3467, 4261, 4374],\n",
              " [4640, 2745, 241, 2329, 2480, 4614, 4636, 1196, 2647, 4374],\n",
              " [2294, 832, 4514, 4363, 2173, 2744, 4377, 515, 2583, 3008, 2819, 1880],\n",
              " [1027, 3397, 4437, 2294, 4421, 4998, 2173, 2908, 279],\n",
              " [1495, 938, 3301, 3686],\n",
              " [753, 4323, 516, 228, 144, 2546],\n",
              " [1799, 1546, 2402, 330, 4639, 3564, 4554, 4374],\n",
              " [283, 215, 2797, 4648, 2124, 1565, 1859, 2173, 2908, 279],\n",
              " [2972, 76, 996, 3193, 4145, 603, 222, 4944, 4166, 996],\n",
              " [4689, 1866, 3503, 2173, 2908, 279],\n",
              " [4738, 770, 2744, 2236, 2504, 4437, 2546, 666, 1205],\n",
              " [597, 3315, 4579, 2204, 1065, 4888, 1026, 2120, 204, 4844, 4374],\n",
              " [3296, 21, 3559, 2790, 448, 699, 2084, 2173, 2908, 279],\n",
              " [4722, 2776, 3429, 1627, 4724],\n",
              " [925, 2671, 3052, 2521],\n",
              " [1711, 2143, 1263, 1700, 4682, 2821, 4262, 2177, 2173, 2908, 279],\n",
              " [971, 3933, 1843, 1560, 464, 1328, 942, 1639, 569, 1627],\n",
              " [3656, 3827, 3497, 1657, 106, 2983, 3120, 2158, 2173, 2908, 279],\n",
              " [4189, 4122, 3687, 1370, 4015, 2704],\n",
              " [483, 2157, 1126, 2922, 4683, 370, 2693, 226, 2733, 2173, 2908, 279],\n",
              " [2744, 4860, 4002, 4793, 2865, 2078],\n",
              " [1686, 3949, 4401, 2840, 3559, 4430, 2707, 2173, 2908, 279],\n",
              " [1999, 624, 2844, 1248, 4307, 1738, 3869, 2543, 4502],\n",
              " [4832, 688, 818, 3295, 3705, 1781, 1842, 925, 467, 2331],\n",
              " [971, 1565, 1627, 4959, 81, 2709, 708, 2173, 2908, 279],\n",
              " [2158, 1068, 3987, 4619, 2236, 3207],\n",
              " [3452, 2744, 1528],\n",
              " [1997, 4130, 2833, 2858, 512, 288, 1322, 2744, 4020],\n",
              " [145, 3076, 454, 1831, 4830, 578, 4551, 2173, 2908, 279],\n",
              " [1589, 37, 538, 3740, 76, 2550, 980, 2595, 4317, 538, 3509, 2725, 2112],\n",
              " [4888, 4771, 3656, 454, 359, 4291, 1565, 2173, 2908, 279],\n",
              " [4943, 968, 4989, 1600, 3917, 968, 4989, 1600, 3917, 2427, 1863, 4448, 254],\n",
              " [2673, 3932, 3686, 535, 1047, 3754, 4504, 1880, 4366, 3320, 1627, 4145],\n",
              " [2482, 283, 3557, 1973, 1842, 2853, 4430, 2640],\n",
              " [4294, 3482, 2858, 832, 878, 2412, 1416, 2062, 3464, 3096],\n",
              " [2577, 832, 695, 3792, 1305, 4940, 1997, 2774, 2704],\n",
              " [3582, 3933, 2318, 1786, 4967, 56, 4696, 2757, 483, 2173, 2908, 279],\n",
              " [4430, 2707, 2744, 688, 569, 1627, 3570, 368, 2173, 2908, 279],\n",
              " [4654, 2285, 4107, 1431, 3905, 2062, 2640, 96, 2844, 340, 4191],\n",
              " [483, 2157, 4425, 4582, 2173, 4281, 2173, 2908, 279],\n",
              " [3518, 2792, 3138, 2800, 2366, 3103, 210, 2173, 2908, 279],\n",
              " [4629, 3754, 1709, 2065, 745, 213, 1148, 242],\n",
              " [569, 1627, 2972, 2973, 3525, 3656, 1446],\n",
              " [4294, 3862, 4057, 4780, 3207, 1589, 4130, 1589, 1976, 3475, 4374],\n",
              " [3360, 3437, 2428, 1747, 1658, 3949],\n",
              " [1610, 1318, 263, 1051, 3344],\n",
              " [3279, 901, 209, 2572, 1438],\n",
              " [3817, 4423, 609, 2656, 3670, 818, 4374],\n",
              " [3230, 2379, 1627, 2256, 62, 4278, 1594, 4228, 1156, 2173, 2908, 279],\n",
              " [2709, 714, 1980, 1842, 1586, 62, 1454, 1881, 4374],\n",
              " [2566, 527, 3209, 355],\n",
              " [936, 1171, 2733, 923, 2628, 2087, 2148, 3989, 2173, 2908, 279],\n",
              " [2609, 2844, 124, 4128, 2728, 2173, 2908, 279],\n",
              " [2386, 1734, 1442, 274, 3103, 996, 4339],\n",
              " [4157, 2764, 2745, 402, 3090],\n",
              " [38, 11, 4401, 4213, 1639, 1627, 4577, 4209, 1936, 418, 1760, 1502],\n",
              " [4377, 1541, 3839, 1491, 3761, 1627, 2640, 330, 2173, 2908, 279],\n",
              " [234, 1627, 254, 3275, 693, 1065, 3985, 760, 3933, 3759],\n",
              " [1125, 2539, 464, 50, 1569, 2595, 2173, 2908, 279],\n",
              " [2011, 3074, 2673, 1721, 1211, 3032, 2173, 2908, 279],\n",
              " [1880, 2412, 2539, 3000, 181, 832, 1190, 562, 1017],\n",
              " [1328, 3892, 1763, 1423, 1494, 2274],\n",
              " [2893, 510, 370, 4555, 3251, 2666, 3541, 1934],\n",
              " [582, 2647, 729, 1731, 603, 1855, 1747],\n",
              " [1997, 2392, 4368, 4596, 3987, 3897, 3135, 2173, 2908, 279],\n",
              " [2647, 2640, 2752, 3987, 2674, 2194],\n",
              " [695,\n",
              "  1627,\n",
              "  1657,\n",
              "  4116,\n",
              "  2561,\n",
              "  2550,\n",
              "  2065,\n",
              "  753,\n",
              "  4539,\n",
              "  4295,\n",
              "  4586,\n",
              "  603,\n",
              "  3370,\n",
              "  3905,\n",
              "  4374],\n",
              " [2744, 688, 62, 2858, 4959, 1639, 3905, 1442],\n",
              " [4062, 517, 1157, 1538, 4563, 1379, 179],\n",
              " [3689, 1893, 696, 1867, 3435],\n",
              " [710, 3720, 3052, 291, 1867, 3521, 3052],\n",
              " [12, 1913, 2810, 62, 1842, 1586, 399, 1210],\n",
              " [234, 1627, 206, 2956, 2274, 2106, 1273],\n",
              " [2000, 519, 3754, 317, 873, 2546, 2173, 2908, 279],\n",
              " [3686, 3169, 2725, 2112, 3987, 707, 3911, 1253, 4308],\n",
              " [1627, 3694, 4308, 3124, 712, 3746, 118, 916, 2173, 2908, 279],\n",
              " [4374, 2774, 4157, 3315, 4137, 4374],\n",
              " [2744, 2298],\n",
              " [2758, 1253, 3075, 3695, 4303, 4914, 2444, 4539],\n",
              " [569, 1627, 38, 190, 4536, 1325, 4430, 2707, 2173, 2908, 279],\n",
              " [3559, 3488, 3719, 1968, 3754, 2867, 4806],\n",
              " [4586, 2474, 3905, 253, 1032, 1957, 3506, 4374],\n",
              " [2544, 214, 832, 2237, 4517, 1583, 2225],\n",
              " [2187, 1223, 3467, 3618, 588, 3197, 3320, 595, 4374],\n",
              " [3967, 790, 4265, 1187, 3933, 2173, 2908, 279],\n",
              " [2851, 3619, 2707, 1936, 2886, 2401, 3710, 2676, 4116, 330, 4374],\n",
              " [584, 3860, 4155, 786, 206, 2298, 3541, 3834],\n",
              " [1627, 839, 112, 3882, 1468, 464, 642, 2173, 2908, 279],\n",
              " [2084, 3042, 2577, 4746, 289],\n",
              " [3553, 3987, 16, 2173, 2908, 279],\n",
              " [4943, 228, 1625, 1263, 1041],\n",
              " [1061, 1880, 688, 4377, 1322, 1206, 2009, 1965, 798, 1627, 1191],\n",
              " [936, 1456, 724, 3207, 2257, 1657, 3699, 4036, 2173, 2908, 279],\n",
              " [2866, 3042, 3967, 3237, 3188, 4278, 4398, 1835, 2197],\n",
              " [3730, 1541, 2298, 206, 4445, 3477, 3021, 3449, 255],\n",
              " [1627, 1064, 3683, 330, 2572, 228, 1252, 2148, 2173, 2908, 279],\n",
              " [519, 54, 1322, 4657, 3308],\n",
              " [3698, 1209, 3786, 2000, 1027, 664],\n",
              " [4976, 510, 3469, 3465, 327, 4303, 4128],\n",
              " [3132, 639, 1657, 4170],\n",
              " [1627, 2217, 2173, 3142, 942, 2834, 4374],\n",
              " [2278, 546, 1442, 62, 288, 4551, 4278, 2237, 106, 4168],\n",
              " [483, 1662, 947, 492, 2572, 1657, 2062, 2188, 4374],\n",
              " [4142, 1399, 222, 4153],\n",
              " [2084,\n",
              "  3867,\n",
              "  3254,\n",
              "  3331,\n",
              "  4170,\n",
              "  2274,\n",
              "  2073,\n",
              "  3296,\n",
              "  3264,\n",
              "  2395,\n",
              "  4170,\n",
              "  1946,\n",
              "  2299,\n",
              "  2173,\n",
              "  2908,\n",
              "  279],\n",
              " [1475, 1867, 3411, 3385, 2822, 206, 1454, 4445, 3477, 3021],\n",
              " [772, 4171, 3561, 327, 2314, 4139, 2870, 3827, 206, 4374],\n",
              " [1881, 4896, 707, 1471, 1021, 4430, 2395],\n",
              " [4682, 3180, 253, 1846, 3629, 4165, 2749, 983, 1886, 2173, 2908, 279],\n",
              " [4776, 1835, 1191, 2744, 688, 2160, 569, 1627, 2173, 2908, 279],\n",
              " [4812, 2774, 2173, 2908, 279, 3446, 4374, 370, 1863, 4374],\n",
              " [3686, 2173, 912, 392, 4053, 2941, 2173, 2908, 279],\n",
              " [1997, 1557, 2858, 4221, 368, 936, 4084, 230, 1001],\n",
              " [2306, 863, 4453, 936, 3863, 1992, 592, 2640, 2173, 2908, 279],\n",
              " [370, 2757, 1381, 3573, 4792],\n",
              " [9, 4976, 370, 4896, 4812, 2774, 2595, 2744, 688],\n",
              " [283, 3482, 4515, 3561, 4558, 3914, 59, 4276, 849, 2173, 2908, 279],\n",
              " [3696, 1337, 1649, 4268, 630, 1500, 4871, 2881],\n",
              " [4790, 3188, 4217, 624, 603, 3967, 646, 2978, 464, 1635, 3909, 3399, 535],\n",
              " [283, 4804, 4460, 2893, 279, 2790, 2662, 2569, 2345, 2173, 2908, 279],\n",
              " [3559, 2870, 2800, 743, 1191, 3722, 763],\n",
              " [4335, 3387, 3986, 921],\n",
              " [3869, 2844, 4173, 4302, 4240, 1541, 4929, 2173, 2908, 279],\n",
              " [1216, 3437, 2704, 2946],\n",
              " [1718, 4896, 1749, 3446, 4118, 4791, 4648, 4932],\n",
              " [2206, 2514, 492, 3000, 1763, 2472, 2173, 2908, 279],\n",
              " [3905, 1174, 4507, 2870, 418, 3553, 3990, 4897],\n",
              " [4438, 3925, 2009, 2323, 2757, 387, 4888, 403, 1627, 4374],\n",
              " [1560, 4551, 4897, 4748, 525, 2111, 2627, 3307, 2623, 2158, 4374],\n",
              " [947, 3615, 288, 2229, 1610, 1886, 3772, 592, 2173, 2908, 279],\n",
              " [662, 2504, 1979, 3233, 1191, 3470, 860],\n",
              " [3097, 4318, 1295, 2267, 1731, 4318],\n",
              " [1144, 4396, 3813, 592, 3615],\n",
              " [4640, 241, 4626, 4118, 2673, 1554, 3817, 371, 750, 3658, 4374],\n",
              " [936, 1651, 3939, 2844, 936, 2012, 2549, 665, 1442, 2173, 2908, 279],\n",
              " [1627, 4191],\n",
              " [3213, 1639, 3423, 4442, 2471, 2276, 1156, 1563, 2173, 2908, 279],\n",
              " [1627, 1754, 4896, 687, 1513, 2757, 3753, 664, 228, 2704],\n",
              " [1861, 2539, 1621, 3559, 4191, 3689, 279, 4981, 2173, 2908, 279],\n",
              " [1513, 519, 3837, 479, 2669, 3982, 1781, 358, 2870, 159],\n",
              " [1809, 808, 624, 3411, 4894, 106, 4897],\n",
              " [3911, 432, 4800, 3350, 4122, 607, 208, 126, 2173, 2908, 279],\n",
              " [4180, 2707, 3551, 395, 2284],\n",
              " [237, 2704, 2166, 4183, 65, 494, 2744],\n",
              " [626, 2173, 175, 3296, 2925, 4966, 3502, 2173, 2908, 279],\n",
              " [688, 1151, 1641, 4145, 3189],\n",
              " [2744, 3320, 2885, 4161, 942, 3183, 1627, 4374],\n",
              " [4130, 4976, 818, 3471, 3208, 2443, 3163, 3553],\n",
              " [1549, 1528, 2832, 1028, 181, 240, 4966, 1560],\n",
              " [2314, 1946, 4015, 1786, 2503, 2170],\n",
              " [810, 1324, 4503, 210, 3987, 3466, 546, 1442, 3241, 4374],\n",
              " [1001, 4569, 2365, 4074, 1158, 2330, 2173, 2908, 279],\n",
              " [3559, 2229, 3874, 2361, 3126, 4845, 1198, 2173, 2908, 279],\n",
              " [2098, 3836, 2822, 804, 3987, 3360, 4723, 4323],\n",
              " [152, 1999, 3204, 1445, 1778, 4943, 2744, 2922, 1629],\n",
              " [1560, 2049, 1271, 3623, 4381, 83, 2173, 2908, 279],\n",
              " [1349, 3939, 1920, 3838, 3114, 2533, 1689],\n",
              " [1589, 410, 498, 688, 4463],\n",
              " [4395, 211, 998, 1541, 3666, 1934, 727, 4142],\n",
              " [3502, 1442, 3870, 1627, 2790, 330, 2173, 2908, 279],\n",
              " [4130, 1052, 1610, 211, 4896, 4671, 1250, 1735, 2011, 2704],\n",
              " [4812, 2774, 1627, 4966, 1532, 2774],\n",
              " [3264, 2295],\n",
              " [2294, 3664, 2904, 4339, 2742, 2295, 2982, 4374],\n",
              " [3464, 2595, 484, 2173, 2908, 279],\n",
              " [2062, 3507, 1709, 4976, 967, 2703, 2010, 4662, 473, 2642, 2009, 3157],\n",
              " [2096, 1786, 2709, 1458],\n",
              " [4504, 1544, 4377, 65, 3722, 134, 3559, 4724],\n",
              " [4755, 942, 4051, 652, 3851, 3819, 2939, 76],\n",
              " [4115, 3967, 4574, 3110, 1028, 2401, 3662, 2744],\n",
              " [593, 2164, 3411, 4592, 1442, 438, 2173, 2908, 279],\n",
              " [1508, 2858, 1017, 2844, 4415, 1017, 4585, 942, 4374],\n",
              " [3308, 4514, 4130, 4512, 146, 2926, 3498, 2628, 2388, 923],\n",
              " [2533, 1549, 279, 254, 4107, 1627, 2463, 3147, 4374],\n",
              " [195, 2048, 4099, 2858, 1580, 1580, 2173, 2908, 279],\n",
              " [2744, 688, 4678, 569, 1627, 2173, 2679, 976, 2009, 541, 2173, 2908, 279],\n",
              " [1471, 4629, 494, 3340, 569, 1627, 1112, 4430, 2707, 2173, 2908, 279],\n",
              " [4294, 3153, 3573, 4460, 2893, 832, 1253, 4374],\n",
              " [3599, 3792, 3564, 1033, 3963, 725, 2173, 2908, 279],\n",
              " [4822, 942, 2305, 1565, 10, 2707, 2173, 2908, 279],\n",
              " [4940, 2733, 3469],\n",
              " [2819, 569, 1627, 3350, 3385, 1073, 3271, 3867, 592, 2173, 2908, 279],\n",
              " [2674, 2623, 2976, 1517, 2482, 1829, 2173, 2908, 279],\n",
              " [2865, 1947, 753, 4539, 2771, 4759, 2065, 686, 4358, 4374],\n",
              " [1627, 4107, 1153, 4128, 2294, 686, 2367, 3264, 1148, 368],\n",
              " [1664, 3432, 2092, 717, 827, 1043, 743, 2173, 2908, 279],\n",
              " [4574, 559, 4538, 3874, 4596, 1297, 964, 4284, 1893, 2922, 4374],\n",
              " [4586, 3772, 908, 581, 1947, 3541, 916, 4374],\n",
              " [4358,\n",
              "  1021,\n",
              "  2173,\n",
              "  727,\n",
              "  1181,\n",
              "  1745,\n",
              "  1990,\n",
              "  3890,\n",
              "  3106,\n",
              "  2749,\n",
              "  4886,\n",
              "  2173,\n",
              "  2908,\n",
              "  279],\n",
              " [569, 1627, 2744, 688, 1782, 1184, 4430, 2707, 2173, 2908, 279],\n",
              " [666, 3987, 2733, 76, 4748, 2482, 253, 4170, 1589, 1218],\n",
              " [1610, 4368, 50, 3512, 2744, 772],\n",
              " [3989, 3682, 4895, 2823],\n",
              " [3236, 1216, 1157, 2784, 181, 15, 1108, 1718, 222, 4944, 916],\n",
              " [2318, 4463, 2158, 936, 2628, 685, 3585, 1821, 2173, 2908, 279],\n",
              " [2866, 3754, 111, 1627, 3813, 3488, 62, 3933, 2995, 2319, 3022, 4374],\n",
              " [1657, 147, 1029, 2109, 2237, 4517, 1754, 3432, 213],\n",
              " [1627, 3464, 1842, 1586, 1023, 1283, 968, 4959, 2173, 2908, 279],\n",
              " [4943, 2744, 688, 3564, 292, 4954, 65, 2295, 4377, 2491],\n",
              " [2704, 3559, 2087, 3471, 4976, 2744, 3827, 2173, 1880, 4377, 1322],\n",
              " [569, 1627, 1098, 1920, 2172, 2195, 1216, 265, 3695, 2173, 2908, 279],\n",
              " [951, 3860, 3827, 3864, 2847, 4492, 970, 4305, 4530, 2642],\n",
              " [103, 3056, 77, 2791, 4629, 3488, 4966, 3759],\n",
              " [1627, 2482, 4023, 3071, 2858, 3320, 3939, 603, 3131, 3710, 2173, 2908, 279],\n",
              " [3870, 2686, 3543, 4888, 119, 717, 1980, 1888, 2704],\n",
              " [3714, 942, 2270, 30, 3619, 22, 3666, 2204, 2173, 2908, 279],\n",
              " ...]"
            ]
          },
          "metadata": {},
          "execution_count": 12
        }
      ]
    },
    {
      "cell_type": "markdown",
      "source": [
        "### Word_Embedding"
      ],
      "metadata": {
        "id": "Hk-gwb0KIXK7"
      }
    },
    {
      "cell_type": "code",
      "source": [
        "sent_length=20\n",
        "embedded_words=pad_sequences(one_hot_rep,padding='pre',maxlen=sent_length)\n",
        "print(embedded_words)"
      ],
      "metadata": {
        "colab": {
          "base_uri": "https://localhost:8080/"
        },
        "id": "OxjIQMYwIbWx",
        "outputId": "c09994d5-df0b-4dba-8501-96611f53502d"
      },
      "execution_count": 13,
      "outputs": [
        {
          "output_type": "stream",
          "name": "stdout",
          "text": [
            "[[   0    0    0 ...  499 4992 3079]\n",
            " [   0    0    0 ... 4334 4338 4374]\n",
            " [   0    0    0 ... 3183 1250 2893]\n",
            " ...\n",
            " [   0    0    0 ... 2173 2908  279]\n",
            " [   0    0    0 ... 3291  519  771]\n",
            " [   0    0    0 ... 1027 4209 4948]]\n"
          ]
        }
      ]
    },
    {
      "cell_type": "markdown",
      "source": [
        "## Splitting Data"
      ],
      "metadata": {
        "id": "IP6jmOxZLTck"
      }
    },
    {
      "cell_type": "code",
      "source": [
        "np.array(embedded_words),np.array(y)"
      ],
      "metadata": {
        "colab": {
          "base_uri": "https://localhost:8080/"
        },
        "id": "kMbvw-fHLXba",
        "outputId": "dcd75bb6-e484-42e3-86d9-56a456c79014"
      },
      "execution_count": 14,
      "outputs": [
        {
          "output_type": "execute_result",
          "data": {
            "text/plain": [
              "(array([[   0,    0,    0, ...,  499, 4992, 3079],\n",
              "        [   0,    0,    0, ..., 4334, 4338, 4374],\n",
              "        [   0,    0,    0, ..., 3183, 1250, 2893],\n",
              "        ...,\n",
              "        [   0,    0,    0, ..., 2173, 2908,  279],\n",
              "        [   0,    0,    0, ..., 3291,  519,  771],\n",
              "        [   0,    0,    0, ..., 1027, 4209, 4948]], dtype=int32),\n",
              " array([1, 0, 1, ..., 0, 1, 1]))"
            ]
          },
          "metadata": {},
          "execution_count": 14
        }
      ]
    },
    {
      "cell_type": "code",
      "source": [
        "X_train, X_test, y_train, y_test = train_test_split(np.array(embedded_words),np.array(y), test_size=0.33, random_state=42)"
      ],
      "metadata": {
        "id": "zLOnhwnhLXVZ"
      },
      "execution_count": 15,
      "outputs": []
    },
    {
      "cell_type": "markdown",
      "source": [
        "## Applying Model : LSTM"
      ],
      "metadata": {
        "id": "d1Y50LRxJNZW"
      }
    },
    {
      "cell_type": "code",
      "source": [
        "embedding_vector_features=40\n",
        "model=Sequential()\n",
        "model.add(Embedding(voc_size,embedding_vector_features,input_length=sent_length))\n",
        "\n",
        "model.add(BatchNormalization())\n",
        "model.add(LSTM(85))\n",
        "\n",
        "model.add(Dropout(0.3))\n",
        "model.add(Dense(1,activation='sigmoid'))\n",
        "model.compile(loss='binary_crossentropy',optimizer=tf.keras.optimizers.Adam(learning_rate=.001),metrics=['accuracy'])"
      ],
      "metadata": {
        "id": "tSfsd2eIIyqa"
      },
      "execution_count": 16,
      "outputs": []
    },
    {
      "cell_type": "code",
      "source": [
        "model.summary()"
      ],
      "metadata": {
        "colab": {
          "base_uri": "https://localhost:8080/"
        },
        "id": "eNGk4IGrIyo3",
        "outputId": "1704075c-8298-4696-b67d-410d6e6d3261"
      },
      "execution_count": 17,
      "outputs": [
        {
          "output_type": "stream",
          "name": "stdout",
          "text": [
            "Model: \"sequential\"\n",
            "_________________________________________________________________\n",
            " Layer (type)                Output Shape              Param #   \n",
            "=================================================================\n",
            " embedding (Embedding)       (None, 20, 40)            200000    \n",
            "                                                                 \n",
            " batch_normalization (BatchN  (None, 20, 40)           160       \n",
            " ormalization)                                                   \n",
            "                                                                 \n",
            " lstm (LSTM)                 (None, 85)                42840     \n",
            "                                                                 \n",
            " dropout (Dropout)           (None, 85)                0         \n",
            "                                                                 \n",
            " dense (Dense)               (None, 1)                 86        \n",
            "                                                                 \n",
            "=================================================================\n",
            "Total params: 243,086\n",
            "Trainable params: 243,006\n",
            "Non-trainable params: 80\n",
            "_________________________________________________________________\n"
          ]
        }
      ]
    },
    {
      "cell_type": "code",
      "source": [
        "model.fit(X_train,y_train,validation_data=(X_test,y_test),epochs=15,batch_size=32)"
      ],
      "metadata": {
        "colab": {
          "base_uri": "https://localhost:8080/"
        },
        "id": "vD0mdRpFmXn_",
        "outputId": "b96f985d-5ea4-4aca-989c-49f5399df4ac"
      },
      "execution_count": 18,
      "outputs": [
        {
          "output_type": "stream",
          "name": "stdout",
          "text": [
            "Epoch 1/15\n",
            "383/383 [==============================] - 14s 29ms/step - loss: 0.2244 - accuracy: 0.9020 - val_loss: 0.3498 - val_accuracy: 0.8795\n",
            "Epoch 2/15\n",
            "383/383 [==============================] - 10s 26ms/step - loss: 0.1015 - accuracy: 0.9624 - val_loss: 0.1987 - val_accuracy: 0.9231\n",
            "Epoch 3/15\n",
            "383/383 [==============================] - 10s 26ms/step - loss: 0.0449 - accuracy: 0.9855 - val_loss: 0.2589 - val_accuracy: 0.9165\n",
            "Epoch 4/15\n",
            "383/383 [==============================] - 11s 30ms/step - loss: 0.0203 - accuracy: 0.9931 - val_loss: 0.3223 - val_accuracy: 0.9186\n",
            "Epoch 5/15\n",
            "383/383 [==============================] - 10s 27ms/step - loss: 0.0130 - accuracy: 0.9953 - val_loss: 0.3896 - val_accuracy: 0.9186\n",
            "Epoch 6/15\n",
            "383/383 [==============================] - 11s 29ms/step - loss: 0.0085 - accuracy: 0.9976 - val_loss: 0.3892 - val_accuracy: 0.9178\n",
            "Epoch 7/15\n",
            "383/383 [==============================] - 10s 27ms/step - loss: 0.0037 - accuracy: 0.9991 - val_loss: 0.4560 - val_accuracy: 0.9140\n",
            "Epoch 8/15\n",
            "383/383 [==============================] - 12s 31ms/step - loss: 0.0025 - accuracy: 0.9993 - val_loss: 0.4885 - val_accuracy: 0.9051\n",
            "Epoch 9/15\n",
            "383/383 [==============================] - 10s 26ms/step - loss: 0.0027 - accuracy: 0.9994 - val_loss: 0.5115 - val_accuracy: 0.9153\n",
            "Epoch 10/15\n",
            "383/383 [==============================] - 10s 26ms/step - loss: 0.0029 - accuracy: 0.9993 - val_loss: 0.5775 - val_accuracy: 0.9153\n",
            "Epoch 11/15\n",
            "383/383 [==============================] - 10s 26ms/step - loss: 0.0059 - accuracy: 0.9983 - val_loss: 0.4767 - val_accuracy: 0.9142\n",
            "Epoch 12/15\n",
            "383/383 [==============================] - 10s 26ms/step - loss: 0.0069 - accuracy: 0.9976 - val_loss: 0.5429 - val_accuracy: 0.9150\n",
            "Epoch 13/15\n",
            "383/383 [==============================] - 10s 26ms/step - loss: 0.0034 - accuracy: 0.9993 - val_loss: 0.5249 - val_accuracy: 0.9127\n",
            "Epoch 14/15\n",
            "383/383 [==============================] - 10s 26ms/step - loss: 0.0025 - accuracy: 0.9993 - val_loss: 0.5411 - val_accuracy: 0.9145\n",
            "Epoch 15/15\n",
            "383/383 [==============================] - 10s 27ms/step - loss: 0.0019 - accuracy: 0.9993 - val_loss: 0.5628 - val_accuracy: 0.9148\n"
          ]
        },
        {
          "output_type": "execute_result",
          "data": {
            "text/plain": [
              "<keras.callbacks.History at 0x7f77064d9880>"
            ]
          },
          "metadata": {},
          "execution_count": 18
        }
      ]
    },
    {
      "cell_type": "code",
      "source": [
        "y_pred=model.predict(X_test)"
      ],
      "metadata": {
        "colab": {
          "base_uri": "https://localhost:8080/"
        },
        "id": "66FRWFslK-QQ",
        "outputId": "aef70d6a-c2c9-4c44-ba79-251b226b22ec"
      },
      "execution_count": 19,
      "outputs": [
        {
          "output_type": "stream",
          "name": "stdout",
          "text": [
            "189/189 [==============================] - 2s 7ms/step\n"
          ]
        }
      ]
    },
    {
      "cell_type": "markdown",
      "source": [
        "###Evaluation"
      ],
      "metadata": {
        "id": "p4rsTr6PP3LA"
      }
    },
    {
      "cell_type": "code",
      "source": [
        "def plot_confusion_matrix(cm, classes,\n",
        "                          normalize=False,\n",
        "                          title='Confusion matrix',\n",
        "                          cmap=plt.cm.Reds):\n",
        "\n",
        "    plt.imshow(cm, interpolation='nearest', cmap=cmap)\n",
        "    plt.title(title)\n",
        "    plt.colorbar()\n",
        "    tick_marks = np.arange(len(classes))\n",
        "    plt.xticks(tick_marks, classes, rotation=45)\n",
        "    plt.yticks(tick_marks, classes)\n",
        "\n",
        "    if normalize:\n",
        "        cm = cm.astype('float') / cm.sum(axis=1)[:, np.newaxis]\n",
        "        print(\"Normalized confusion matrix\")\n",
        "    else:\n",
        "        print('Confusion matrix, without normalization')\n",
        "\n",
        "    thresh = cm.max() / 2.\n",
        "    for i, j in itertools.product(range(cm.shape[0]), range(cm.shape[1])):\n",
        "        plt.text(j, i, cm[i, j],\n",
        "                 horizontalalignment=\"center\",\n",
        "                 color=\"white\" if cm[i, j] > thresh else \"black\")\n",
        "\n",
        "    plt.tight_layout()\n",
        "    plt.ylabel('True label')\n",
        "    plt.xlabel('Predicted label')"
      ],
      "metadata": {
        "id": "6bXu57UIK-KD"
      },
      "execution_count": 20,
      "outputs": []
    },
    {
      "cell_type": "code",
      "source": [
        "f = y_pred>.5\n",
        "y_pred=np.multiply(f, 1)"
      ],
      "metadata": {
        "id": "TvdKgTc5e5Kw"
      },
      "execution_count": 21,
      "outputs": []
    },
    {
      "cell_type": "code",
      "source": [
        "y_pred"
      ],
      "metadata": {
        "colab": {
          "base_uri": "https://localhost:8080/"
        },
        "id": "TTO1Qnpdhaae",
        "outputId": "80df0223-6cca-4254-daad-d71e6932747c"
      },
      "execution_count": 22,
      "outputs": [
        {
          "output_type": "execute_result",
          "data": {
            "text/plain": [
              "array([[1],\n",
              "       [0],\n",
              "       [0],\n",
              "       ...,\n",
              "       [0],\n",
              "       [1],\n",
              "       [1]])"
            ]
          },
          "metadata": {},
          "execution_count": 22
        }
      ]
    },
    {
      "cell_type": "code",
      "source": [
        "print(classification_report(y_test, y_pred))\n",
        "print(150 * '*'+'\\n')\n",
        "score=accuracy_score(y_test,y_pred)\n",
        "print(\"Accuracy score is \" , score ,'\\n')\n",
        "print(150 * '*'+'\\n')\n",
        "cm = confusion_matrix(y_test, y_pred)\n",
        "plot_confusion_matrix(cm, classes=['FAKE','REAL']);"
      ],
      "metadata": {
        "colab": {
          "base_uri": "https://localhost:8080/",
          "height": 597
        },
        "id": "ahHKh7hYP7Nw",
        "outputId": "68255650-0fa0-4c98-b1c8-7a001d8d6201"
      },
      "execution_count": 23,
      "outputs": [
        {
          "output_type": "stream",
          "name": "stdout",
          "text": [
            "              precision    recall  f1-score   support\n",
            "\n",
            "           0       0.93      0.91      0.92      3419\n",
            "           1       0.89      0.92      0.90      2616\n",
            "\n",
            "    accuracy                           0.91      6035\n",
            "   macro avg       0.91      0.92      0.91      6035\n",
            "weighted avg       0.92      0.91      0.91      6035\n",
            "\n",
            "******************************************************************************************************************************************************\n",
            "\n",
            "Accuracy score is  0.9148301574150787 \n",
            "\n",
            "******************************************************************************************************************************************************\n",
            "\n",
            "Confusion matrix, without normalization\n"
          ]
        },
        {
          "output_type": "display_data",
          "data": {
            "text/plain": [
              "<Figure size 432x288 with 2 Axes>"
            ],
            "image/png": "[encoded data removed]"
          },
          "metadata": {
            "needs_background": "light"
          }
        }
      ]
    },
    {
      "cell_type": "markdown",
      "source": [
        "# Mix of LSTM (used as a feature extractor) and SVM"
      ],
      "metadata": {
        "id": "Mvls8ksRPI0c"
      }
    },
    {
      "cell_type": "markdown",
      "source": [
        "## Let's try to extract features learned by the LSTM layer and pass it to an SVM layer :"
      ],
      "metadata": {
        "id": "W61jzb68XFHu"
      }
    },
    {
      "cell_type": "markdown",
      "source": [
        "#### 1. After training the LSTM within the whole Network :"
      ],
      "metadata": {
        "id": "9xF6X1nMwvgo"
      }
    },
    {
      "cell_type": "code",
      "source": [
        "lay_name = 'lstm'\n",
        "intermediate_layer_model = keras.Model(inputs=model.input,\n",
        "                                       outputs=model.get_layer(lay_name).output)\n",
        "intermediate_output = intermediate_layer_model(X_train)"
      ],
      "metadata": {
        "id": "Xl79WLwD27ZO"
      },
      "execution_count": 26,
      "outputs": []
    },
    {
      "cell_type": "code",
      "source": [
        "X_feat_extracted = np.array(intermediate_output)"
      ],
      "metadata": {
        "id": "s2PFU86QxgqB"
      },
      "execution_count": 28,
      "outputs": []
    },
    {
      "cell_type": "code",
      "source": [
        "model_svm= SVC(C=25,gamma=.05,kernel='rbf',probability=True)\n",
        "model_svm.fit(X_feat_extracted, y_train)"
      ],
      "metadata": {
        "colab": {
          "base_uri": "https://localhost:8080/"
        },
        "id": "dcfixE_dPIlF",
        "outputId": "1a4e83e6-b51f-4be4-86f9-7689534d53e9"
      },
      "execution_count": 30,
      "outputs": [
        {
          "output_type": "execute_result",
          "data": {
            "text/plain": [
              "SVC(C=25, gamma=0.05, probability=True)"
            ]
          },
          "metadata": {},
          "execution_count": 30
        }
      ]
    },
    {
      "cell_type": "code",
      "source": [
        "y_pred_mix = model_svm.predict(intermediate_layer_model(X_test))\n",
        "accuracy_score(y_test,y_pred_mix)"
      ],
      "metadata": {
        "colab": {
          "base_uri": "https://localhost:8080/"
        },
        "id": "WZcNJMFmyCNI",
        "outputId": "1cd86c0d-0424-4d19-f664-e808e5452cd7"
      },
      "execution_count": 31,
      "outputs": [
        {
          "output_type": "execute_result",
          "data": {
            "text/plain": [
              "0.9146644573322287"
            ]
          },
          "metadata": {},
          "execution_count": 31
        }
      ]
    },
    {
      "cell_type": "code",
      "source": [
        "print(classification_report(y_test, y_pred_mix))\n",
        "print(150 * '*'+'\\n')\n",
        "score=accuracy_score(y_test,y_pred_mix)\n",
        "print(\"Accuracy score is \" , score ,'\\n')\n",
        "print(150 * '*'+'\\n')\n",
        "cm = confusion_matrix(y_test, y_pred_mix)\n",
        "plot_confusion_matrix(cm, classes=['FAKE','REAL'],cmap=plt.cm.Blues);"
      ],
      "metadata": {
        "colab": {
          "base_uri": "https://localhost:8080/",
          "height": 597
        },
        "id": "b-OVH8n8xfIL",
        "outputId": "5fb98b1f-3629-4b9b-bb6f-e9cfbe8d3db4"
      },
      "execution_count": 34,
      "outputs": [
        {
          "output_type": "stream",
          "name": "stdout",
          "text": [
            "              precision    recall  f1-score   support\n",
            "\n",
            "           0       0.94      0.91      0.92      3419\n",
            "           1       0.88      0.92      0.90      2616\n",
            "\n",
            "    accuracy                           0.91      6035\n",
            "   macro avg       0.91      0.92      0.91      6035\n",
            "weighted avg       0.92      0.91      0.91      6035\n",
            "\n",
            "******************************************************************************************************************************************************\n",
            "\n",
            "Accuracy score is  0.9146644573322287 \n",
            "\n",
            "******************************************************************************************************************************************************\n",
            "\n",
            "Confusion matrix, without normalization\n"
          ]
        },
        {
          "output_type": "display_data",
          "data": {
            "text/plain": [
              "<Figure size 432x288 with 2 Axes>"
            ],
            "image/png": "[encoded data removed]"
          },
          "metadata": {
            "needs_background": "light"
          }
        }
      ]
    },
    {
      "cell_type": "markdown",
      "source": [
        "#### 2. Extracting features output from LSTM without any training to the Network on the task"
      ],
      "metadata": {
        "id": "vt0BubQZYKQS"
      }
    },
    {
      "cell_type": "code",
      "source": [
        "model1=Sequential()\n",
        "model1.add(Embedding(voc_size,embedding_vector_features,input_length=sent_length))\n",
        "\n",
        "model1.add(BatchNormalization())\n",
        "model1.add(LSTM(85))\n",
        "\n",
        "model1.add(Dropout(0.3))\n",
        "model1.add(Dense(1,activation='sigmoid'))"
      ],
      "metadata": {
        "id": "4zqem0ua0iFC"
      },
      "execution_count": 24,
      "outputs": []
    },
    {
      "cell_type": "code",
      "source": [
        "model1.summary()"
      ],
      "metadata": {
        "colab": {
          "base_uri": "https://localhost:8080/"
        },
        "id": "M_kL0lif0oul",
        "outputId": "cdeeb06c-8dd4-4a90-ec76-8cb12dd41a79"
      },
      "execution_count": 25,
      "outputs": [
        {
          "output_type": "stream",
          "name": "stdout",
          "text": [
            "Model: \"sequential_1\"\n",
            "_________________________________________________________________\n",
            " Layer (type)                Output Shape              Param #   \n",
            "=================================================================\n",
            " embedding_1 (Embedding)     (None, 20, 40)            200000    \n",
            "                                                                 \n",
            " batch_normalization_1 (Batc  (None, 20, 40)           160       \n",
            " hNormalization)                                                 \n",
            "                                                                 \n",
            " lstm_1 (LSTM)               (None, 85)                42840     \n",
            "                                                                 \n",
            " dropout_1 (Dropout)         (None, 85)                0         \n",
            "                                                                 \n",
            " dense_1 (Dense)             (None, 1)                 86        \n",
            "                                                                 \n",
            "=================================================================\n",
            "Total params: 243,086\n",
            "Trainable params: 243,006\n",
            "Non-trainable params: 80\n",
            "_________________________________________________________________\n"
          ]
        }
      ]
    },
    {
      "cell_type": "code",
      "source": [
        "layer_name = 'lstm_1'\n",
        "intermediate_layer_model1 = keras.Model(inputs=model1.input,\n",
        "                                       outputs=model1.get_layer(layer_name).output)\n",
        "intermediate_output_1 = intermediate_layer_model1(X_train)"
      ],
      "metadata": {
        "id": "vEYUFN3puzbL"
      },
      "execution_count": 27,
      "outputs": []
    },
    {
      "cell_type": "code",
      "source": [
        "X_feat_extracted_1 = np.array(intermediate_output_1)"
      ],
      "metadata": {
        "id": "0Cp6vdgk37U5"
      },
      "execution_count": 29,
      "outputs": []
    },
    {
      "cell_type": "code",
      "source": [
        "model_svm_1= SVC(C=100,gamma=.1,kernel='rbf',probability=True)\n",
        "model_svm_1.fit(X_feat_extracted_1, y_train)"
      ],
      "metadata": {
        "colab": {
          "base_uri": "https://localhost:8080/"
        },
        "id": "YYYbpqu84hjn",
        "outputId": "2720c045-ddc7-4d86-ca56-948859e880d9"
      },
      "execution_count": 46,
      "outputs": [
        {
          "output_type": "execute_result",
          "data": {
            "text/plain": [
              "SVC(C=100, gamma=0.1, probability=True)"
            ]
          },
          "metadata": {},
          "execution_count": 46
        }
      ]
    },
    {
      "cell_type": "code",
      "source": [
        "y_pred_mix_1 = model_svm_1.predict(intermediate_layer_model1(X_test))\n",
        "accuracy_score(y_test,y_pred_mix_1)"
      ],
      "metadata": {
        "colab": {
          "base_uri": "https://localhost:8080/"
        },
        "id": "TRTWyw0K4hdk",
        "outputId": "06fd6ab6-69fb-443b-c0bc-977644435ba5"
      },
      "execution_count": 47,
      "outputs": [
        {
          "output_type": "execute_result",
          "data": {
            "text/plain": [
              "0.8646230323115162"
            ]
          },
          "metadata": {},
          "execution_count": 47
        }
      ]
    },
    {
      "cell_type": "code",
      "source": [
        "print(classification_report(y_test, y_pred_mix_1))\n",
        "print(150 * '*'+'\\n')\n",
        "score=accuracy_score(y_test,y_pred_mix_1)\n",
        "print(\"Accuracy score is \" , score ,'\\n')\n",
        "print(150 * '*'+'\\n')\n",
        "cm = confusion_matrix(y_test, y_pred_mix_1)\n",
        "plot_confusion_matrix(cm, classes=['FAKE','REAL'],cmap=plt.cm.Blues);"
      ],
      "metadata": {
        "colab": {
          "base_uri": "https://localhost:8080/",
          "height": 597
        },
        "id": "McyXKVpwzWo8",
        "outputId": "a63654fa-b0c3-4423-872c-8fbdf2dfcd85"
      },
      "execution_count": 48,
      "outputs": [
        {
          "output_type": "stream",
          "name": "stdout",
          "text": [
            "              precision    recall  f1-score   support\n",
            "\n",
            "           0       0.91      0.85      0.88      3419\n",
            "           1       0.82      0.89      0.85      2616\n",
            "\n",
            "    accuracy                           0.86      6035\n",
            "   macro avg       0.86      0.87      0.86      6035\n",
            "weighted avg       0.87      0.86      0.87      6035\n",
            "\n",
            "******************************************************************************************************************************************************\n",
            "\n",
            "Accuracy score is  0.8646230323115162 \n",
            "\n",
            "******************************************************************************************************************************************************\n",
            "\n",
            "Confusion matrix, without normalization\n"
          ]
        },
        {
          "output_type": "display_data",
          "data": {
            "text/plain": [
              "<Figure size 432x288 with 2 Axes>"
            ],
            "image/png": "[encoded data removed]"
          },
          "metadata": {
            "needs_background": "light"
          }
        }
      ]
    },
    {
      "cell_type": "markdown",
      "source": [
        "## Quasi_SVM Neural Network :"
      ],
      "metadata": {
        "id": "HV0SvpSaRW8w"
      }
    },
    {
      "cell_type": "code",
      "source": [
        "Quasi_svm_NN = Sequential()\n",
        "Quasi_svm_NN.add(Embedding(voc_size,embedding_vector_features,input_length=sent_length))\n",
        "Quasi_svm_NN.add(LSTM(75))\n",
        "Quasi_svm_NN.add(Dropout(0.4))\n",
        "Quasi_svm_NN.add(RandomFourierFeatures(output_dim=16, scale=10.0, kernel_initializer=\"gaussian\" ))\n",
        "Quasi_svm_NN.add(Dense(1,activation='sigmoid'))"
      ],
      "metadata": {
        "id": "ZOOXnxviRbVa"
      },
      "execution_count": 59,
      "outputs": []
    },
    {
      "cell_type": "code",
      "source": [
        "Quasi_svm_NN.summary()"
      ],
      "metadata": {
        "colab": {
          "base_uri": "https://localhost:8080/"
        },
        "id": "xbTFuw0ebgeL",
        "outputId": "992cd693-d2c4-41b7-9ed7-406dadd336f8"
      },
      "execution_count": 60,
      "outputs": [
        {
          "output_type": "stream",
          "name": "stdout",
          "text": [
            "Model: \"sequential_5\"\n",
            "_________________________________________________________________\n",
            " Layer (type)                Output Shape              Param #   \n",
            "=================================================================\n",
            " embedding_4 (Embedding)     (None, 20, 40)            200000    \n",
            "                                                                 \n",
            " lstm_4 (LSTM)               (None, 75)                34800     \n",
            "                                                                 \n",
            " dropout_4 (Dropout)         (None, 75)                0         \n",
            "                                                                 \n",
            " random_fourier_features_2 (  (None, 16)               1217      \n",
            " RandomFourierFeatures)                                          \n",
            "                                                                 \n",
            " dense_4 (Dense)             (None, 1)                 17        \n",
            "                                                                 \n",
            "=================================================================\n",
            "Total params: 236,034\n",
            "Trainable params: 234,817\n",
            "Non-trainable params: 1,217\n",
            "_________________________________________________________________\n"
          ]
        }
      ]
    },
    {
      "cell_type": "code",
      "source": [
        "Quasi_svm_NN.compile(\n",
        "    optimizer=keras.optimizers.Adam(learning_rate=1e-3),\n",
        "    loss=keras.losses.hinge,\n",
        "    metrics=[keras.metrics.CategoricalAccuracy(name=\"acc\")],\n",
        ")"
      ],
      "metadata": {
        "id": "eGP3gNKDbeMQ"
      },
      "execution_count": 61,
      "outputs": []
    },
    {
      "cell_type": "code",
      "source": [
        "Quasi_svm_NN.fit(X_train,y_train,validation_data=(X_test,y_test),epochs=15,batch_size=32)"
      ],
      "metadata": {
        "colab": {
          "base_uri": "https://localhost:8080/"
        },
        "id": "9rKpNzA5TlKG",
        "outputId": "b4740bd4-0af9-472e-e5fb-684d81c47280"
      },
      "execution_count": 62,
      "outputs": [
        {
          "output_type": "stream",
          "name": "stdout",
          "text": [
            "Epoch 1/15\n",
            "383/383 [==============================] - 14s 29ms/step - loss: 0.8003 - acc: 1.0000 - val_loss: 0.6694 - val_acc: 1.0000\n",
            "Epoch 2/15\n",
            "383/383 [==============================] - 9s 24ms/step - loss: 0.6476 - acc: 1.0000 - val_loss: 0.6533 - val_acc: 1.0000\n",
            "Epoch 3/15\n",
            "383/383 [==============================] - 9s 24ms/step - loss: 0.6232 - acc: 1.0000 - val_loss: 0.6462 - val_acc: 1.0000\n",
            "Epoch 4/15\n",
            "383/383 [==============================] - 9s 24ms/step - loss: 0.6159 - acc: 1.0000 - val_loss: 0.6451 - val_acc: 1.0000\n",
            "Epoch 5/15\n",
            "383/383 [==============================] - 9s 23ms/step - loss: 0.6092 - acc: 1.0000 - val_loss: 0.6442 - val_acc: 1.0000\n",
            "Epoch 6/15\n",
            "383/383 [==============================] - 9s 22ms/step - loss: 0.6011 - acc: 1.0000 - val_loss: 0.6482 - val_acc: 1.0000\n",
            "Epoch 7/15\n",
            "383/383 [==============================] - 8s 22ms/step - loss: 0.5985 - acc: 1.0000 - val_loss: 0.6425 - val_acc: 1.0000\n",
            "Epoch 8/15\n",
            "383/383 [==============================] - 10s 25ms/step - loss: 0.6093 - acc: 1.0000 - val_loss: 0.6482 - val_acc: 1.0000\n",
            "Epoch 9/15\n",
            "383/383 [==============================] - 9s 23ms/step - loss: 0.5960 - acc: 1.0000 - val_loss: 0.6514 - val_acc: 1.0000\n",
            "Epoch 10/15\n",
            "383/383 [==============================] - 9s 23ms/step - loss: 0.5942 - acc: 1.0000 - val_loss: 0.6459 - val_acc: 1.0000\n",
            "Epoch 11/15\n",
            "383/383 [==============================] - 9s 23ms/step - loss: 0.5921 - acc: 1.0000 - val_loss: 0.6437 - val_acc: 1.0000\n",
            "Epoch 12/15\n",
            "383/383 [==============================] - 10s 27ms/step - loss: 0.5903 - acc: 1.0000 - val_loss: 0.6451 - val_acc: 1.0000\n",
            "Epoch 13/15\n",
            "383/383 [==============================] - 8s 22ms/step - loss: 0.5904 - acc: 1.0000 - val_loss: 0.6476 - val_acc: 1.0000\n",
            "Epoch 14/15\n",
            "383/383 [==============================] - 10s 26ms/step - loss: 0.5899 - acc: 1.0000 - val_loss: 0.6518 - val_acc: 1.0000\n",
            "Epoch 15/15\n",
            "383/383 [==============================] - 9s 23ms/step - loss: 0.5894 - acc: 1.0000 - val_loss: 0.6494 - val_acc: 1.0000\n"
          ]
        },
        {
          "output_type": "execute_result",
          "data": {
            "text/plain": [
              "<keras.callbacks.History at 0x7f77024ba580>"
            ]
          },
          "metadata": {},
          "execution_count": 62
        }
      ]
    },
    {
      "cell_type": "code",
      "source": [
        "y_pred_quasi=Quasi_svm_NN.predict(X_test)"
      ],
      "metadata": {
        "colab": {
          "base_uri": "https://localhost:8080/"
        },
        "id": "_3BWhZ4ZTzrr",
        "outputId": "d6006b47-6117-4ee1-f15b-1f623d1d4fd7"
      },
      "execution_count": 63,
      "outputs": [
        {
          "output_type": "stream",
          "name": "stdout",
          "text": [
            "189/189 [==============================] - 2s 6ms/step\n"
          ]
        }
      ]
    },
    {
      "cell_type": "markdown",
      "source": [
        "## Evaluation :"
      ],
      "metadata": {
        "id": "UdC53bUIUdl9"
      }
    },
    {
      "cell_type": "code",
      "source": [
        "o = y_pred_quasi>.5\n",
        "y_pred_quasi = np.multiply(o, 1)"
      ],
      "metadata": {
        "id": "xrsLCFSva1HI"
      },
      "execution_count": 64,
      "outputs": []
    },
    {
      "cell_type": "code",
      "source": [
        "print(classification_report(y_test, y_pred_quasi))\n",
        "print(150 * '*'+'\\n')\n",
        "score=accuracy_score(y_test,y_pred_quasi)\n",
        "print(\"Accuracy score is \" , score ,'\\n')\n",
        "print(150 * '*'+'\\n')\n",
        "cm = confusion_matrix(y_test, y_pred_quasi)\n",
        "plot_confusion_matrix(cm, classes=['FAKE','REAL'],cmap=plt.cm.PuRd);"
      ],
      "metadata": {
        "colab": {
          "base_uri": "https://localhost:8080/",
          "height": 597
        },
        "id": "WjpqjLGNTzpE",
        "outputId": "072b1f3b-28f9-477a-b365-97b01636ae34"
      },
      "execution_count": 73,
      "outputs": [
        {
          "output_type": "stream",
          "name": "stdout",
          "text": [
            "              precision    recall  f1-score   support\n",
            "\n",
            "           0       0.94      0.91      0.93      3419\n",
            "           1       0.89      0.92      0.91      2616\n",
            "\n",
            "    accuracy                           0.92      6035\n",
            "   macro avg       0.91      0.92      0.92      6035\n",
            "weighted avg       0.92      0.92      0.92      6035\n",
            "\n",
            "******************************************************************************************************************************************************\n",
            "\n",
            "Accuracy score is  0.9171499585749793 \n",
            "\n",
            "******************************************************************************************************************************************************\n",
            "\n",
            "Confusion matrix, without normalization\n"
          ]
        },
        {
          "output_type": "display_data",
          "data": {
            "text/plain": [
              "<Figure size 432x288 with 2 Axes>"
            ],
            "image/png": "[encoded data removed]"
          },
          "metadata": {
            "needs_background": "light"
          }
        }
      ]
    }
  ]
}