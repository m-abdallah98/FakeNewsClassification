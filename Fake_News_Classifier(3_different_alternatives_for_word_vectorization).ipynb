{
  "nbformat": 4,
  "nbformat_minor": 0,
  "metadata": {
    "colab": {
      "provenance": []
    },
    "kernelspec": {
      "name": "python3",
      "display_name": "Python 3"
    },
    "language_info": {
      "name": "python"
    }
  },
  "cells": [
    {
      "cell_type": "markdown",
      "source": [
        "# Downloading Data"
      ],
      "metadata": {
        "id": "8dPamOXZxhDM"
      }
    },
    {
      "cell_type": "code",
      "execution_count": 1,
      "metadata": {
        "colab": {
          "base_uri": "https://localhost:8080/"
        },
        "id": "2v6GO_-slANL",
        "outputId": "84a8e998-74fe-4e52-dee3-7f6db02526b9"
      },
      "outputs": [
        {
          "output_type": "stream",
          "name": "stdout",
          "text": [
            "Looking in indexes: https://pypi.org/simple, https://us-python.pkg.dev/colab-wheels/public/simple/\n",
            "Requirement already satisfied: kaggle in /usr/local/lib/python3.8/dist-packages (1.5.12)\n",
            "Requirement already satisfied: python-dateutil in /usr/local/lib/python3.8/dist-packages (from kaggle) (2.8.2)\n",
            "Requirement already satisfied: urllib3 in /usr/local/lib/python3.8/dist-packages (from kaggle) (1.24.3)\n",
            "Requirement already satisfied: requests in /usr/local/lib/python3.8/dist-packages (from kaggle) (2.23.0)\n",
            "Requirement already satisfied: tqdm in /usr/local/lib/python3.8/dist-packages (from kaggle) (4.64.1)\n",
            "Requirement already satisfied: certifi in /usr/local/lib/python3.8/dist-packages (from kaggle) (2022.9.24)\n",
            "Requirement already satisfied: python-slugify in /usr/local/lib/python3.8/dist-packages (from kaggle) (7.0.0)\n",
            "Requirement already satisfied: six>=1.10 in /usr/local/lib/python3.8/dist-packages (from kaggle) (1.15.0)\n",
            "Requirement already satisfied: text-unidecode>=1.3 in /usr/local/lib/python3.8/dist-packages (from python-slugify->kaggle) (1.3)\n",
            "Requirement already satisfied: idna<3,>=2.5 in /usr/local/lib/python3.8/dist-packages (from requests->kaggle) (2.10)\n",
            "Requirement already satisfied: chardet<4,>=3.0.2 in /usr/local/lib/python3.8/dist-packages (from requests->kaggle) (3.0.4)\n"
          ]
        }
      ],
      "source": [
        "!pip install kaggle\n"
      ]
    },
    {
      "cell_type": "code",
      "source": [
        "from google.colab import files\n",
        "files.upload()"
      ],
      "metadata": {
        "colab": {
          "base_uri": "https://localhost:8080/",
          "height": 91
        },
        "id": "Kfi_UPZItYAa",
        "outputId": "58407b6a-bd3d-46bb-b27f-39ee63358c34"
      },
      "execution_count": 2,
      "outputs": [
        {
          "output_type": "display_data",
          "data": {
            "text/plain": [
              "<IPython.core.display.HTML object>"
            ],
            "text/html": [
              "\n",
              "     <input type=\"file\" id=\"files-3844129b-50f1-4603-96ad-58d303bf8636\" name=\"files[]\" multiple disabled\n",
              "        style=\"border:none\" />\n",
              "     <output id=\"result-3844129b-50f1-4603-96ad-58d303bf8636\">\n",
              "      Upload widget is only available when the cell has been executed in the\n",
              "      current browser session. Please rerun this cell to enable.\n",
              "      </output>\n",
              "      <script>// Copyright 2017 Google LLC\n",
              "//\n",
              "// Licensed under the Apache License, Version 2.0 (the \"License\");\n",
              "// you may not use this file except in compliance with the License.\n",
              "// You may obtain a copy of the License at\n",
              "//\n",
              "//      http://www.apache.org/licenses/LICENSE-2.0\n",
              "//\n",
              "// Unless required by applicable law or agreed to in writing, software\n",
              "// distributed under the License is distributed on an \"AS IS\" BASIS,\n",
              "// WITHOUT WARRANTIES OR CONDITIONS OF ANY KIND, either express or implied.\n",
              "// See the License for the specific language governing permissions and\n",
              "// limitations under the License.\n",
              "\n",
              "/**\n",
              " * @fileoverview Helpers for google.colab Python module.\n",
              " */\n",
              "(function(scope) {\n",
              "function span(text, styleAttributes = {}) {\n",
              "  const element = document.createElement('span');\n",
              "  element.textContent = text;\n",
              "  for (const key of Object.keys(styleAttributes)) {\n",
              "    element.style[key] = styleAttributes[key];\n",
              "  }\n",
              "  return element;\n",
              "}\n",
              "\n",
              "// Max number of bytes which will be uploaded at a time.\n",
              "const MAX_PAYLOAD_SIZE = 100 * 1024;\n",
              "\n",
              "function _uploadFiles(inputId, outputId) {\n",
              "  const steps = uploadFilesStep(inputId, outputId);\n",
              "  const outputElement = document.getElementById(outputId);\n",
              "  // Cache steps on the outputElement to make it available for the next call\n",
              "  // to uploadFilesContinue from Python.\n",
              "  outputElement.steps = steps;\n",
              "\n",
              "  return _uploadFilesContinue(outputId);\n",
              "}\n",
              "\n",
              "// This is roughly an async generator (not supported in the browser yet),\n",
              "// where there are multiple asynchronous steps and the Python side is going\n",
              "// to poll for completion of each step.\n",
              "// This uses a Promise to block the python side on completion of each step,\n",
              "// then passes the result of the previous step as the input to the next step.\n",
              "function _uploadFilesContinue(outputId) {\n",
              "  const outputElement = document.getElementById(outputId);\n",
              "  const steps = outputElement.steps;\n",
              "\n",
              "  const next = steps.next(outputElement.lastPromiseValue);\n",
              "  return Promise.resolve(next.value.promise).then((value) => {\n",
              "    // Cache the last promise value to make it available to the next\n",
              "    // step of the generator.\n",
              "    outputElement.lastPromiseValue = value;\n",
              "    return next.value.response;\n",
              "  });\n",
              "}\n",
              "\n",
              "/**\n",
              " * Generator function which is called between each async step of the upload\n",
              " * process.\n",
              " * @param {string} inputId Element ID of the input file picker element.\n",
              " * @param {string} outputId Element ID of the output display.\n",
              " * @return {!Iterable<!Object>} Iterable of next steps.\n",
              " */\n",
              "function* uploadFilesStep(inputId, outputId) {\n",
              "  const inputElement = document.getElementById(inputId);\n",
              "  inputElement.disabled = false;\n",
              "\n",
              "  const outputElement = document.getElementById(outputId);\n",
              "  outputElement.innerHTML = '';\n",
              "\n",
              "  const pickedPromise = new Promise((resolve) => {\n",
              "    inputElement.addEventListener('change', (e) => {\n",
              "      resolve(e.target.files);\n",
              "    });\n",
              "  });\n",
              "\n",
              "  const cancel = document.createElement('button');\n",
              "  inputElement.parentElement.appendChild(cancel);\n",
              "  cancel.textContent = 'Cancel upload';\n",
              "  const cancelPromise = new Promise((resolve) => {\n",
              "    cancel.onclick = () => {\n",
              "      resolve(null);\n",
              "    };\n",
              "  });\n",
              "\n",
              "  // Wait for the user to pick the files.\n",
              "  const files = yield {\n",
              "    promise: Promise.race([pickedPromise, cancelPromise]),\n",
              "    response: {\n",
              "      action: 'starting',\n",
              "    }\n",
              "  };\n",
              "\n",
              "  cancel.remove();\n",
              "\n",
              "  // Disable the input element since further picks are not allowed.\n",
              "  inputElement.disabled = true;\n",
              "\n",
              "  if (!files) {\n",
              "    return {\n",
              "      response: {\n",
              "        action: 'complete',\n",
              "      }\n",
              "    };\n",
              "  }\n",
              "\n",
              "  for (const file of files) {\n",
              "    const li = document.createElement('li');\n",
              "    li.append(span(file.name, {fontWeight: 'bold'}));\n",
              "    li.append(span(\n",
              "        `(${file.type || 'n/a'}) - ${file.size} bytes, ` +\n",
              "        `last modified: ${\n",
              "            file.lastModifiedDate ? file.lastModifiedDate.toLocaleDateString() :\n",
              "                                    'n/a'} - `));\n",
              "    const percent = span('0% done');\n",
              "    li.appendChild(percent);\n",
              "\n",
              "    outputElement.appendChild(li);\n",
              "\n",
              "    const fileDataPromise = new Promise((resolve) => {\n",
              "      const reader = new FileReader();\n",
              "      reader.onload = (e) => {\n",
              "        resolve(e.target.result);\n",
              "      };\n",
              "      reader.readAsArrayBuffer(file);\n",
              "    });\n",
              "    // Wait for the data to be ready.\n",
              "    let fileData = yield {\n",
              "      promise: fileDataPromise,\n",
              "      response: {\n",
              "        action: 'continue',\n",
              "      }\n",
              "    };\n",
              "\n",
              "    // Use a chunked sending to avoid message size limits. See b/62115660.\n",
              "    let position = 0;\n",
              "    do {\n",
              "      const length = Math.min(fileData.byteLength - position, MAX_PAYLOAD_SIZE);\n",
              "      const chunk = new Uint8Array(fileData, position, length);\n",
              "      position += length;\n",
              "\n",
              "      const base64 = btoa(String.fromCharCode.apply(null, chunk));\n",
              "      yield {\n",
              "        response: {\n",
              "          action: 'append',\n",
              "          file: file.name,\n",
              "          data: base64,\n",
              "        },\n",
              "      };\n",
              "\n",
              "      let percentDone = fileData.byteLength === 0 ?\n",
              "          100 :\n",
              "          Math.round((position / fileData.byteLength) * 100);\n",
              "      percent.textContent = `${percentDone}% done`;\n",
              "\n",
              "    } while (position < fileData.byteLength);\n",
              "  }\n",
              "\n",
              "  // All done.\n",
              "  yield {\n",
              "    response: {\n",
              "      action: 'complete',\n",
              "    }\n",
              "  };\n",
              "}\n",
              "\n",
              "scope.google = scope.google || {};\n",
              "scope.google.colab = scope.google.colab || {};\n",
              "scope.google.colab._files = {\n",
              "  _uploadFiles,\n",
              "  _uploadFilesContinue,\n",
              "};\n",
              "})(self);\n",
              "</script> "
            ]
          },
          "metadata": {}
        },
        {
          "output_type": "stream",
          "name": "stdout",
          "text": [
            "Saving kaggle.json to kaggle.json\n"
          ]
        },
        {
          "output_type": "execute_result",
          "data": {
            "text/plain": [
              "{'kaggle.json': b'{\"username\":\"mohamedabdallah98\",\"key\":\"05df623b311b1a8123f43cce3e4e80a2\"}'}"
            ]
          },
          "metadata": {},
          "execution_count": 2
        }
      ]
    },
    {
      "cell_type": "code",
      "source": [
        "!mkdir -p ~/.kaggle\n",
        "!cp kaggle.json ~/.kaggle\n",
        "!chmod 600 ~/.kaggle/kaggle.json"
      ],
      "metadata": {
        "id": "fg4QQaasthe8"
      },
      "execution_count": 3,
      "outputs": []
    },
    {
      "cell_type": "code",
      "source": [
        "!kaggle competitions download -c fake-news"
      ],
      "metadata": {
        "colab": {
          "base_uri": "https://localhost:8080/"
        },
        "id": "L94gD_h2ushG",
        "outputId": "d6f1858f-2f22-4bad-b9fe-5628ed46a71b"
      },
      "execution_count": 4,
      "outputs": [
        {
          "output_type": "stream",
          "name": "stdout",
          "text": [
            "Downloading fake-news.zip to /content\n",
            " 73% 34.0M/46.5M [00:00<00:00, 125MB/s] \n",
            "100% 46.5M/46.5M [00:00<00:00, 129MB/s]\n"
          ]
        }
      ]
    },
    {
      "cell_type": "code",
      "source": [
        "!mkdir Datasets\n",
        "!unzip fake-news.zip -d Datasets"
      ],
      "metadata": {
        "colab": {
          "base_uri": "https://localhost:8080/"
        },
        "id": "fpjVyR1cuiyg",
        "outputId": "21e5db39-6cb8-4324-8219-7505b23ac4cb"
      },
      "execution_count": 5,
      "outputs": [
        {
          "output_type": "stream",
          "name": "stdout",
          "text": [
            "Archive:  fake-news.zip\n",
            "  inflating: Datasets/submit.csv     \n",
            "  inflating: Datasets/test.csv       \n",
            "  inflating: Datasets/train.csv      \n"
          ]
        }
      ]
    },
    {
      "cell_type": "markdown",
      "source": [
        "## Import libraries"
      ],
      "metadata": {
        "id": "IFPuFfBcx-NK"
      }
    },
    {
      "cell_type": "code",
      "source": [
        "import numpy as np\n",
        "from pandas.plotting import scatter_matrix\n",
        "from matplotlib import pyplot\n",
        "import matplotlib.pyplot as plt\n",
        "import seaborn as sns \n",
        "import os\n",
        "import gensim\n",
        "from gensim.models import Word2Vec\n",
        "from gensim.models.doc2vec import Doc2Vec, TaggedDocument\n",
        "from sklearn.neural_network import MLPClassifier\n",
        "from sklearn import metrics\n",
        "from sklearn.preprocessing import MinMaxScaler,StandardScaler\n",
        "from sklearn.model_selection import train_test_split,GridSearchCV\n",
        "from sklearn.model_selection import KFold\n",
        "import pandas as pd\n",
        "from sklearn.naive_bayes import MultinomialNB\n",
        "from sklearn.ensemble import RandomForestClassifier\n",
        "from sklearn.ensemble import GradientBoostingClassifier\n",
        "from sklearn import preprocessing\n",
        "from sklearn.model_selection import cross_val_score\n",
        "from sklearn.metrics import classification_report\n",
        "from sklearn.metrics import confusion_matrix\n",
        "from sklearn.metrics import accuracy_score\n",
        "from sklearn.linear_model import LogisticRegression\n",
        "from sklearn.linear_model import PassiveAggressiveClassifier\n",
        "from sklearn.naive_bayes import GaussianNB\n",
        "from sklearn.svm import SVC\n",
        "import warnings\n",
        "warnings.filterwarnings(\"ignore\")\n",
        "\n",
        "\n",
        "import itertools\n",
        "import re\n",
        "import nltk\n",
        "from nltk.corpus import stopwords\n",
        "from nltk.stem import PorterStemmer\n",
        "from nltk.stem import WordNetLemmatizer\n",
        "from sklearn.feature_extraction.text import CountVectorizer, HashingVectorizer\n",
        "from sklearn.feature_extraction.text import TfidfVectorizer\n",
        "nltk.download('stopwords')\n",
        "nltk.download('punkt')"
      ],
      "metadata": {
        "colab": {
          "base_uri": "https://localhost:8080/"
        },
        "id": "1IrHReumwItX",
        "outputId": "5793adff-7907-465d-e14f-1d84fc8bf7fd"
      },
      "execution_count": 6,
      "outputs": [
        {
          "output_type": "stream",
          "name": "stderr",
          "text": [
            "[nltk_data] Downloading package stopwords to /root/nltk_data...\n",
            "[nltk_data]   Unzipping corpora/stopwords.zip.\n",
            "[nltk_data] Downloading package punkt to /root/nltk_data...\n",
            "[nltk_data]   Unzipping tokenizers/punkt.zip.\n"
          ]
        },
        {
          "output_type": "execute_result",
          "data": {
            "text/plain": [
              "True"
            ]
          },
          "metadata": {},
          "execution_count": 6
        }
      ]
    },
    {
      "cell_type": "markdown",
      "source": [
        "# Reading Data and EDA"
      ],
      "metadata": {
        "id": "sv3aLZUIzC1S"
      }
    },
    {
      "cell_type": "code",
      "source": [
        "data = pd.read_csv('/content/Datasets/train.csv')"
      ],
      "metadata": {
        "id": "K6UJ3OIPyjPm"
      },
      "execution_count": 7,
      "outputs": []
    },
    {
      "cell_type": "code",
      "source": [
        "data"
      ],
      "metadata": {
        "colab": {
          "base_uri": "https://localhost:8080/",
          "height": 424
        },
        "id": "u0NravikyjLu",
        "outputId": "434bfd8b-2c53-4585-fe21-a33ba57523c7"
      },
      "execution_count": 8,
      "outputs": [
        {
          "output_type": "execute_result",
          "data": {
            "text/plain": [
              "          id                                              title  \\\n",
              "0          0  House Dem Aide: We Didn’t Even See Comey’s Let...   \n",
              "1          1  FLYNN: Hillary Clinton, Big Woman on Campus - ...   \n",
              "2          2                  Why the Truth Might Get You Fired   \n",
              "3          3  15 Civilians Killed In Single US Airstrike Hav...   \n",
              "4          4  Iranian woman jailed for fictional unpublished...   \n",
              "...      ...                                                ...   \n",
              "20795  20795  Rapper T.I.: Trump a ’Poster Child For White S...   \n",
              "20796  20796  N.F.L. Playoffs: Schedule, Matchups and Odds -...   \n",
              "20797  20797  Macy’s Is Said to Receive Takeover Approach by...   \n",
              "20798  20798  NATO, Russia To Hold Parallel Exercises In Bal...   \n",
              "20799  20799                          What Keeps the F-35 Alive   \n",
              "\n",
              "                                          author  \\\n",
              "0                                  Darrell Lucus   \n",
              "1                                Daniel J. Flynn   \n",
              "2                             Consortiumnews.com   \n",
              "3                                Jessica Purkiss   \n",
              "4                                 Howard Portnoy   \n",
              "...                                          ...   \n",
              "20795                              Jerome Hudson   \n",
              "20796                           Benjamin Hoffman   \n",
              "20797  Michael J. de la Merced and Rachel Abrams   \n",
              "20798                                Alex Ansary   \n",
              "20799                              David Swanson   \n",
              "\n",
              "                                                    text  label  \n",
              "0      House Dem Aide: We Didn’t Even See Comey’s Let...      1  \n",
              "1      Ever get the feeling your life circles the rou...      0  \n",
              "2      Why the Truth Might Get You Fired October 29, ...      1  \n",
              "3      Videos 15 Civilians Killed In Single US Airstr...      1  \n",
              "4      Print \\nAn Iranian woman has been sentenced to...      1  \n",
              "...                                                  ...    ...  \n",
              "20795  Rapper T. I. unloaded on black celebrities who...      0  \n",
              "20796  When the Green Bay Packers lost to the Washing...      0  \n",
              "20797  The Macy’s of today grew from the union of sev...      0  \n",
              "20798  NATO, Russia To Hold Parallel Exercises In Bal...      1  \n",
              "20799    David Swanson is an author, activist, journa...      1  \n",
              "\n",
              "[20800 rows x 5 columns]"
            ],
            "text/html": [
              "\n",
              "  <div id=\"df-97bf7a7e-213b-472f-b2f7-57723f434f8c\">\n",
              "    <div class=\"colab-df-container\">\n",
              "      <div>\n",
              "<style scoped>\n",
              "    .dataframe tbody tr th:only-of-type {\n",
              "        vertical-align: middle;\n",
              "    }\n",
              "\n",
              "    .dataframe tbody tr th {\n",
              "        vertical-align: top;\n",
              "    }\n",
              "\n",
              "    .dataframe thead th {\n",
              "        text-align: right;\n",
              "    }\n",
              "</style>\n",
              "<table border=\"1\" class=\"dataframe\">\n",
              "  <thead>\n",
              "    <tr style=\"text-align: right;\">\n",
              "      <th></th>\n",
              "      <th>id</th>\n",
              "      <th>title</th>\n",
              "      <th>author</th>\n",
              "      <th>text</th>\n",
              "      <th>label</th>\n",
              "    </tr>\n",
              "  </thead>\n",
              "  <tbody>\n",
              "    <tr>\n",
              "      <th>0</th>\n",
              "      <td>0</td>\n",
              "      <td>House Dem Aide: We Didn’t Even See Comey’s Let...</td>\n",
              "      <td>Darrell Lucus</td>\n",
              "      <td>House Dem Aide: We Didn’t Even See Comey’s Let...</td>\n",
              "      <td>1</td>\n",
              "    </tr>\n",
              "    <tr>\n",
              "      <th>1</th>\n",
              "      <td>1</td>\n",
              "      <td>FLYNN: Hillary Clinton, Big Woman on Campus - ...</td>\n",
              "      <td>Daniel J. Flynn</td>\n",
              "      <td>Ever get the feeling your life circles the rou...</td>\n",
              "      <td>0</td>\n",
              "    </tr>\n",
              "    <tr>\n",
              "      <th>2</th>\n",
              "      <td>2</td>\n",
              "      <td>Why the Truth Might Get You Fired</td>\n",
              "      <td>Consortiumnews.com</td>\n",
              "      <td>Why the Truth Might Get You Fired October 29, ...</td>\n",
              "      <td>1</td>\n",
              "    </tr>\n",
              "    <tr>\n",
              "      <th>3</th>\n",
              "      <td>3</td>\n",
              "      <td>15 Civilians Killed In Single US Airstrike Hav...</td>\n",
              "      <td>Jessica Purkiss</td>\n",
              "      <td>Videos 15 Civilians Killed In Single US Airstr...</td>\n",
              "      <td>1</td>\n",
              "    </tr>\n",
              "    <tr>\n",
              "      <th>4</th>\n",
              "      <td>4</td>\n",
              "      <td>Iranian woman jailed for fictional unpublished...</td>\n",
              "      <td>Howard Portnoy</td>\n",
              "      <td>Print \\nAn Iranian woman has been sentenced to...</td>\n",
              "      <td>1</td>\n",
              "    </tr>\n",
              "    <tr>\n",
              "      <th>...</th>\n",
              "      <td>...</td>\n",
              "      <td>...</td>\n",
              "      <td>...</td>\n",
              "      <td>...</td>\n",
              "      <td>...</td>\n",
              "    </tr>\n",
              "    <tr>\n",
              "      <th>20795</th>\n",
              "      <td>20795</td>\n",
              "      <td>Rapper T.I.: Trump a ’Poster Child For White S...</td>\n",
              "      <td>Jerome Hudson</td>\n",
              "      <td>Rapper T. I. unloaded on black celebrities who...</td>\n",
              "      <td>0</td>\n",
              "    </tr>\n",
              "    <tr>\n",
              "      <th>20796</th>\n",
              "      <td>20796</td>\n",
              "      <td>N.F.L. Playoffs: Schedule, Matchups and Odds -...</td>\n",
              "      <td>Benjamin Hoffman</td>\n",
              "      <td>When the Green Bay Packers lost to the Washing...</td>\n",
              "      <td>0</td>\n",
              "    </tr>\n",
              "    <tr>\n",
              "      <th>20797</th>\n",
              "      <td>20797</td>\n",
              "      <td>Macy’s Is Said to Receive Takeover Approach by...</td>\n",
              "      <td>Michael J. de la Merced and Rachel Abrams</td>\n",
              "      <td>The Macy’s of today grew from the union of sev...</td>\n",
              "      <td>0</td>\n",
              "    </tr>\n",
              "    <tr>\n",
              "      <th>20798</th>\n",
              "      <td>20798</td>\n",
              "      <td>NATO, Russia To Hold Parallel Exercises In Bal...</td>\n",
              "      <td>Alex Ansary</td>\n",
              "      <td>NATO, Russia To Hold Parallel Exercises In Bal...</td>\n",
              "      <td>1</td>\n",
              "    </tr>\n",
              "    <tr>\n",
              "      <th>20799</th>\n",
              "      <td>20799</td>\n",
              "      <td>What Keeps the F-35 Alive</td>\n",
              "      <td>David Swanson</td>\n",
              "      <td>David Swanson is an author, activist, journa...</td>\n",
              "      <td>1</td>\n",
              "    </tr>\n",
              "  </tbody>\n",
              "</table>\n",
              "<p>20800 rows × 5 columns</p>\n",
              "</div>\n",
              "      <button class=\"colab-df-convert\" onclick=\"convertToInteractive('df-97bf7a7e-213b-472f-b2f7-57723f434f8c')\"\n",
              "              title=\"Convert this dataframe to an interactive table.\"\n",
              "              style=\"display:none;\">\n",
              "        \n",
              "  <svg xmlns=\"http://www.w3.org/2000/svg\" height=\"24px\"viewBox=\"0 0 24 24\"\n",
              "       width=\"24px\">\n",
              "    <path d=\"M0 0h24v24H0V0z\" fill=\"none\"/>\n",
              "    <path d=\"M18.56 5.44l.94 2.06.94-2.06 2.06-.94-2.06-.94-.94-2.06-.94 2.06-2.06.94zm-11 1L8.5 8.5l.94-2.06 2.06-.94-2.06-.94L8.5 2.5l-.94 2.06-2.06.94zm10 10l.94 2.06.94-2.06 2.06-.94-2.06-.94-.94-2.06-.94 2.06-2.06.94z\"/><path d=\"M17.41 7.96l-1.37-1.37c-.4-.4-.92-.59-1.43-.59-.52 0-1.04.2-1.43.59L10.3 9.45l-7.72 7.72c-.78.78-.78 2.05 0 2.83L4 21.41c.39.39.9.59 1.41.59.51 0 1.02-.2 1.41-.59l7.78-7.78 2.81-2.81c.8-.78.8-2.07 0-2.86zM5.41 20L4 18.59l7.72-7.72 1.47 1.35L5.41 20z\"/>\n",
              "  </svg>\n",
              "      </button>\n",
              "      \n",
              "  <style>\n",
              "    .colab-df-container {\n",
              "      display:flex;\n",
              "      flex-wrap:wrap;\n",
              "      gap: 12px;\n",
              "    }\n",
              "\n",
              "    .colab-df-convert {\n",
              "      background-color: #E8F0FE;\n",
              "      border: none;\n",
              "      border-radius: 50%;\n",
              "      cursor: pointer;\n",
              "      display: none;\n",
              "      fill: #1967D2;\n",
              "      height: 32px;\n",
              "      padding: 0 0 0 0;\n",
              "      width: 32px;\n",
              "    }\n",
              "\n",
              "    .colab-df-convert:hover {\n",
              "      background-color: #E2EBFA;\n",
              "      box-shadow: 0px 1px 2px rgba(60, 64, 67, 0.3), 0px 1px 3px 1px rgba(60, 64, 67, 0.15);\n",
              "      fill: #174EA6;\n",
              "    }\n",
              "\n",
              "    [theme=dark] .colab-df-convert {\n",
              "      background-color: #3B4455;\n",
              "      fill: #D2E3FC;\n",
              "    }\n",
              "\n",
              "    [theme=dark] .colab-df-convert:hover {\n",
              "      background-color: #434B5C;\n",
              "      box-shadow: 0px 1px 3px 1px rgba(0, 0, 0, 0.15);\n",
              "      filter: drop-shadow(0px 1px 2px rgba(0, 0, 0, 0.3));\n",
              "      fill: #FFFFFF;\n",
              "    }\n",
              "  </style>\n",
              "\n",
              "      <script>\n",
              "        const buttonEl =\n",
              "          document.querySelector('#df-97bf7a7e-213b-472f-b2f7-57723f434f8c button.colab-df-convert');\n",
              "        buttonEl.style.display =\n",
              "          google.colab.kernel.accessAllowed ? 'block' : 'none';\n",
              "\n",
              "        async function convertToInteractive(key) {\n",
              "          const element = document.querySelector('#df-97bf7a7e-213b-472f-b2f7-57723f434f8c');\n",
              "          const dataTable =\n",
              "            await google.colab.kernel.invokeFunction('convertToInteractive',\n",
              "                                                     [key], {});\n",
              "          if (!dataTable) return;\n",
              "\n",
              "          const docLinkHtml = 'Like what you see? Visit the ' +\n",
              "            '<a target=\"_blank\" href=https://colab.research.google.com/notebooks/data_table.ipynb>data table notebook</a>'\n",
              "            + ' to learn more about interactive tables.';\n",
              "          element.innerHTML = '';\n",
              "          dataTable['output_type'] = 'display_data';\n",
              "          await google.colab.output.renderOutput(dataTable, element);\n",
              "          const docLink = document.createElement('div');\n",
              "          docLink.innerHTML = docLinkHtml;\n",
              "          element.appendChild(docLink);\n",
              "        }\n",
              "      </script>\n",
              "    </div>\n",
              "  </div>\n",
              "  "
            ]
          },
          "metadata": {},
          "execution_count": 8
        }
      ]
    },
    {
      "cell_type": "code",
      "source": [
        "y=data['label']"
      ],
      "metadata": {
        "id": "yM_TEwx8yjKV"
      },
      "execution_count": 9,
      "outputs": []
    },
    {
      "cell_type": "code",
      "source": [
        "X=data.drop(columns=['label'])"
      ],
      "metadata": {
        "id": "cHlKIO88yi6w"
      },
      "execution_count": 10,
      "outputs": []
    },
    {
      "cell_type": "code",
      "source": [
        "X.head()"
      ],
      "metadata": {
        "colab": {
          "base_uri": "https://localhost:8080/",
          "height": 206
        },
        "id": "d4uM9jk6yi48",
        "outputId": "4556b710-a56c-430c-ace8-941fdf07cddb"
      },
      "execution_count": 11,
      "outputs": [
        {
          "output_type": "execute_result",
          "data": {
            "text/plain": [
              "   id                                              title              author  \\\n",
              "0   0  House Dem Aide: We Didn’t Even See Comey’s Let...       Darrell Lucus   \n",
              "1   1  FLYNN: Hillary Clinton, Big Woman on Campus - ...     Daniel J. Flynn   \n",
              "2   2                  Why the Truth Might Get You Fired  Consortiumnews.com   \n",
              "3   3  15 Civilians Killed In Single US Airstrike Hav...     Jessica Purkiss   \n",
              "4   4  Iranian woman jailed for fictional unpublished...      Howard Portnoy   \n",
              "\n",
              "                                                text  \n",
              "0  House Dem Aide: We Didn’t Even See Comey’s Let...  \n",
              "1  Ever get the feeling your life circles the rou...  \n",
              "2  Why the Truth Might Get You Fired October 29, ...  \n",
              "3  Videos 15 Civilians Killed In Single US Airstr...  \n",
              "4  Print \\nAn Iranian woman has been sentenced to...  "
            ],
            "text/html": [
              "\n",
              "  <div id=\"df-c90842f0-3ff8-446c-820e-d9237e7c200a\">\n",
              "    <div class=\"colab-df-container\">\n",
              "      <div>\n",
              "<style scoped>\n",
              "    .dataframe tbody tr th:only-of-type {\n",
              "        vertical-align: middle;\n",
              "    }\n",
              "\n",
              "    .dataframe tbody tr th {\n",
              "        vertical-align: top;\n",
              "    }\n",
              "\n",
              "    .dataframe thead th {\n",
              "        text-align: right;\n",
              "    }\n",
              "</style>\n",
              "<table border=\"1\" class=\"dataframe\">\n",
              "  <thead>\n",
              "    <tr style=\"text-align: right;\">\n",
              "      <th></th>\n",
              "      <th>id</th>\n",
              "      <th>title</th>\n",
              "      <th>author</th>\n",
              "      <th>text</th>\n",
              "    </tr>\n",
              "  </thead>\n",
              "  <tbody>\n",
              "    <tr>\n",
              "      <th>0</th>\n",
              "      <td>0</td>\n",
              "      <td>House Dem Aide: We Didn’t Even See Comey’s Let...</td>\n",
              "      <td>Darrell Lucus</td>\n",
              "      <td>House Dem Aide: We Didn’t Even See Comey’s Let...</td>\n",
              "    </tr>\n",
              "    <tr>\n",
              "      <th>1</th>\n",
              "      <td>1</td>\n",
              "      <td>FLYNN: Hillary Clinton, Big Woman on Campus - ...</td>\n",
              "      <td>Daniel J. Flynn</td>\n",
              "      <td>Ever get the feeling your life circles the rou...</td>\n",
              "    </tr>\n",
              "    <tr>\n",
              "      <th>2</th>\n",
              "      <td>2</td>\n",
              "      <td>Why the Truth Might Get You Fired</td>\n",
              "      <td>Consortiumnews.com</td>\n",
              "      <td>Why the Truth Might Get You Fired October 29, ...</td>\n",
              "    </tr>\n",
              "    <tr>\n",
              "      <th>3</th>\n",
              "      <td>3</td>\n",
              "      <td>15 Civilians Killed In Single US Airstrike Hav...</td>\n",
              "      <td>Jessica Purkiss</td>\n",
              "      <td>Videos 15 Civilians Killed In Single US Airstr...</td>\n",
              "    </tr>\n",
              "    <tr>\n",
              "      <th>4</th>\n",
              "      <td>4</td>\n",
              "      <td>Iranian woman jailed for fictional unpublished...</td>\n",
              "      <td>Howard Portnoy</td>\n",
              "      <td>Print \\nAn Iranian woman has been sentenced to...</td>\n",
              "    </tr>\n",
              "  </tbody>\n",
              "</table>\n",
              "</div>\n",
              "      <button class=\"colab-df-convert\" onclick=\"convertToInteractive('df-c90842f0-3ff8-446c-820e-d9237e7c200a')\"\n",
              "              title=\"Convert this dataframe to an interactive table.\"\n",
              "              style=\"display:none;\">\n",
              "        \n",
              "  <svg xmlns=\"http://www.w3.org/2000/svg\" height=\"24px\"viewBox=\"0 0 24 24\"\n",
              "       width=\"24px\">\n",
              "    <path d=\"M0 0h24v24H0V0z\" fill=\"none\"/>\n",
              "    <path d=\"M18.56 5.44l.94 2.06.94-2.06 2.06-.94-2.06-.94-.94-2.06-.94 2.06-2.06.94zm-11 1L8.5 8.5l.94-2.06 2.06-.94-2.06-.94L8.5 2.5l-.94 2.06-2.06.94zm10 10l.94 2.06.94-2.06 2.06-.94-2.06-.94-.94-2.06-.94 2.06-2.06.94z\"/><path d=\"M17.41 7.96l-1.37-1.37c-.4-.4-.92-.59-1.43-.59-.52 0-1.04.2-1.43.59L10.3 9.45l-7.72 7.72c-.78.78-.78 2.05 0 2.83L4 21.41c.39.39.9.59 1.41.59.51 0 1.02-.2 1.41-.59l7.78-7.78 2.81-2.81c.8-.78.8-2.07 0-2.86zM5.41 20L4 18.59l7.72-7.72 1.47 1.35L5.41 20z\"/>\n",
              "  </svg>\n",
              "      </button>\n",
              "      \n",
              "  <style>\n",
              "    .colab-df-container {\n",
              "      display:flex;\n",
              "      flex-wrap:wrap;\n",
              "      gap: 12px;\n",
              "    }\n",
              "\n",
              "    .colab-df-convert {\n",
              "      background-color: #E8F0FE;\n",
              "      border: none;\n",
              "      border-radius: 50%;\n",
              "      cursor: pointer;\n",
              "      display: none;\n",
              "      fill: #1967D2;\n",
              "      height: 32px;\n",
              "      padding: 0 0 0 0;\n",
              "      width: 32px;\n",
              "    }\n",
              "\n",
              "    .colab-df-convert:hover {\n",
              "      background-color: #E2EBFA;\n",
              "      box-shadow: 0px 1px 2px rgba(60, 64, 67, 0.3), 0px 1px 3px 1px rgba(60, 64, 67, 0.15);\n",
              "      fill: #174EA6;\n",
              "    }\n",
              "\n",
              "    [theme=dark] .colab-df-convert {\n",
              "      background-color: #3B4455;\n",
              "      fill: #D2E3FC;\n",
              "    }\n",
              "\n",
              "    [theme=dark] .colab-df-convert:hover {\n",
              "      background-color: #434B5C;\n",
              "      box-shadow: 0px 1px 3px 1px rgba(0, 0, 0, 0.15);\n",
              "      filter: drop-shadow(0px 1px 2px rgba(0, 0, 0, 0.3));\n",
              "      fill: #FFFFFF;\n",
              "    }\n",
              "  </style>\n",
              "\n",
              "      <script>\n",
              "        const buttonEl =\n",
              "          document.querySelector('#df-c90842f0-3ff8-446c-820e-d9237e7c200a button.colab-df-convert');\n",
              "        buttonEl.style.display =\n",
              "          google.colab.kernel.accessAllowed ? 'block' : 'none';\n",
              "\n",
              "        async function convertToInteractive(key) {\n",
              "          const element = document.querySelector('#df-c90842f0-3ff8-446c-820e-d9237e7c200a');\n",
              "          const dataTable =\n",
              "            await google.colab.kernel.invokeFunction('convertToInteractive',\n",
              "                                                     [key], {});\n",
              "          if (!dataTable) return;\n",
              "\n",
              "          const docLinkHtml = 'Like what you see? Visit the ' +\n",
              "            '<a target=\"_blank\" href=https://colab.research.google.com/notebooks/data_table.ipynb>data table notebook</a>'\n",
              "            + ' to learn more about interactive tables.';\n",
              "          element.innerHTML = '';\n",
              "          dataTable['output_type'] = 'display_data';\n",
              "          await google.colab.output.renderOutput(dataTable, element);\n",
              "          const docLink = document.createElement('div');\n",
              "          docLink.innerHTML = docLinkHtml;\n",
              "          element.appendChild(docLink);\n",
              "        }\n",
              "      </script>\n",
              "    </div>\n",
              "  </div>\n",
              "  "
            ]
          },
          "metadata": {},
          "execution_count": 11
        }
      ]
    },
    {
      "cell_type": "code",
      "source": [
        "data.info()"
      ],
      "metadata": {
        "colab": {
          "base_uri": "https://localhost:8080/"
        },
        "id": "-tfTgofkyi17",
        "outputId": "77083ecc-8593-4e7e-a230-2dcd2ce4967e"
      },
      "execution_count": 12,
      "outputs": [
        {
          "output_type": "stream",
          "name": "stdout",
          "text": [
            "<class 'pandas.core.frame.DataFrame'>\n",
            "RangeIndex: 20800 entries, 0 to 20799\n",
            "Data columns (total 5 columns):\n",
            " #   Column  Non-Null Count  Dtype \n",
            "---  ------  --------------  ----- \n",
            " 0   id      20800 non-null  int64 \n",
            " 1   title   20242 non-null  object\n",
            " 2   author  18843 non-null  object\n",
            " 3   text    20761 non-null  object\n",
            " 4   label   20800 non-null  int64 \n",
            "dtypes: int64(2), object(3)\n",
            "memory usage: 812.6+ KB\n"
          ]
        }
      ]
    },
    {
      "cell_type": "code",
      "source": [
        "data['text'].isnull().sum()"
      ],
      "metadata": {
        "colab": {
          "base_uri": "https://localhost:8080/"
        },
        "id": "BI8hFXJqyi0d",
        "outputId": "671c193e-b899-4aee-b490-425f64e9f235"
      },
      "execution_count": 13,
      "outputs": [
        {
          "output_type": "execute_result",
          "data": {
            "text/plain": [
              "39"
            ]
          },
          "metadata": {},
          "execution_count": 13
        }
      ]
    },
    {
      "cell_type": "markdown",
      "source": [
        "# Preprocessing"
      ],
      "metadata": {
        "id": "ku1f5Hzz9DoU"
      }
    },
    {
      "cell_type": "code",
      "source": [
        "data.dropna(inplace =True)"
      ],
      "metadata": {
        "id": "5w8wlOnt1eRh"
      },
      "execution_count": 14,
      "outputs": []
    },
    {
      "cell_type": "code",
      "source": [
        "news_msg = data.copy()"
      ],
      "metadata": {
        "id": "UgKMrQSD4opF"
      },
      "execution_count": 15,
      "outputs": []
    },
    {
      "cell_type": "code",
      "source": [
        "news_msg.reset_index(inplace = True)"
      ],
      "metadata": {
        "id": "_PXWNGtL6g-C"
      },
      "execution_count": 16,
      "outputs": []
    },
    {
      "cell_type": "code",
      "source": [
        "news_msg.info()"
      ],
      "metadata": {
        "colab": {
          "base_uri": "https://localhost:8080/"
        },
        "id": "bJmyqmDh60qb",
        "outputId": "a18eab28-7c30-4772-dbb5-22194b7a2b22"
      },
      "execution_count": 17,
      "outputs": [
        {
          "output_type": "stream",
          "name": "stdout",
          "text": [
            "<class 'pandas.core.frame.DataFrame'>\n",
            "RangeIndex: 18285 entries, 0 to 18284\n",
            "Data columns (total 6 columns):\n",
            " #   Column  Non-Null Count  Dtype \n",
            "---  ------  --------------  ----- \n",
            " 0   index   18285 non-null  int64 \n",
            " 1   id      18285 non-null  int64 \n",
            " 2   title   18285 non-null  object\n",
            " 3   author  18285 non-null  object\n",
            " 4   text    18285 non-null  object\n",
            " 5   label   18285 non-null  int64 \n",
            "dtypes: int64(3), object(3)\n",
            "memory usage: 857.2+ KB\n"
          ]
        }
      ]
    },
    {
      "cell_type": "code",
      "source": [
        "news_msg['title'][6]"
      ],
      "metadata": {
        "colab": {
          "base_uri": "https://localhost:8080/",
          "height": 35
        },
        "id": "8fFbKa9j7DnW",
        "outputId": "2c7fae26-bd7e-41f1-e3ef-fccc23a5e546"
      },
      "execution_count": 18,
      "outputs": [
        {
          "output_type": "execute_result",
          "data": {
            "text/plain": [
              "'Benoît Hamon Wins French Socialist Party’s Presidential Nomination - The New York Times'"
            ],
            "application/vnd.google.colaboratory.intrinsic+json": {
              "type": "string"
            }
          },
          "metadata": {},
          "execution_count": 18
        }
      ]
    },
    {
      "cell_type": "code",
      "source": [
        "ps = PorterStemmer()\n",
        "corpus = []\n",
        "for i in range(0, len(news_msg)):\n",
        "    review = re.sub('[^a-zA-Z]', ' ', news_msg['title'][i])\n",
        "    review = review.lower()\n",
        "    review = review.split()\n",
        "    \n",
        "    review = [ps.stem(word) for word in review if not word in stopwords.words('english')]\n",
        "    review = ' '.join(review)\n",
        "    corpus.append(review)"
      ],
      "metadata": {
        "id": "-LrOCczR5-AT"
      },
      "execution_count": 19,
      "outputs": []
    },
    {
      "cell_type": "code",
      "source": [
        "corpus[6]"
      ],
      "metadata": {
        "colab": {
          "base_uri": "https://localhost:8080/",
          "height": 35
        },
        "id": "mv5JjQ0859-I",
        "outputId": "87fba7c9-f150-4dae-832d-2a4ceb57e102"
      },
      "execution_count": 20,
      "outputs": [
        {
          "output_type": "execute_result",
          "data": {
            "text/plain": [
              "'beno hamon win french socialist parti presidenti nomin new york time'"
            ],
            "application/vnd.google.colaboratory.intrinsic+json": {
              "type": "string"
            }
          },
          "metadata": {},
          "execution_count": 20
        }
      ]
    },
    {
      "cell_type": "code",
      "source": [
        "countvector=CountVectorizer(max_features=5000,ngram_range=(1,3))\n",
        "X=countvector.fit_transform(corpus).toarray()"
      ],
      "metadata": {
        "id": "o50gtsgM8Hxg"
      },
      "execution_count": 21,
      "outputs": []
    },
    {
      "cell_type": "code",
      "source": [
        "X.shape"
      ],
      "metadata": {
        "colab": {
          "base_uri": "https://localhost:8080/"
        },
        "id": "bmQSfIDa8oN7",
        "outputId": "49a8e3fc-25bc-4e2c-ed76-6a1cec032a57"
      },
      "execution_count": 22,
      "outputs": [
        {
          "output_type": "execute_result",
          "data": {
            "text/plain": [
              "(18285, 5000)"
            ]
          },
          "metadata": {},
          "execution_count": 22
        }
      ]
    },
    {
      "cell_type": "code",
      "source": [
        "y=news_msg['label']"
      ],
      "metadata": {
        "id": "0mEm-Ssb91x6"
      },
      "execution_count": 23,
      "outputs": []
    },
    {
      "cell_type": "code",
      "source": [
        "y.shape"
      ],
      "metadata": {
        "colab": {
          "base_uri": "https://localhost:8080/"
        },
        "id": "HMHFjjD0-Ap_",
        "outputId": "3bf87122-03a4-4dfa-c452-bb2e95652b9b"
      },
      "execution_count": 24,
      "outputs": [
        {
          "output_type": "execute_result",
          "data": {
            "text/plain": [
              "(18285,)"
            ]
          },
          "metadata": {},
          "execution_count": 24
        }
      ]
    },
    {
      "cell_type": "code",
      "source": [
        "countvector.get_feature_names()[:20]"
      ],
      "metadata": {
        "colab": {
          "base_uri": "https://localhost:8080/"
        },
        "id": "-dEc_CZd-rPo",
        "outputId": "d218dedb-980a-49cf-f2b9-c8e2269e8370"
      },
      "execution_count": 25,
      "outputs": [
        {
          "output_type": "execute_result",
          "data": {
            "text/plain": [
              "['abandon',\n",
              " 'abc',\n",
              " 'abc news',\n",
              " 'abduct',\n",
              " 'abe',\n",
              " 'abedin',\n",
              " 'abl',\n",
              " 'abort',\n",
              " 'abroad',\n",
              " 'absolut',\n",
              " 'abstain',\n",
              " 'absurd',\n",
              " 'abus',\n",
              " 'abus new',\n",
              " 'abus new york',\n",
              " 'academi',\n",
              " 'accept',\n",
              " 'access',\n",
              " 'access pipelin',\n",
              " 'access pipelin protest']"
            ]
          },
          "metadata": {},
          "execution_count": 25
        }
      ]
    },
    {
      "cell_type": "code",
      "source": [
        "#countvector.get_params()"
      ],
      "metadata": {
        "id": "jmdt4Jnh-7t5"
      },
      "execution_count": 26,
      "outputs": []
    },
    {
      "cell_type": "markdown",
      "source": [
        "# Splitting Data and Visuals"
      ],
      "metadata": {
        "id": "QyoNt9JD9qCU"
      }
    },
    {
      "cell_type": "code",
      "source": [
        "X_train,X_test,y_train,y_test = train_test_split(X,y,test_size=.33,random_state=0)"
      ],
      "metadata": {
        "id": "M0Jgs2238yU6"
      },
      "execution_count": 27,
      "outputs": []
    },
    {
      "cell_type": "markdown",
      "source": [
        "### Using Counvectorizer (BoW)"
      ],
      "metadata": {
        "id": "8PSZY7h-vFUL"
      }
    },
    {
      "cell_type": "code",
      "source": [
        "count_df = pd.DataFrame(X_train,columns= countvector.get_feature_names())"
      ],
      "metadata": {
        "id": "l_wuoEB--Q80"
      },
      "execution_count": 28,
      "outputs": []
    },
    {
      "cell_type": "code",
      "source": [
        "count_df"
      ],
      "metadata": {
        "colab": {
          "base_uri": "https://localhost:8080/",
          "height": 424
        },
        "id": "xj0QG8QS_kLb",
        "outputId": "cd26d3de-74c9-464c-d2e6-20ecabda405c"
      },
      "execution_count": 29,
      "outputs": [
        {
          "output_type": "execute_result",
          "data": {
            "text/plain": [
              "       abandon  abc  abc news  abduct  abe  abedin  abl  abort  abroad  \\\n",
              "0            0    0         0       0    0       0    0      0       0   \n",
              "1            0    0         0       0    0       0    0      0       0   \n",
              "2            0    0         0       0    0       0    0      0       0   \n",
              "3            0    0         0       0    0       0    0      0       0   \n",
              "4            0    0         0       0    0       0    0      0       0   \n",
              "...        ...  ...       ...     ...  ...     ...  ...    ...     ...   \n",
              "12245        0    0         0       0    0       0    0      0       0   \n",
              "12246        0    0         0       0    0       0    0      0       0   \n",
              "12247        0    0         0       0    0       0    0      0       0   \n",
              "12248        0    0         0       0    0       0    0      0       0   \n",
              "12249        0    0         0       0    0       0    0      0       0   \n",
              "\n",
              "       absolut  ...  zero  zika  zika viru  zionist  zone  zone new  \\\n",
              "0            0  ...     0     0          0        0     0         0   \n",
              "1            0  ...     0     0          0        0     0         0   \n",
              "2            0  ...     0     0          0        0     0         0   \n",
              "3            0  ...     0     0          0        0     0         0   \n",
              "4            1  ...     0     0          0        0     0         0   \n",
              "...        ...  ...   ...   ...        ...      ...   ...       ...   \n",
              "12245        0  ...     0     0          0        0     0         0   \n",
              "12246        0  ...     0     0          0        0     0         0   \n",
              "12247        0  ...     0     0          0        0     0         0   \n",
              "12248        0  ...     0     0          0        0     0         0   \n",
              "12249        0  ...     0     0          0        0     0         0   \n",
              "\n",
              "       zone new york  zoo  zu  zuckerberg  \n",
              "0                  0    0   0           0  \n",
              "1                  0    0   0           0  \n",
              "2                  0    0   0           0  \n",
              "3                  0    0   0           0  \n",
              "4                  0    0   0           0  \n",
              "...              ...  ...  ..         ...  \n",
              "12245              0    0   0           0  \n",
              "12246              0    0   0           0  \n",
              "12247              0    0   0           0  \n",
              "12248              0    0   0           0  \n",
              "12249              0    0   0           0  \n",
              "\n",
              "[12250 rows x 5000 columns]"
            ],
            "text/html": [
              "\n",
              "  <div id=\"df-db419a3f-b320-4fa8-aca9-f920e56bf716\">\n",
              "    <div class=\"colab-df-container\">\n",
              "      <div>\n",
              "<style scoped>\n",
              "    .dataframe tbody tr th:only-of-type {\n",
              "        vertical-align: middle;\n",
              "    }\n",
              "\n",
              "    .dataframe tbody tr th {\n",
              "        vertical-align: top;\n",
              "    }\n",
              "\n",
              "    .dataframe thead th {\n",
              "        text-align: right;\n",
              "    }\n",
              "</style>\n",
              "<table border=\"1\" class=\"dataframe\">\n",
              "  <thead>\n",
              "    <tr style=\"text-align: right;\">\n",
              "      <th></th>\n",
              "      <th>abandon</th>\n",
              "      <th>abc</th>\n",
              "      <th>abc news</th>\n",
              "      <th>abduct</th>\n",
              "      <th>abe</th>\n",
              "      <th>abedin</th>\n",
              "      <th>abl</th>\n",
              "      <th>abort</th>\n",
              "      <th>abroad</th>\n",
              "      <th>absolut</th>\n",
              "      <th>...</th>\n",
              "      <th>zero</th>\n",
              "      <th>zika</th>\n",
              "      <th>zika viru</th>\n",
              "      <th>zionist</th>\n",
              "      <th>zone</th>\n",
              "      <th>zone new</th>\n",
              "      <th>zone new york</th>\n",
              "      <th>zoo</th>\n",
              "      <th>zu</th>\n",
              "      <th>zuckerberg</th>\n",
              "    </tr>\n",
              "  </thead>\n",
              "  <tbody>\n",
              "    <tr>\n",
              "      <th>0</th>\n",
              "      <td>0</td>\n",
              "      <td>0</td>\n",
              "      <td>0</td>\n",
              "      <td>0</td>\n",
              "      <td>0</td>\n",
              "      <td>0</td>\n",
              "      <td>0</td>\n",
              "      <td>0</td>\n",
              "      <td>0</td>\n",
              "      <td>0</td>\n",
              "      <td>...</td>\n",
              "      <td>0</td>\n",
              "      <td>0</td>\n",
              "      <td>0</td>\n",
              "      <td>0</td>\n",
              "      <td>0</td>\n",
              "      <td>0</td>\n",
              "      <td>0</td>\n",
              "      <td>0</td>\n",
              "      <td>0</td>\n",
              "      <td>0</td>\n",
              "    </tr>\n",
              "    <tr>\n",
              "      <th>1</th>\n",
              "      <td>0</td>\n",
              "      <td>0</td>\n",
              "      <td>0</td>\n",
              "      <td>0</td>\n",
              "      <td>0</td>\n",
              "      <td>0</td>\n",
              "      <td>0</td>\n",
              "      <td>0</td>\n",
              "      <td>0</td>\n",
              "      <td>0</td>\n",
              "      <td>...</td>\n",
              "      <td>0</td>\n",
              "      <td>0</td>\n",
              "      <td>0</td>\n",
              "      <td>0</td>\n",
              "      <td>0</td>\n",
              "      <td>0</td>\n",
              "      <td>0</td>\n",
              "      <td>0</td>\n",
              "      <td>0</td>\n",
              "      <td>0</td>\n",
              "    </tr>\n",
              "    <tr>\n",
              "      <th>2</th>\n",
              "      <td>0</td>\n",
              "      <td>0</td>\n",
              "      <td>0</td>\n",
              "      <td>0</td>\n",
              "      <td>0</td>\n",
              "      <td>0</td>\n",
              "      <td>0</td>\n",
              "      <td>0</td>\n",
              "      <td>0</td>\n",
              "      <td>0</td>\n",
              "      <td>...</td>\n",
              "      <td>0</td>\n",
              "      <td>0</td>\n",
              "      <td>0</td>\n",
              "      <td>0</td>\n",
              "      <td>0</td>\n",
              "      <td>0</td>\n",
              "      <td>0</td>\n",
              "      <td>0</td>\n",
              "      <td>0</td>\n",
              "      <td>0</td>\n",
              "    </tr>\n",
              "    <tr>\n",
              "      <th>3</th>\n",
              "      <td>0</td>\n",
              "      <td>0</td>\n",
              "      <td>0</td>\n",
              "      <td>0</td>\n",
              "      <td>0</td>\n",
              "      <td>0</td>\n",
              "      <td>0</td>\n",
              "      <td>0</td>\n",
              "      <td>0</td>\n",
              "      <td>0</td>\n",
              "      <td>...</td>\n",
              "      <td>0</td>\n",
              "      <td>0</td>\n",
              "      <td>0</td>\n",
              "      <td>0</td>\n",
              "      <td>0</td>\n",
              "      <td>0</td>\n",
              "      <td>0</td>\n",
              "      <td>0</td>\n",
              "      <td>0</td>\n",
              "      <td>0</td>\n",
              "    </tr>\n",
              "    <tr>\n",
              "      <th>4</th>\n",
              "      <td>0</td>\n",
              "      <td>0</td>\n",
              "      <td>0</td>\n",
              "      <td>0</td>\n",
              "      <td>0</td>\n",
              "      <td>0</td>\n",
              "      <td>0</td>\n",
              "      <td>0</td>\n",
              "      <td>0</td>\n",
              "      <td>1</td>\n",
              "      <td>...</td>\n",
              "      <td>0</td>\n",
              "      <td>0</td>\n",
              "      <td>0</td>\n",
              "      <td>0</td>\n",
              "      <td>0</td>\n",
              "      <td>0</td>\n",
              "      <td>0</td>\n",
              "      <td>0</td>\n",
              "      <td>0</td>\n",
              "      <td>0</td>\n",
              "    </tr>\n",
              "    <tr>\n",
              "      <th>...</th>\n",
              "      <td>...</td>\n",
              "      <td>...</td>\n",
              "      <td>...</td>\n",
              "      <td>...</td>\n",
              "      <td>...</td>\n",
              "      <td>...</td>\n",
              "      <td>...</td>\n",
              "      <td>...</td>\n",
              "      <td>...</td>\n",
              "      <td>...</td>\n",
              "      <td>...</td>\n",
              "      <td>...</td>\n",
              "      <td>...</td>\n",
              "      <td>...</td>\n",
              "      <td>...</td>\n",
              "      <td>...</td>\n",
              "      <td>...</td>\n",
              "      <td>...</td>\n",
              "      <td>...</td>\n",
              "      <td>...</td>\n",
              "      <td>...</td>\n",
              "    </tr>\n",
              "    <tr>\n",
              "      <th>12245</th>\n",
              "      <td>0</td>\n",
              "      <td>0</td>\n",
              "      <td>0</td>\n",
              "      <td>0</td>\n",
              "      <td>0</td>\n",
              "      <td>0</td>\n",
              "      <td>0</td>\n",
              "      <td>0</td>\n",
              "      <td>0</td>\n",
              "      <td>0</td>\n",
              "      <td>...</td>\n",
              "      <td>0</td>\n",
              "      <td>0</td>\n",
              "      <td>0</td>\n",
              "      <td>0</td>\n",
              "      <td>0</td>\n",
              "      <td>0</td>\n",
              "      <td>0</td>\n",
              "      <td>0</td>\n",
              "      <td>0</td>\n",
              "      <td>0</td>\n",
              "    </tr>\n",
              "    <tr>\n",
              "      <th>12246</th>\n",
              "      <td>0</td>\n",
              "      <td>0</td>\n",
              "      <td>0</td>\n",
              "      <td>0</td>\n",
              "      <td>0</td>\n",
              "      <td>0</td>\n",
              "      <td>0</td>\n",
              "      <td>0</td>\n",
              "      <td>0</td>\n",
              "      <td>0</td>\n",
              "      <td>...</td>\n",
              "      <td>0</td>\n",
              "      <td>0</td>\n",
              "      <td>0</td>\n",
              "      <td>0</td>\n",
              "      <td>0</td>\n",
              "      <td>0</td>\n",
              "      <td>0</td>\n",
              "      <td>0</td>\n",
              "      <td>0</td>\n",
              "      <td>0</td>\n",
              "    </tr>\n",
              "    <tr>\n",
              "      <th>12247</th>\n",
              "      <td>0</td>\n",
              "      <td>0</td>\n",
              "      <td>0</td>\n",
              "      <td>0</td>\n",
              "      <td>0</td>\n",
              "      <td>0</td>\n",
              "      <td>0</td>\n",
              "      <td>0</td>\n",
              "      <td>0</td>\n",
              "      <td>0</td>\n",
              "      <td>...</td>\n",
              "      <td>0</td>\n",
              "      <td>0</td>\n",
              "      <td>0</td>\n",
              "      <td>0</td>\n",
              "      <td>0</td>\n",
              "      <td>0</td>\n",
              "      <td>0</td>\n",
              "      <td>0</td>\n",
              "      <td>0</td>\n",
              "      <td>0</td>\n",
              "    </tr>\n",
              "    <tr>\n",
              "      <th>12248</th>\n",
              "      <td>0</td>\n",
              "      <td>0</td>\n",
              "      <td>0</td>\n",
              "      <td>0</td>\n",
              "      <td>0</td>\n",
              "      <td>0</td>\n",
              "      <td>0</td>\n",
              "      <td>0</td>\n",
              "      <td>0</td>\n",
              "      <td>0</td>\n",
              "      <td>...</td>\n",
              "      <td>0</td>\n",
              "      <td>0</td>\n",
              "      <td>0</td>\n",
              "      <td>0</td>\n",
              "      <td>0</td>\n",
              "      <td>0</td>\n",
              "      <td>0</td>\n",
              "      <td>0</td>\n",
              "      <td>0</td>\n",
              "      <td>0</td>\n",
              "    </tr>\n",
              "    <tr>\n",
              "      <th>12249</th>\n",
              "      <td>0</td>\n",
              "      <td>0</td>\n",
              "      <td>0</td>\n",
              "      <td>0</td>\n",
              "      <td>0</td>\n",
              "      <td>0</td>\n",
              "      <td>0</td>\n",
              "      <td>0</td>\n",
              "      <td>0</td>\n",
              "      <td>0</td>\n",
              "      <td>...</td>\n",
              "      <td>0</td>\n",
              "      <td>0</td>\n",
              "      <td>0</td>\n",
              "      <td>0</td>\n",
              "      <td>0</td>\n",
              "      <td>0</td>\n",
              "      <td>0</td>\n",
              "      <td>0</td>\n",
              "      <td>0</td>\n",
              "      <td>0</td>\n",
              "    </tr>\n",
              "  </tbody>\n",
              "</table>\n",
              "<p>12250 rows × 5000 columns</p>\n",
              "</div>\n",
              "      <button class=\"colab-df-convert\" onclick=\"convertToInteractive('df-db419a3f-b320-4fa8-aca9-f920e56bf716')\"\n",
              "              title=\"Convert this dataframe to an interactive table.\"\n",
              "              style=\"display:none;\">\n",
              "        \n",
              "  <svg xmlns=\"http://www.w3.org/2000/svg\" height=\"24px\"viewBox=\"0 0 24 24\"\n",
              "       width=\"24px\">\n",
              "    <path d=\"M0 0h24v24H0V0z\" fill=\"none\"/>\n",
              "    <path d=\"M18.56 5.44l.94 2.06.94-2.06 2.06-.94-2.06-.94-.94-2.06-.94 2.06-2.06.94zm-11 1L8.5 8.5l.94-2.06 2.06-.94-2.06-.94L8.5 2.5l-.94 2.06-2.06.94zm10 10l.94 2.06.94-2.06 2.06-.94-2.06-.94-.94-2.06-.94 2.06-2.06.94z\"/><path d=\"M17.41 7.96l-1.37-1.37c-.4-.4-.92-.59-1.43-.59-.52 0-1.04.2-1.43.59L10.3 9.45l-7.72 7.72c-.78.78-.78 2.05 0 2.83L4 21.41c.39.39.9.59 1.41.59.51 0 1.02-.2 1.41-.59l7.78-7.78 2.81-2.81c.8-.78.8-2.07 0-2.86zM5.41 20L4 18.59l7.72-7.72 1.47 1.35L5.41 20z\"/>\n",
              "  </svg>\n",
              "      </button>\n",
              "      \n",
              "  <style>\n",
              "    .colab-df-container {\n",
              "      display:flex;\n",
              "      flex-wrap:wrap;\n",
              "      gap: 12px;\n",
              "    }\n",
              "\n",
              "    .colab-df-convert {\n",
              "      background-color: #E8F0FE;\n",
              "      border: none;\n",
              "      border-radius: 50%;\n",
              "      cursor: pointer;\n",
              "      display: none;\n",
              "      fill: #1967D2;\n",
              "      height: 32px;\n",
              "      padding: 0 0 0 0;\n",
              "      width: 32px;\n",
              "    }\n",
              "\n",
              "    .colab-df-convert:hover {\n",
              "      background-color: #E2EBFA;\n",
              "      box-shadow: 0px 1px 2px rgba(60, 64, 67, 0.3), 0px 1px 3px 1px rgba(60, 64, 67, 0.15);\n",
              "      fill: #174EA6;\n",
              "    }\n",
              "\n",
              "    [theme=dark] .colab-df-convert {\n",
              "      background-color: #3B4455;\n",
              "      fill: #D2E3FC;\n",
              "    }\n",
              "\n",
              "    [theme=dark] .colab-df-convert:hover {\n",
              "      background-color: #434B5C;\n",
              "      box-shadow: 0px 1px 3px 1px rgba(0, 0, 0, 0.15);\n",
              "      filter: drop-shadow(0px 1px 2px rgba(0, 0, 0, 0.3));\n",
              "      fill: #FFFFFF;\n",
              "    }\n",
              "  </style>\n",
              "\n",
              "      <script>\n",
              "        const buttonEl =\n",
              "          document.querySelector('#df-db419a3f-b320-4fa8-aca9-f920e56bf716 button.colab-df-convert');\n",
              "        buttonEl.style.display =\n",
              "          google.colab.kernel.accessAllowed ? 'block' : 'none';\n",
              "\n",
              "        async function convertToInteractive(key) {\n",
              "          const element = document.querySelector('#df-db419a3f-b320-4fa8-aca9-f920e56bf716');\n",
              "          const dataTable =\n",
              "            await google.colab.kernel.invokeFunction('convertToInteractive',\n",
              "                                                     [key], {});\n",
              "          if (!dataTable) return;\n",
              "\n",
              "          const docLinkHtml = 'Like what you see? Visit the ' +\n",
              "            '<a target=\"_blank\" href=https://colab.research.google.com/notebooks/data_table.ipynb>data table notebook</a>'\n",
              "            + ' to learn more about interactive tables.';\n",
              "          element.innerHTML = '';\n",
              "          dataTable['output_type'] = 'display_data';\n",
              "          await google.colab.output.renderOutput(dataTable, element);\n",
              "          const docLink = document.createElement('div');\n",
              "          docLink.innerHTML = docLinkHtml;\n",
              "          element.appendChild(docLink);\n",
              "        }\n",
              "      </script>\n",
              "    </div>\n",
              "  </div>\n",
              "  "
            ]
          },
          "metadata": {},
          "execution_count": 29
        }
      ]
    },
    {
      "cell_type": "markdown",
      "source": [
        "# Exploring different models and Evaluation metrics"
      ],
      "metadata": {
        "id": "KxSPfIkoBRMp"
      }
    },
    {
      "cell_type": "markdown",
      "source": [
        "### Confusion_Matrix"
      ],
      "metadata": {
        "id": "qg389L7rBEWt"
      }
    },
    {
      "cell_type": "code",
      "source": [
        "def plot_confusion_matrix(cm, classes,\n",
        "                          normalize=False,\n",
        "                          title='Confusion matrix',\n",
        "                          cmap=plt.cm.Reds):\n",
        "\n",
        "    plt.imshow(cm, interpolation='nearest', cmap=cmap)\n",
        "    plt.title(title)\n",
        "    plt.colorbar()\n",
        "    tick_marks = np.arange(len(classes))\n",
        "    plt.xticks(tick_marks, classes, rotation=45)\n",
        "    plt.yticks(tick_marks, classes)\n",
        "\n",
        "    if normalize:\n",
        "        cm = cm.astype('float') / cm.sum(axis=1)[:, np.newaxis]\n",
        "        print(\"Normalized confusion matrix\")\n",
        "    else:\n",
        "        print('Confusion matrix, without normalization')\n",
        "\n",
        "    thresh = cm.max() / 2.\n",
        "    for i, j in itertools.product(range(cm.shape[0]), range(cm.shape[1])):\n",
        "        plt.text(j, i, cm[i, j],\n",
        "                 horizontalalignment=\"center\",\n",
        "                 color=\"white\" if cm[i, j] > thresh else \"black\")\n",
        "\n",
        "    plt.tight_layout()\n",
        "    plt.ylabel('True label')\n",
        "    plt.xlabel('Predicted label')"
      ],
      "metadata": {
        "id": "mPK4_lBq_oaA"
      },
      "execution_count": 30,
      "outputs": []
    },
    {
      "cell_type": "markdown",
      "source": [
        "## 1.Random Forest Classifier"
      ],
      "metadata": {
        "id": "X8pChdXrD1fJ"
      }
    },
    {
      "cell_type": "code",
      "source": [
        "randomclassifier=RandomForestClassifier(n_estimators=400,criterion='entropy')\n",
        "randomclassifier.fit(X_train,y_train)"
      ],
      "metadata": {
        "colab": {
          "base_uri": "https://localhost:8080/"
        },
        "id": "My8_NwhUD7IG",
        "outputId": "a93043d9-31a3-4824-cfd8-e013b74c2a18"
      },
      "execution_count": 31,
      "outputs": [
        {
          "output_type": "execute_result",
          "data": {
            "text/plain": [
              "RandomForestClassifier(criterion='entropy', n_estimators=400)"
            ]
          },
          "metadata": {},
          "execution_count": 31
        }
      ]
    },
    {
      "cell_type": "code",
      "source": [
        "y_pred_1 = randomclassifier.predict(X_test)"
      ],
      "metadata": {
        "id": "9DL_KwHED7Gh"
      },
      "execution_count": 32,
      "outputs": []
    },
    {
      "cell_type": "code",
      "source": [
        "print(classification_report(y_test, y_pred_1))\n",
        "print(150 * '*'+'\\n')\n",
        "score=accuracy_score(y_test,y_pred_1)\n",
        "print(\"Accuracy score is \" , score ,'\\n')\n",
        "print(150 * '*'+'\\n')\n",
        "cm = confusion_matrix(y_test, y_pred_1)\n",
        "plot_confusion_matrix(cm, classes=['FAKE','REAL']);"
      ],
      "metadata": {
        "colab": {
          "base_uri": "https://localhost:8080/",
          "height": 598
        },
        "id": "LobOOufPD63C",
        "outputId": "7d1b8224-2692-428d-fb0b-45b334ca9947"
      },
      "execution_count": 33,
      "outputs": [
        {
          "output_type": "stream",
          "name": "stdout",
          "text": [
            "              precision    recall  f1-score   support\n",
            "\n",
            "           0       0.97      0.91      0.94      3389\n",
            "           1       0.89      0.97      0.93      2646\n",
            "\n",
            "    accuracy                           0.93      6035\n",
            "   macro avg       0.93      0.94      0.93      6035\n",
            "weighted avg       0.94      0.93      0.93      6035\n",
            "\n",
            "******************************************************************************************************************************************************\n",
            "\n",
            "Accuracy score is  0.9322286661143331 \n",
            "\n",
            "******************************************************************************************************************************************************\n",
            "\n",
            "Confusion matrix, without normalization\n"
          ]
        },
        {
          "output_type": "display_data",
          "data": {
            "text/plain": [
              "<Figure size 432x288 with 2 Axes>"
            ],
            "image/png": "[encoded data removed]"
          },
          "metadata": {
            "needs_background": "light"
          }
        }
      ]
    },
    {
      "cell_type": "markdown",
      "source": [
        "## 2. MultinomialNB Classifier :"
      ],
      "metadata": {
        "id": "eZECAQHiBaBj"
      }
    },
    {
      "cell_type": "code",
      "source": [
        "classifier_2 = MultinomialNB()\n",
        "classifier_2.fit(X_train, y_train)"
      ],
      "metadata": {
        "colab": {
          "base_uri": "https://localhost:8080/"
        },
        "id": "LRe2IkVZA8ie",
        "outputId": "63a71fb4-c40d-4277-e10e-4b2e31ff5327"
      },
      "execution_count": 34,
      "outputs": [
        {
          "output_type": "execute_result",
          "data": {
            "text/plain": [
              "MultinomialNB()"
            ]
          },
          "metadata": {},
          "execution_count": 34
        }
      ]
    },
    {
      "cell_type": "code",
      "source": [
        "y_pred_2 = classifier_2.predict(X_test)"
      ],
      "metadata": {
        "id": "Lytc9bXGIP_o"
      },
      "execution_count": 35,
      "outputs": []
    },
    {
      "cell_type": "code",
      "source": [
        "print(classification_report(y_test, y_pred_2))\n",
        "print(150 * '*'+'\\n')\n",
        "score=accuracy_score(y_test,y_pred_2)\n",
        "print(\"Accuracy score is \" , score ,'\\n')\n",
        "print(150 * '*'+'\\n')\n",
        "cm = confusion_matrix(y_test, y_pred_2)\n",
        "plot_confusion_matrix(cm, classes=['FAKE','REAL'],cmap=plt.cm.Oranges);"
      ],
      "metadata": {
        "colab": {
          "base_uri": "https://localhost:8080/",
          "height": 598
        },
        "id": "-rzmG5FJIb9B",
        "outputId": "77ef40ab-50d4-44b5-dac5-b1ef8319147c"
      },
      "execution_count": 36,
      "outputs": [
        {
          "output_type": "stream",
          "name": "stdout",
          "text": [
            "              precision    recall  f1-score   support\n",
            "\n",
            "           0       0.92      0.90      0.91      3389\n",
            "           1       0.87      0.91      0.89      2646\n",
            "\n",
            "    accuracy                           0.90      6035\n",
            "   macro avg       0.90      0.90      0.90      6035\n",
            "weighted avg       0.90      0.90      0.90      6035\n",
            "\n",
            "******************************************************************************************************************************************************\n",
            "\n",
            "Accuracy score is  0.9019055509527755 \n",
            "\n",
            "******************************************************************************************************************************************************\n",
            "\n",
            "Confusion matrix, without normalization\n"
          ]
        },
        {
          "output_type": "display_data",
          "data": {
            "text/plain": [
              "<Figure size 432x288 with 2 Axes>"
            ],
            "image/png": "[encoded data removed]"
          },
          "metadata": {
            "needs_background": "light"
          }
        }
      ]
    },
    {
      "cell_type": "markdown",
      "source": [
        "## 3.Multi_Layer_Preceptron"
      ],
      "metadata": {
        "id": "subtW28ZJvqO"
      }
    },
    {
      "cell_type": "code",
      "source": [
        "model_mlp= MLPClassifier(random_state=1, max_iter=500, alpha=0.005)\n",
        "model_mlp.fit(X_train, y_train)"
      ],
      "metadata": {
        "colab": {
          "base_uri": "https://localhost:8080/"
        },
        "id": "97wOo5oeIm3n",
        "outputId": "3fe82a7c-1f32-4bf5-eada-7447d064b736"
      },
      "execution_count": 37,
      "outputs": [
        {
          "output_type": "execute_result",
          "data": {
            "text/plain": [
              "MLPClassifier(alpha=0.005, max_iter=500, random_state=1)"
            ]
          },
          "metadata": {},
          "execution_count": 37
        }
      ]
    },
    {
      "cell_type": "code",
      "source": [
        "y_pred_3 = model_mlp.predict(X_test)"
      ],
      "metadata": {
        "id": "C3zxCX3ZJ9iX"
      },
      "execution_count": 38,
      "outputs": []
    },
    {
      "cell_type": "code",
      "source": [
        "print(classification_report(y_test, y_pred_3))\n",
        "print(150 * '*'+'\\n')\n",
        "score=accuracy_score(y_test,y_pred_3)\n",
        "print(\"Accuracy score is \" , score ,'\\n')\n",
        "print(150 * '*'+'\\n')\n",
        "cm = confusion_matrix(y_test, y_pred_3)\n",
        "plot_confusion_matrix(cm, classes=['FAKE','REAL'],cmap=plt.cm.Greens);"
      ],
      "metadata": {
        "colab": {
          "base_uri": "https://localhost:8080/",
          "height": 598
        },
        "id": "vDtmNjhoKBdV",
        "outputId": "19a0baff-4f75-42f5-f4c7-2c0b961843c2"
      },
      "execution_count": 39,
      "outputs": [
        {
          "output_type": "stream",
          "name": "stdout",
          "text": [
            "              precision    recall  f1-score   support\n",
            "\n",
            "           0       0.94      0.92      0.93      3389\n",
            "           1       0.90      0.93      0.91      2646\n",
            "\n",
            "    accuracy                           0.92      6035\n",
            "   macro avg       0.92      0.92      0.92      6035\n",
            "weighted avg       0.92      0.92      0.92      6035\n",
            "\n",
            "******************************************************************************************************************************************************\n",
            "\n",
            "Accuracy score is  0.923943661971831 \n",
            "\n",
            "******************************************************************************************************************************************************\n",
            "\n",
            "Confusion matrix, without normalization\n"
          ]
        },
        {
          "output_type": "display_data",
          "data": {
            "text/plain": [
              "<Figure size 432x288 with 2 Axes>"
            ],
            "image/png": "[encoded data removed]"
          },
          "metadata": {
            "needs_background": "light"
          }
        }
      ]
    },
    {
      "cell_type": "markdown",
      "source": [
        "## 4. SVM classifier :"
      ],
      "metadata": {
        "id": "tUfAPFNBKMJe"
      }
    },
    {
      "cell_type": "code",
      "source": [
        "model_svm= SVC(C=25,gamma=.05,kernel='rbf',probability=True)\n",
        "model_svm.fit(X_train, y_train)"
      ],
      "metadata": {
        "colab": {
          "base_uri": "https://localhost:8080/"
        },
        "id": "J1NwBy81RIxb",
        "outputId": "1d724797-29a2-41cb-9659-26f1abd6bf2d"
      },
      "execution_count": 40,
      "outputs": [
        {
          "output_type": "execute_result",
          "data": {
            "text/plain": [
              "SVC(C=25, gamma=0.05, probability=True)"
            ]
          },
          "metadata": {},
          "execution_count": 40
        }
      ]
    },
    {
      "cell_type": "code",
      "source": [
        "y_pred_4 = model_svm.predict(X_test)"
      ],
      "metadata": {
        "id": "1AZV7ONRRGiK"
      },
      "execution_count": 41,
      "outputs": []
    },
    {
      "cell_type": "code",
      "source": [
        "accuracy_score(y_test,y_pred_4)"
      ],
      "metadata": {
        "colab": {
          "base_uri": "https://localhost:8080/"
        },
        "id": "BrR_AezwRI1_",
        "outputId": "87947042-622b-484e-cffb-5d48cb5703f8"
      },
      "execution_count": 42,
      "outputs": [
        {
          "output_type": "execute_result",
          "data": {
            "text/plain": [
              "0.9343827671913836"
            ]
          },
          "metadata": {},
          "execution_count": 42
        }
      ]
    },
    {
      "cell_type": "code",
      "source": [
        "print(classification_report(y_test, y_pred_4))\n",
        "print(150 * '*'+'\\n')\n",
        "score=accuracy_score(y_test,y_pred_4)\n",
        "print(\"Accuracy score is \" , score ,'\\n')\n",
        "print(150 * '*'+'\\n')\n",
        "cm = confusion_matrix(y_test, y_pred_4)\n",
        "plot_confusion_matrix(cm, classes=['FAKE','REAL'],cmap=plt.cm.Blues);"
      ],
      "metadata": {
        "colab": {
          "base_uri": "https://localhost:8080/",
          "height": 598
        },
        "id": "p_Chac_uKvFE",
        "outputId": "7aab0ba3-dcd9-4419-8f2a-d7a34f57308c"
      },
      "execution_count": 43,
      "outputs": [
        {
          "output_type": "stream",
          "name": "stdout",
          "text": [
            "              precision    recall  f1-score   support\n",
            "\n",
            "           0       0.96      0.92      0.94      3389\n",
            "           1       0.91      0.95      0.93      2646\n",
            "\n",
            "    accuracy                           0.93      6035\n",
            "   macro avg       0.93      0.94      0.93      6035\n",
            "weighted avg       0.94      0.93      0.93      6035\n",
            "\n",
            "******************************************************************************************************************************************************\n",
            "\n",
            "Accuracy score is  0.9343827671913836 \n",
            "\n",
            "******************************************************************************************************************************************************\n",
            "\n",
            "Confusion matrix, without normalization\n"
          ]
        },
        {
          "output_type": "display_data",
          "data": {
            "text/plain": [
              "<Figure size 432x288 with 2 Axes>"
            ],
            "image/png": "[encoded data removed]"
          },
          "metadata": {
            "needs_background": "light"
          }
        }
      ]
    },
    {
      "cell_type": "markdown",
      "source": [
        "## 5. Passive Agressive Classifier :\n"
      ],
      "metadata": {
        "id": "91_nYVbMMsxQ"
      }
    },
    {
      "cell_type": "code",
      "source": [
        "linear_clf = PassiveAggressiveClassifier(C=10,max_iter=100,random_state=2)\n",
        "linear_clf.fit(X_train, y_train)"
      ],
      "metadata": {
        "colab": {
          "base_uri": "https://localhost:8080/"
        },
        "id": "2jbNzC4vKqg2",
        "outputId": "60f463fa-08b6-4936-cb09-1cbc859584c6"
      },
      "execution_count": 107,
      "outputs": [
        {
          "output_type": "execute_result",
          "data": {
            "text/plain": [
              "PassiveAggressiveClassifier(C=10, max_iter=100, random_state=2)"
            ]
          },
          "metadata": {},
          "execution_count": 107
        }
      ]
    },
    {
      "cell_type": "code",
      "source": [
        "accuracy_score(y_train,linear_clf.predict(X_train))"
      ],
      "metadata": {
        "colab": {
          "base_uri": "https://localhost:8080/"
        },
        "id": "Ba3yWHr3UL_w",
        "outputId": "ee206b7e-19fc-47e6-a819-adeb925103aa"
      },
      "execution_count": 108,
      "outputs": [
        {
          "output_type": "execute_result",
          "data": {
            "text/plain": [
              "0.9999183673469387"
            ]
          },
          "metadata": {},
          "execution_count": 108
        }
      ]
    },
    {
      "cell_type": "code",
      "source": [
        "y_pred_5 = linear_clf.predict(X_test)"
      ],
      "metadata": {
        "id": "KucOkEmrPI8s"
      },
      "execution_count": 109,
      "outputs": []
    },
    {
      "cell_type": "code",
      "source": [
        "print(classification_report(y_test, y_pred_5))\n",
        "print(150 * '*'+'\\n')\n",
        "sc=accuracy_score(y_test,y_pred_5)\n",
        "print(\"Accuracy score is \" , sc ,'\\n')\n",
        "print(150 * '*'+'\\n')\n",
        "cm = confusion_matrix(y_test, y_pred_5)\n",
        "plot_confusion_matrix(cm, classes=['FAKE','REAL'],cmap=plt.cm.YlGn);"
      ],
      "metadata": {
        "colab": {
          "base_uri": "https://localhost:8080/",
          "height": 598
        },
        "id": "JUFrru0sPD4G",
        "outputId": "c3c7f56e-d035-471a-ffa1-a3ea22b3442a"
      },
      "execution_count": 110,
      "outputs": [
        {
          "output_type": "stream",
          "name": "stdout",
          "text": [
            "              precision    recall  f1-score   support\n",
            "\n",
            "           0       0.94      0.92      0.93      3389\n",
            "           1       0.90      0.92      0.91      2646\n",
            "\n",
            "    accuracy                           0.92      6035\n",
            "   macro avg       0.92      0.92      0.92      6035\n",
            "weighted avg       0.92      0.92      0.92      6035\n",
            "\n",
            "******************************************************************************************************************************************************\n",
            "\n",
            "Accuracy score is  0.9204639602319801 \n",
            "\n",
            "******************************************************************************************************************************************************\n",
            "\n",
            "Confusion matrix, without normalization\n"
          ]
        },
        {
          "output_type": "display_data",
          "data": {
            "text/plain": [
              "<Figure size 432x288 with 2 Axes>"
            ],
            "image/png": "[encoded data removed]"
          },
          "metadata": {
            "needs_background": "light"
          }
        }
      ]
    },
    {
      "cell_type": "markdown",
      "source": [
        "# *We can see thet Best Classifier is : Support vector machine classifier with slightly much time for training than MultinomialNB Classifier*\n"
      ],
      "metadata": {
        "id": "ZQ_9GnZsLwGU"
      }
    },
    {
      "cell_type": "markdown",
      "source": [
        "### Let's see how the MultinomialNB classifier rewards different features (corresponding learned victorized words according to whether it is real or fake) in some example "
      ],
      "metadata": {
        "id": "neu0BloEQxHJ"
      }
    },
    {
      "cell_type": "code",
      "source": [
        "feature_names = countvector.get_feature_names()"
      ],
      "metadata": {
        "id": "m0TUBjWnMkEO"
      },
      "execution_count": 48,
      "outputs": []
    },
    {
      "cell_type": "code",
      "source": [
        "sorted(zip(classifier_2.coef_[0], feature_names))[:5000]"
      ],
      "metadata": {
        "colab": {
          "base_uri": "https://localhost:8080/"
        },
        "id": "E_dCVQgYi-tj",
        "outputId": "a2394c8c-9084-4451-b34c-e9036d7b673a"
      },
      "execution_count": 63,
      "outputs": [
        {
          "output_type": "execute_result",
          "data": {
            "text/plain": [
              "[(-10.700949702360713, 'abe'),\n",
              " (-10.700949702360713, 'abroad'),\n",
              " (-10.700949702360713, 'abus new'),\n",
              " (-10.700949702360713, 'abus new york'),\n",
              " (-10.700949702360713, 'act new'),\n",
              " (-10.700949702360713, 'act new york'),\n",
              " (-10.700949702360713, 'advic'),\n",
              " (-10.700949702360713, 'advis new'),\n",
              " (-10.700949702360713, 'advis new york'),\n",
              " (-10.700949702360713, 'age new'),\n",
              " (-10.700949702360713, 'age new york'),\n",
              " (-10.700949702360713, 'agenda breitbart'),\n",
              " (-10.700949702360713, 'ail'),\n",
              " (-10.700949702360713, 'aleppo new'),\n",
              " (-10.700949702360713, 'aleppo new york'),\n",
              " (-10.700949702360713, 'ali'),\n",
              " (-10.700949702360713, 'america breitbart'),\n",
              " (-10.700949702360713, 'america new york'),\n",
              " (-10.700949702360713, 'american breitbart'),\n",
              " (-10.700949702360713, 'american new'),\n",
              " (-10.700949702360713, 'american new york'),\n",
              " (-10.700949702360713, 'ami'),\n",
              " (-10.700949702360713, 'ami schumer'),\n",
              " (-10.700949702360713, 'amp'),\n",
              " (-10.700949702360713, 'ann'),\n",
              " (-10.700949702360713, 'ann coulter'),\n",
              " (-10.700949702360713, 'applaud'),\n",
              " (-10.700949702360713, 'arson'),\n",
              " (-10.700949702360713, 'asian'),\n",
              " (-10.700949702360713, 'assail'),\n",
              " (-10.700949702360713, 'athlet'),\n",
              " (-10.700949702360713, 'attack breitbart'),\n",
              " (-10.700949702360713, 'attack new'),\n",
              " (-10.700949702360713, 'attack new york'),\n",
              " (-10.700949702360713, 'attack syria'),\n",
              " (-10.700949702360713, 'attend'),\n",
              " (-10.700949702360713, 'avert'),\n",
              " (-10.700949702360713, 'away new'),\n",
              " (-10.700949702360713, 'away new york'),\n",
              " (-10.700949702360713, 'back new'),\n",
              " (-10.700949702360713, 'back new york'),\n",
              " (-10.700949702360713, 'baltimor'),\n",
              " (-10.700949702360713, 'ban breitbart'),\n",
              " (-10.700949702360713, 'ban new'),\n",
              " (-10.700949702360713, 'ban new york'),\n",
              " (-10.700949702360713, 'bangladesh'),\n",
              " (-10.700949702360713, 'barron trump'),\n",
              " (-10.700949702360713, 'basic'),\n",
              " (-10.700949702360713, 'basketbal'),\n",
              " (-10.700949702360713, 'basketbal player'),\n",
              " (-10.700949702360713, 'baton'),\n",
              " (-10.700949702360713, 'baton roug'),\n",
              " (-10.700949702360713, 'battl new'),\n",
              " (-10.700949702360713, 'battl new york'),\n",
              " (-10.700949702360713, 'bay'),\n",
              " (-10.700949702360713, 'beach new'),\n",
              " (-10.700949702360713, 'beach new york'),\n",
              " (-10.700949702360713, 'begin new'),\n",
              " (-10.700949702360713, 'behead photo'),\n",
              " (-10.700949702360713, 'behind trump'),\n",
              " (-10.700949702360713, 'berkeley breitbart'),\n",
              " (-10.700949702360713, 'betsi'),\n",
              " (-10.700949702360713, 'betsi devo'),\n",
              " (-10.700949702360713, 'bill breitbart'),\n",
              " (-10.700949702360713, 'bill new'),\n",
              " (-10.700949702360713, 'bill new york'),\n",
              " (-10.700949702360713, 'bill reilli'),\n",
              " (-10.700949702360713, 'billi'),\n",
              " (-10.700949702360713, 'blue state'),\n",
              " (-10.700949702360713, 'blue state blue'),\n",
              " (-10.700949702360713, 'bolster'),\n",
              " (-10.700949702360713, 'border patrol'),\n",
              " (-10.700949702360713, 'border patrol agent'),\n",
              " (-10.700949702360713, 'border state'),\n",
              " (-10.700949702360713, 'border wall'),\n",
              " (-10.700949702360713, 'border wall breitbart'),\n",
              " (-10.700949702360713, 'bowl'),\n",
              " (-10.700949702360713, 'box offic'),\n",
              " (-10.700949702360713, 'bradi'),\n",
              " (-10.700949702360713, 'breath'),\n",
              " (-10.700949702360713, 'breitbart news daili'),\n",
              " (-10.700949702360713, 'brief new'),\n",
              " (-10.700949702360713, 'brief new york'),\n",
              " (-10.700949702360713, 'broadway'),\n",
              " (-10.700949702360713, 'bronx'),\n",
              " (-10.700949702360713, 'brooklyn'),\n",
              " (-10.700949702360713, 'brooklyn new'),\n",
              " (-10.700949702360713, 'brooklyn new york'),\n",
              " (-10.700949702360713, 'bureaucrat'),\n",
              " (-10.700949702360713, 'caitlyn'),\n",
              " (-10.700949702360713, 'caitlyn jenner'),\n",
              " (-10.700949702360713, 'cal'),\n",
              " (-10.700949702360713, 'california today'),\n",
              " (-10.700949702360713, 'calm'),\n",
              " (-10.700949702360713, 'campaign breitbart'),\n",
              " (-10.700949702360713, 'campaign new'),\n",
              " (-10.700949702360713, 'campaign new york'),\n",
              " (-10.700949702360713, 'campu breitbart'),\n",
              " (-10.700949702360713, 'cann'),\n",
              " (-10.700949702360713, 'car new'),\n",
              " (-10.700949702360713, 'car new york'),\n",
              " (-10.700949702360713, 'care act'),\n",
              " (-10.700949702360713, 'care act new'),\n",
              " (-10.700949702360713, 'care bill'),\n",
              " (-10.700949702360713, 'care breitbart'),\n",
              " (-10.700949702360713, 'carri fisher'),\n",
              " (-10.700949702360713, 'carson'),\n",
              " (-10.700949702360713, 'case new'),\n",
              " (-10.700949702360713, 'case new york'),\n",
              " (-10.700949702360713, 'castro'),\n",
              " (-10.700949702360713, 'caucu'),\n",
              " (-10.700949702360713, 'ceas'),\n",
              " (-10.700949702360713, 'ceas fire'),\n",
              " (-10.700949702360713, 'chamber'),\n",
              " (-10.700949702360713, 'championship'),\n",
              " (-10.700949702360713, 'championship new'),\n",
              " (-10.700949702360713, 'championship new york'),\n",
              " (-10.700949702360713, 'chang new'),\n",
              " (-10.700949702360713, 'chang new york'),\n",
              " (-10.700949702360713, 'charg new york'),\n",
              " (-10.700949702360713, 'charleston'),\n",
              " (-10.700949702360713, 'charlott'),\n",
              " (-10.700949702360713, 'cher'),\n",
              " (-10.700949702360713, 'chief new'),\n",
              " (-10.700949702360713, 'chief new york'),\n",
              " (-10.700949702360713, 'china new york'),\n",
              " (-10.700949702360713, 'chri christi'),\n",
              " (-10.700949702360713, 'christi'),\n",
              " (-10.700949702360713, 'christoph'),\n",
              " (-10.700949702360713, 'chuck'),\n",
              " (-10.700949702360713, 'chuck todd'),\n",
              " (-10.700949702360713, 'circuit'),\n",
              " (-10.700949702360713, 'citi new'),\n",
              " (-10.700949702360713, 'citi new york'),\n",
              " (-10.700949702360713, 'citizenship'),\n",
              " (-10.700949702360713, 'clinton new york'),\n",
              " (-10.700949702360713, 'clue'),\n",
              " (-10.700949702360713, 'coach'),\n",
              " (-10.700949702360713, 'colleg new'),\n",
              " (-10.700949702360713, 'colleg new york'),\n",
              " (-10.700949702360713, 'collid'),\n",
              " (-10.700949702360713, 'collin'),\n",
              " (-10.700949702360713, 'comedi'),\n",
              " (-10.700949702360713, 'comedi central'),\n",
              " (-10.700949702360713, 'comey fire'),\n",
              " (-10.700949702360713, 'commission'),\n",
              " (-10.700949702360713, 'common core'),\n",
              " (-10.700949702360713, 'common ground'),\n",
              " (-10.700949702360713, 'compet'),\n",
              " (-10.700949702360713, 'complex'),\n",
              " (-10.700949702360713, 'conceal'),\n",
              " (-10.700949702360713, 'confirm hear'),\n",
              " (-10.700949702360713, 'congress breitbart'),\n",
              " (-10.700949702360713, 'congress new york'),\n",
              " (-10.700949702360713, 'control new'),\n",
              " (-10.700949702360713, 'control new york'),\n",
              " (-10.700949702360713, 'convent new'),\n",
              " (-10.700949702360713, 'convent new york'),\n",
              " (-10.700949702360713, 'corner'),\n",
              " (-10.700949702360713, 'coulter'),\n",
              " (-10.700949702360713, 'counsel'),\n",
              " (-10.700949702360713, 'countri breitbart'),\n",
              " (-10.700949702360713, 'cours'),\n",
              " (-10.700949702360713, 'court block'),\n",
              " (-10.700949702360713, 'court new'),\n",
              " (-10.700949702360713, 'court new york'),\n",
              " (-10.700949702360713, 'court rule new'),\n",
              " (-10.700949702360713, 'cpac'),\n",
              " (-10.700949702360713, 'crash new'),\n",
              " (-10.700949702360713, 'crash new york'),\n",
              " (-10.700949702360713, 'crime breitbart'),\n",
              " (-10.700949702360713, 'crisi new'),\n",
              " (-10.700949702360713, 'crisi new york'),\n",
              " (-10.700949702360713, 'critic new'),\n",
              " (-10.700949702360713, 'crown'),\n",
              " (-10.700949702360713, 'cunningham'),\n",
              " (-10.700949702360713, 'curb'),\n",
              " (-10.700949702360713, 'davo'),\n",
              " (-10.700949702360713, 'day breitbart'),\n",
              " (-10.700949702360713, 'day new york'),\n",
              " (-10.700949702360713, 'day parad'),\n",
              " (-10.700949702360713, 'dead new'),\n",
              " (-10.700949702360713, 'dead new york'),\n",
              " (-10.700949702360713, 'deal breitbart'),\n",
              " (-10.700949702360713, 'deal new'),\n",
              " (-10.700949702360713, 'deal new york'),\n",
              " (-10.700949702360713, 'death new'),\n",
              " (-10.700949702360713, 'death new york'),\n",
              " (-10.700949702360713, 'debat new'),\n",
              " (-10.700949702360713, 'debat new york'),\n",
              " (-10.700949702360713, 'debbi reynold'),\n",
              " (-10.700949702360713, 'defi'),\n",
              " (-10.700949702360713, 'defund'),\n",
              " (-10.700949702360713, 'delingpol'),\n",
              " (-10.700949702360713, 'dem rep'),\n",
              " (-10.700949702360713, 'dem sen'),\n",
              " (-10.700949702360713, 'democrat breitbart'),\n",
              " (-10.700949702360713, 'democrat new'),\n",
              " (-10.700949702360713, 'democrat new york'),\n",
              " (-10.700949702360713, 'deport breitbart'),\n",
              " (-10.700949702360713, 'despair'),\n",
              " (-10.700949702360713, 'devo'),\n",
              " (-10.700949702360713, 'dh'),\n",
              " (-10.700949702360713, 'die new'),\n",
              " (-10.700949702360713, 'die new york'),\n",
              " (-10.700949702360713, 'diego'),\n",
              " (-10.700949702360713, 'disappoint'),\n",
              " (-10.700949702360713, 'divorc'),\n",
              " (-10.700949702360713, 'donald trump breitbart'),\n",
              " (-10.700949702360713, 'donald trump campaign'),\n",
              " (-10.700949702360713, 'donald trump inaugur'),\n",
              " (-10.700949702360713, 'dossier'),\n",
              " (-10.700949702360713, 'drama'),\n",
              " (-10.700949702360713, 'drive car'),\n",
              " (-10.700949702360713, 'drug new'),\n",
              " (-10.700949702360713, 'drug new york'),\n",
              " (-10.700949702360713, 'dunham'),\n",
              " (-10.700949702360713, 'dylann'),\n",
              " (-10.700949702360713, 'dylann roof'),\n",
              " (-10.700949702360713, 'eas'),\n",
              " (-10.700949702360713, 'easter'),\n",
              " (-10.700949702360713, 'economi new'),\n",
              " (-10.700949702360713, 'ecuador'),\n",
              " (-10.700949702360713, 'effort new york'),\n",
              " (-10.700949702360713, 'egyptair'),\n",
              " (-10.700949702360713, 'elect breitbart'),\n",
              " (-10.700949702360713, 'elect loss'),\n",
              " (-10.700949702360713, 'elect new york'),\n",
              " (-10.700949702360713, 'els new'),\n",
              " (-10.700949702360713, 'els new york'),\n",
              " (-10.700949702360713, 'embassi jerusalem'),\n",
              " (-10.700949702360713, 'emmi'),\n",
              " (-10.700949702360713, 'end new'),\n",
              " (-10.700949702360713, 'end new york'),\n",
              " (-10.700949702360713, 'england'),\n",
              " (-10.700949702360713, 'england patriot'),\n",
              " (-10.700949702360713, 'epa'),\n",
              " (-10.700949702360713, 'era new'),\n",
              " (-10.700949702360713, 'era new york'),\n",
              " (-10.700949702360713, 'espn'),\n",
              " (-10.700949702360713, 'europ new york'),\n",
              " (-10.700949702360713, 'european union'),\n",
              " (-10.700949702360713, 'even brief'),\n",
              " (-10.700949702360713, 'even brief new'),\n",
              " (-10.700949702360713, 'event breitbart'),\n",
              " (-10.700949702360713, 'execut order breitbart'),\n",
              " (-10.700949702360713, 'expand'),\n",
              " (-10.700949702360713, 'explain new'),\n",
              " (-10.700949702360713, 'explain new york'),\n",
              " (-10.700949702360713, 'extradit'),\n",
              " (-10.700949702360713, 'face new'),\n",
              " (-10.700949702360713, 'faction'),\n",
              " (-10.700949702360713, 'fake news breitbart'),\n",
              " (-10.700949702360713, 'fake news new'),\n",
              " (-10.700949702360713, 'falluja'),\n",
              " (-10.700949702360713, 'familiar'),\n",
              " (-10.700949702360713, 'farewel'),\n",
              " (-10.700949702360713, 'fargo'),\n",
              " (-10.700949702360713, 'fatal shoot'),\n",
              " (-10.700949702360713, 'fear new york'),\n",
              " (-10.700949702360713, 'fear trump'),\n",
              " (-10.700949702360713, 'feinstein'),\n",
              " (-10.700949702360713, 'fidel'),\n",
              " (-10.700949702360713, 'fidel castro'),\n",
              " (-10.700949702360713, 'fieri'),\n",
              " (-10.700949702360713, 'fight new'),\n",
              " (-10.700949702360713, 'fight new york'),\n",
              " (-10.700949702360713, 'fight trump'),\n",
              " (-10.700949702360713, 'filibust'),\n",
              " (-10.700949702360713, 'fillon'),\n",
              " (-10.700949702360713, 'find new york'),\n",
              " (-10.700949702360713, 'fire breitbart'),\n",
              " (-10.700949702360713, 'fire new york'),\n",
              " (-10.700949702360713, 'fisher'),\n",
              " (-10.700949702360713, 'fitton'),\n",
              " (-10.700949702360713, 'flight new'),\n",
              " (-10.700949702360713, 'flight new york'),\n",
              " (-10.700949702360713, 'fmr'),\n",
              " (-10.700949702360713, 'fort'),\n",
              " (-10.700949702360713, 'found new'),\n",
              " (-10.700949702360713, 'found new york'),\n",
              " (-10.700949702360713, 'fran oi'),\n",
              " (-10.700949702360713, 'fran oi fillon'),\n",
              " (-10.700949702360713, 'franc new'),\n",
              " (-10.700949702360713, 'franc new york'),\n",
              " (-10.700949702360713, 'freedom caucu'),\n",
              " (-10.700949702360713, 'french presidenti'),\n",
              " (-10.700949702360713, 'friday even'),\n",
              " (-10.700949702360713, 'friday even brief'),\n",
              " (-10.700949702360713, 'fs'),\n",
              " (-10.700949702360713, 'futur new'),\n",
              " (-10.700949702360713, 'futur new york'),\n",
              " (-10.700949702360713, 'gaffney'),\n",
              " (-10.700949702360713, 'game breitbart'),\n",
              " (-10.700949702360713, 'game new'),\n",
              " (-10.700949702360713, 'game new york'),\n",
              " (-10.700949702360713, 'gawker'),\n",
              " (-10.700949702360713, 'gener new'),\n",
              " (-10.700949702360713, 'gener new york'),\n",
              " (-10.700949702360713, 'georg michael'),\n",
              " (-10.700949702360713, 'get back'),\n",
              " (-10.700949702360713, 'get new'),\n",
              " (-10.700949702360713, 'go new york'),\n",
              " (-10.700949702360713, 'golden globe'),\n",
              " (-10.700949702360713, 'golden state'),\n",
              " (-10.700949702360713, 'golden state warrior'),\n",
              " (-10.700949702360713, 'goodel'),\n",
              " (-10.700949702360713, 'gop rep'),\n",
              " (-10.700949702360713, 'gop sen'),\n",
              " (-10.700949702360713, 'gorka'),\n",
              " (-10.700949702360713, 'gorsuch'),\n",
              " (-10.700949702360713, 'gorsuch breitbart'),\n",
              " (-10.700949702360713, 'gorsuch confirm'),\n",
              " (-10.700949702360713, 'govern new york'),\n",
              " (-10.700949702360713, 'grammi'),\n",
              " (-10.700949702360713, 'gray'),\n",
              " (-10.700949702360713, 'griffin'),\n",
              " (-10.700949702360713, 'grow new'),\n",
              " (-10.700949702360713, 'grow new york'),\n",
              " (-10.700949702360713, 'guant'),\n",
              " (-10.700949702360713, 'guant namo'),\n",
              " (-10.700949702360713, 'gulf'),\n",
              " (-10.700949702360713, 'gymnast'),\n",
              " (-10.700949702360713, 'hack new'),\n",
              " (-10.700949702360713, 'hack new york'),\n",
              " (-10.700949702360713, 'hbo'),\n",
              " (-10.700949702360713, 'health bill'),\n",
              " (-10.700949702360713, 'health care bill'),\n",
              " (-10.700949702360713, 'health insur'),\n",
              " (-10.700949702360713, 'health law'),\n",
              " (-10.700949702360713, 'healthcar bill'),\n",
              " (-10.700949702360713, 'hear new'),\n",
              " (-10.700949702360713, 'hear new york'),\n",
              " (-10.700949702360713, 'heart new'),\n",
              " (-10.700949702360713, 'heart new york'),\n",
              " (-10.700949702360713, 'high school'),\n",
              " (-10.700949702360713, 'histori new'),\n",
              " (-10.700949702360713, 'histori new york'),\n",
              " (-10.700949702360713, 'hockey'),\n",
              " (-10.700949702360713, 'holiday'),\n",
              " (-10.700949702360713, 'home new'),\n",
              " (-10.700949702360713, 'home new york'),\n",
              " (-10.700949702360713, 'hometown'),\n",
              " (-10.700949702360713, 'horribl'),\n",
              " (-10.700949702360713, 'hous breitbart'),\n",
              " (-10.700949702360713, 'hous new york'),\n",
              " (-10.700949702360713, 'hungari'),\n",
              " (-10.700949702360713, 'hurrican matthew'),\n",
              " (-10.700949702360713, 'imam'),\n",
              " (-10.700949702360713, 'immigr order'),\n",
              " (-10.700949702360713, 'inaugur speech'),\n",
              " (-10.700949702360713, 'inquiri new'),\n",
              " (-10.700949702360713, 'inquiri new york'),\n",
              " (-10.700949702360713, 'intend'),\n",
              " (-10.700949702360713, 'interest rate'),\n",
              " (-10.700949702360713, 'investig breitbart'),\n",
              " (-10.700949702360713, 'investig new york'),\n",
              " (-10.700949702360713, 'investig trump'),\n",
              " (-10.700949702360713, 'isi new'),\n",
              " (-10.700949702360713, 'isi new york'),\n",
              " (-10.700949702360713, 'islam state support'),\n",
              " (-10.700949702360713, 'isol'),\n",
              " (-10.700949702360713, 'issu new'),\n",
              " (-10.700949702360713, 'issu new york'),\n",
              " (-10.700949702360713, 'jacki'),\n",
              " (-10.700949702360713, 'jake'),\n",
              " (-10.700949702360713, 'jane'),\n",
              " (-10.700949702360713, 'jare kushner'),\n",
              " (-10.700949702360713, 'jerri'),\n",
              " (-10.700949702360713, 'jerri brown'),\n",
              " (-10.700949702360713, 'jo'),\n",
              " (-10.700949702360713, 'job breitbart'),\n",
              " (-10.700949702360713, 'job new'),\n",
              " (-10.700949702360713, 'job new york'),\n",
              " (-10.700949702360713, 'jong'),\n",
              " (-10.700949702360713, 'jong nam'),\n",
              " (-10.700949702360713, 'jong un'),\n",
              " (-10.700949702360713, 'journey'),\n",
              " (-10.700949702360713, 'jr'),\n",
              " (-10.700949702360713, 'judici'),\n",
              " (-10.700949702360713, 'justin'),\n",
              " (-10.700949702360713, 'kabul'),\n",
              " (-10.700949702360713, 'kathi'),\n",
              " (-10.700949702360713, 'kathi griffin'),\n",
              " (-10.700949702360713, 'kati'),\n",
              " (-10.700949702360713, 'kellogg'),\n",
              " (-10.700949702360713, 'kevin'),\n",
              " (-10.700949702360713, 'kill new'),\n",
              " (-10.700949702360713, 'kill new york'),\n",
              " (-10.700949702360713, 'kim jong'),\n",
              " (-10.700949702360713, 'kim jong nam'),\n",
              " (-10.700949702360713, 'kim jong un'),\n",
              " (-10.700949702360713, 'know know'),\n",
              " (-10.700949702360713, 'know new york'),\n",
              " (-10.700949702360713, 'korea new'),\n",
              " (-10.700949702360713, 'korea new york'),\n",
              " (-10.700949702360713, 'krauthamm'),\n",
              " (-10.700949702360713, 'kushner'),\n",
              " (-10.700949702360713, 'la la'),\n",
              " (-10.700949702360713, 'la la land'),\n",
              " (-10.700949702360713, 'la land'),\n",
              " (-10.700949702360713, 'labour'),\n",
              " (-10.700949702360713, 'lago'),\n",
              " (-10.700949702360713, 'latin'),\n",
              " (-10.700949702360713, 'lauderdal'),\n",
              " (-10.700949702360713, 'law breitbart'),\n",
              " (-10.700949702360713, 'law new'),\n",
              " (-10.700949702360713, 'law new york'),\n",
              " (-10.700949702360713, 'lawyer say'),\n",
              " (-10.700949702360713, 'le pen'),\n",
              " (-10.700949702360713, 'leader new'),\n",
              " (-10.700949702360713, 'leader new york'),\n",
              " (-10.700949702360713, 'leaker'),\n",
              " (-10.700949702360713, 'legitim'),\n",
              " (-10.700949702360713, 'lena'),\n",
              " (-10.700949702360713, 'lena dunham'),\n",
              " (-10.700949702360713, 'levin'),\n",
              " (-10.700949702360713, 'lewi'),\n",
              " (-10.700949702360713, 'life new'),\n",
              " (-10.700949702360713, 'life new york'),\n",
              " (-10.700949702360713, 'linda'),\n",
              " (-10.700949702360713, 'linda sarsour'),\n",
              " (-10.700949702360713, 'line new'),\n",
              " (-10.700949702360713, 'line new york'),\n",
              " (-10.700949702360713, 'listen new'),\n",
              " (-10.700949702360713, 'listen new york'),\n",
              " (-10.700949702360713, 'lite'),\n",
              " (-10.700949702360713, 'live new'),\n",
              " (-10.700949702360713, 'live new york'),\n",
              " (-10.700949702360713, 'lo angel'),\n",
              " (-10.700949702360713, 'locht'),\n",
              " (-10.700949702360713, 'london attack'),\n",
              " (-10.700949702360713, 'long island'),\n",
              " (-10.700949702360713, 'loss new'),\n",
              " (-10.700949702360713, 'loss new york'),\n",
              " (-10.700949702360713, 'louvr'),\n",
              " (-10.700949702360713, 'machin new'),\n",
              " (-10.700949702360713, 'machin new york'),\n",
              " (-10.700949702360713, 'macron'),\n",
              " (-10.700949702360713, 'madonna'),\n",
              " (-10.700949702360713, 'maker'),\n",
              " (-10.700949702360713, 'malaysia'),\n",
              " (-10.700949702360713, 'mall'),\n",
              " (-10.700949702360713, 'man new'),\n",
              " (-10.700949702360713, 'man new york'),\n",
              " (-10.700949702360713, 'manchin'),\n",
              " (-10.700949702360713, 'manuel'),\n",
              " (-10.700949702360713, 'mar'),\n",
              " (-10.700949702360713, 'mar lago'),\n",
              " (-10.700949702360713, 'marcher'),\n",
              " (-10.700949702360713, 'marin le'),\n",
              " (-10.700949702360713, 'marin le pen'),\n",
              " (-10.700949702360713, 'market new'),\n",
              " (-10.700949702360713, 'market new york'),\n",
              " (-10.700949702360713, 'marlow'),\n",
              " (-10.700949702360713, 'match'),\n",
              " (-10.700949702360713, 'maxin'),\n",
              " (-10.700949702360713, 'maxin water'),\n",
              " (-10.700949702360713, 'mcconnel'),\n",
              " (-10.700949702360713, 'media breitbart'),\n",
              " (-10.700949702360713, 'media new'),\n",
              " (-10.700949702360713, 'media new york'),\n",
              " (-10.700949702360713, 'medicaid'),\n",
              " (-10.700949702360713, 'meet new'),\n",
              " (-10.700949702360713, 'memori day'),\n",
              " (-10.700949702360713, 'merger'),\n",
              " (-10.700949702360713, 'meryl'),\n",
              " (-10.700949702360713, 'meryl streep'),\n",
              " (-10.700949702360713, 'mexican border'),\n",
              " (-10.700949702360713, 'mexican cartel'),\n",
              " (-10.700949702360713, 'michael phelp'),\n",
              " (-10.700949702360713, 'militari new'),\n",
              " (-10.700949702360713, 'militari new york'),\n",
              " (-10.700949702360713, 'million new york'),\n",
              " (-10.700949702360713, 'milo breitbart'),\n",
              " (-10.700949702360713, 'milo event'),\n",
              " (-10.700949702360713, 'miss new'),\n",
              " (-10.700949702360713, 'miss new york'),\n",
              " (-10.700949702360713, 'mnuchin'),\n",
              " (-10.700949702360713, 'model new'),\n",
              " (-10.700949702360713, 'model new york'),\n",
              " (-10.700949702360713, 'modi'),\n",
              " (-10.700949702360713, 'monday brief'),\n",
              " (-10.700949702360713, 'monday brief new'),\n",
              " (-10.700949702360713, 'monday even'),\n",
              " (-10.700949702360713, 'monday even brief'),\n",
              " (-10.700949702360713, 'money new'),\n",
              " (-10.700949702360713, 'money new york'),\n",
              " (-10.700949702360713, 'month new'),\n",
              " (-10.700949702360713, 'month new york'),\n",
              " (-10.700949702360713, 'monument'),\n",
              " (-10.700949702360713, 'moonlight'),\n",
              " (-10.700949702360713, 'morn brief'),\n",
              " (-10.700949702360713, 'morn brief new'),\n",
              " (-10.700949702360713, 'muhammad ali'),\n",
              " (-10.700949702360713, 'multipl'),\n",
              " (-10.700949702360713, 'mulvaney'),\n",
              " (-10.700949702360713, 'myanmar'),\n",
              " (-10.700949702360713, 'nam'),\n",
              " (-10.700949702360713, 'name new'),\n",
              " (-10.700949702360713, 'namo'),\n",
              " (-10.700949702360713, 'nanci'),\n",
              " (-10.700949702360713, 'nanci pelosi'),\n",
              " (-10.700949702360713, 'narendra'),\n",
              " (-10.700949702360713, 'narendra modi'),\n",
              " (-10.700949702360713, 'nat'),\n",
              " (-10.700949702360713, 'nation new'),\n",
              " (-10.700949702360713, 'nation new york'),\n",
              " (-10.700949702360713, 'nation secur advis'),\n",
              " (-10.700949702360713, 'navi seal'),\n",
              " (-10.700949702360713, 'near texa'),\n",
              " (-10.700949702360713, 'near texa border'),\n",
              " (-10.700949702360713, 'neil gorsuch'),\n",
              " (-10.700949702360713, 'netflix'),\n",
              " (-10.700949702360713, 'new england'),\n",
              " (-10.700949702360713, 'new england patriot'),\n",
              " (-10.700949702360713, 'new year eve'),\n",
              " (-10.700949702360713, 'new york new'),\n",
              " (-10.700949702360713, 'new york state'),\n",
              " (-10.700949702360713, 'news breitbart'),\n",
              " (-10.700949702360713, 'news cnn'),\n",
              " (-10.700949702360713, 'news daili'),\n",
              " (-10.700949702360713, 'news new'),\n",
              " (-10.700949702360713, 'news new york'),\n",
              " (-10.700949702360713, 'night new'),\n",
              " (-10.700949702360713, 'night new york'),\n",
              " (-10.700949702360713, 'nobel prize'),\n",
              " (-10.700949702360713, 'nomin'),\n",
              " (-10.700949702360713, 'nuclear option'),\n",
              " (-10.700949702360713, 'nune'),\n",
              " (-10.700949702360713, 'obama breitbart'),\n",
              " (-10.700949702360713, 'obama era'),\n",
              " (-10.700949702360713, 'obamacar breitbart'),\n",
              " (-10.700949702360713, 'obamacar lite'),\n",
              " (-10.700949702360713, 'obamacar repeal'),\n",
              " (-10.700949702360713, 'obamacar replac'),\n",
              " (-10.700949702360713, 'odd'),\n",
              " (-10.700949702360713, 'offic new'),\n",
              " (-10.700949702360713, 'offic new york'),\n",
              " (-10.700949702360713, 'offici say'),\n",
              " (-10.700949702360713, 'offici say new'),\n",
              " (-10.700949702360713, 'often'),\n",
              " (-10.700949702360713, 'oi'),\n",
              " (-10.700949702360713, 'oi fillon'),\n",
              " (-10.700949702360713, 'oliv'),\n",
              " (-10.700949702360713, 'olymp new'),\n",
              " (-10.700949702360713, 'olymp new york'),\n",
              " (-10.700949702360713, 'one new'),\n",
              " (-10.700949702360713, 'one new york'),\n",
              " (-10.700949702360713, 'op'),\n",
              " (-10.700949702360713, 'open door'),\n",
              " (-10.700949702360713, 'open new york'),\n",
              " (-10.700949702360713, 'oper new'),\n",
              " (-10.700949702360713, 'oppos trump'),\n",
              " (-10.700949702360713, 'order breitbart'),\n",
              " (-10.700949702360713, 'order new'),\n",
              " (-10.700949702360713, 'order new york'),\n",
              " (-10.700949702360713, 'orlando shoot'),\n",
              " (-10.700949702360713, 'orlean'),\n",
              " (-10.700949702360713, 'orovil'),\n",
              " (-10.700949702360713, 'outcri'),\n",
              " (-10.700949702360713, 'outlet'),\n",
              " (-10.700949702360713, 'overhaul'),\n",
              " (-10.700949702360713, 'pari agreement'),\n",
              " (-10.700949702360713, 'parti new'),\n",
              " (-10.700949702360713, 'parti new york'),\n",
              " (-10.700949702360713, 'passport'),\n",
              " (-10.700949702360713, 'past new'),\n",
              " (-10.700949702360713, 'past new york'),\n",
              " (-10.700949702360713, 'path new york'),\n",
              " (-10.700949702360713, 'patrol agent'),\n",
              " (-10.700949702360713, 'paul ryan obamacar'),\n",
              " (-10.700949702360713, 'pelosi'),\n",
              " (-10.700949702360713, 'penguin'),\n",
              " (-10.700949702360713, 'peopl breitbart'),\n",
              " (-10.700949702360713, 'perez'),\n",
              " (-10.700949702360713, 'persist'),\n",
              " (-10.700949702360713, 'person new york'),\n",
              " (-10.700949702360713, 'phelp'),\n",
              " (-10.700949702360713, 'pioneer'),\n",
              " (-10.700949702360713, 'plan new'),\n",
              " (-10.700949702360713, 'plan new york'),\n",
              " (-10.700949702360713, 'plane crash'),\n",
              " (-10.700949702360713, 'playoff'),\n",
              " (-10.700949702360713, 'poland'),\n",
              " (-10.700949702360713, 'polic new'),\n",
              " (-10.700949702360713, 'polic new york'),\n",
              " (-10.700949702360713, 'polic say'),\n",
              " (-10.700949702360713, 'polic say new'),\n",
              " (-10.700949702360713, 'polic shoot'),\n",
              " (-10.700949702360713, 'polici breitbart'),\n",
              " (-10.700949702360713, 'polici new'),\n",
              " (-10.700949702360713, 'polici new york'),\n",
              " (-10.700949702360713, 'polit new'),\n",
              " (-10.700949702360713, 'polit new york'),\n",
              " (-10.700949702360713, 'politico'),\n",
              " (-10.700949702360713, 'post new'),\n",
              " (-10.700949702360713, 'post new york'),\n",
              " (-10.700949702360713, 'pound'),\n",
              " (-10.700949702360713, 'power new york'),\n",
              " (-10.700949702360713, 'pregnanc'),\n",
              " (-10.700949702360713, 'pregnant'),\n",
              " (-10.700949702360713, 'presid breitbart'),\n",
              " (-10.700949702360713, 'presid new'),\n",
              " (-10.700949702360713, 'presid new york'),\n",
              " (-10.700949702360713, 'presid trump breitbart'),\n",
              " (-10.700949702360713, 'presidenti debat'),\n",
              " (-10.700949702360713, 'press breitbart'),\n",
              " (-10.700949702360713, 'preview'),\n",
              " (-10.700949702360713, 'price new'),\n",
              " (-10.700949702360713, 'price new york'),\n",
              " (-10.700949702360713, 'priebu'),\n",
              " (-10.700949702360713, 'prison new'),\n",
              " (-10.700949702360713, 'prison new york'),\n",
              " (-10.700949702360713, 'problem new'),\n",
              " (-10.700949702360713, 'problem new york'),\n",
              " (-10.700949702360713, 'profession'),\n",
              " (-10.700949702360713, 'prompt'),\n",
              " (-10.700949702360713, 'protest breitbart'),\n",
              " (-10.700949702360713, 'protest new'),\n",
              " (-10.700949702360713, 'proud'),\n",
              " (-10.700949702360713, 'pruitt'),\n",
              " (-10.700949702360713, 'publish'),\n",
              " (-10.700949702360713, 'puerto'),\n",
              " (-10.700949702360713, 'quebec'),\n",
              " (-10.700949702360713, 'race new'),\n",
              " (-10.700949702360713, 'race new york'),\n",
              " (-10.700949702360713, 'rampag'),\n",
              " (-10.700949702360713, 'rand'),\n",
              " (-10.700949702360713, 'rand paul'),\n",
              " (-10.700949702360713, 'rang'),\n",
              " (-10.700949702360713, 'rebuk'),\n",
              " (-10.700949702360713, 'recal'),\n",
              " (-10.700949702360713, 'redston'),\n",
              " (-10.700949702360713, 'regist'),\n",
              " (-10.700949702360713, 'rein'),\n",
              " (-10.700949702360713, 'reinc'),\n",
              " (-10.700949702360713, 'reinc priebu'),\n",
              " (-10.700949702360713, 'reinstat'),\n",
              " (-10.700949702360713, 'repeal breitbart'),\n",
              " (-10.700949702360713, 'repeal obamacar'),\n",
              " (-10.700949702360713, 'repeat'),\n",
              " (-10.700949702360713, 'replac bill'),\n",
              " (-10.700949702360713, 'report ask'),\n",
              " (-10.700949702360713, 'report breitbart'),\n",
              " (-10.700949702360713, 'report obama'),\n",
              " (-10.700949702360713, 'report say'),\n",
              " (-10.700949702360713, 'report say new'),\n",
              " (-10.700949702360713, 'report trump'),\n",
              " (-10.700949702360713, 'republican new'),\n",
              " (-10.700949702360713, 'republican new york'),\n",
              " (-10.700949702360713, 'reshap'),\n",
              " (-10.700949702360713, 'rethink'),\n",
              " (-10.700949702360713, 'rex'),\n",
              " (-10.700949702360713, 'rex tillerson'),\n",
              " (-10.700949702360713, 'rhetor'),\n",
              " (-10.700949702360713, 'rico'),\n",
              " (-10.700949702360713, 'right breitbart'),\n",
              " (-10.700949702360713, 'right new'),\n",
              " (-10.700949702360713, 'right new york'),\n",
              " (-10.700949702360713, 'rio'),\n",
              " (-10.700949702360713, 'rio olymp'),\n",
              " (-10.700949702360713, 'riot breitbart'),\n",
              " (-10.700949702360713, 'rodrigo'),\n",
              " (-10.700949702360713, 'rodrigo dutert'),\n",
              " (-10.700949702360713, 'roger ail'),\n",
              " (-10.700949702360713, 'roug'),\n",
              " (-10.700949702360713, 'rout'),\n",
              " (-10.700949702360713, 'rule breitbart'),\n",
              " (-10.700949702360713, 'rule new'),\n",
              " (-10.700949702360713, 'rule new york'),\n",
              " (-10.700949702360713, 'russia new york'),\n",
              " (-10.700949702360713, 'russia probe'),\n",
              " (-10.700949702360713, 'russian ambassador'),\n",
              " (-10.700949702360713, 'russian hack'),\n",
              " (-10.700949702360713, 'ryan locht'),\n",
              " (-10.700949702360713, 'ryan obamacar'),\n",
              " (-10.700949702360713, 'ryan obamacar lite'),\n",
              " (-10.700949702360713, 'ryancar'),\n",
              " (-10.700949702360713, 'san diego'),\n",
              " (-10.700949702360713, 'sarsour'),\n",
              " (-10.700949702360713, 'saturday'),\n",
              " (-10.700949702360713, 'saturday night'),\n",
              " (-10.700949702360713, 'saturday night live'),\n",
              " (-10.700949702360713, 'say new'),\n",
              " (-10.700949702360713, 'say new york'),\n",
              " (-10.700949702360713, 'scalis'),\n",
              " (-10.700949702360713, 'scandal breitbart'),\n",
              " (-10.700949702360713, 'scandal new'),\n",
              " (-10.700949702360713, 'scandal new york'),\n",
              " (-10.700949702360713, 'school new'),\n",
              " (-10.700949702360713, 'school new york'),\n",
              " (-10.700949702360713, 'schumer'),\n",
              " (-10.700949702360713, 'schwarzenegg'),\n",
              " (-10.700949702360713, 'scott pruitt'),\n",
              " (-10.700949702360713, 'scrambl'),\n",
              " (-10.700949702360713, 'sea new'),\n",
              " (-10.700949702360713, 'sea new york'),\n",
              " (-10.700949702360713, 'sean spicer'),\n",
              " (-10.700949702360713, 'sear'),\n",
              " (-10.700949702360713, 'season new'),\n",
              " (-10.700949702360713, 'season new york'),\n",
              " (-10.700949702360713, 'secretari new'),\n",
              " (-10.700949702360713, 'secretari new york'),\n",
              " (-10.700949702360713, 'secur advis'),\n",
              " (-10.700949702360713, 'secur council'),\n",
              " (-10.700949702360713, 'segment'),\n",
              " (-10.700949702360713, 'self drive car'),\n",
              " (-10.700949702360713, 'senat breitbart'),\n",
              " (-10.700949702360713, 'senat confirm'),\n",
              " (-10.700949702360713, 'settlement new'),\n",
              " (-10.700949702360713, 'settlement new york'),\n",
              " (-10.700949702360713, 'sex offend'),\n",
              " (-10.700949702360713, 'sexual abus'),\n",
              " (-10.700949702360713, 'sharp'),\n",
              " (-10.700949702360713, 'shinzo'),\n",
              " (-10.700949702360713, 'shinzo abe'),\n",
              " (-10.700949702360713, 'shoot new'),\n",
              " (-10.700949702360713, 'shoot new york'),\n",
              " (-10.700949702360713, 'show new'),\n",
              " (-10.700949702360713, 'show new york'),\n",
              " (-10.700949702360713, 'skill'),\n",
              " (-10.700949702360713, 'skip'),\n",
              " (-10.700949702360713, 'smile'),\n",
              " (-10.700949702360713, 'smuggler'),\n",
              " (-10.700949702360713, 'somalia'),\n",
              " (-10.700949702360713, 'son law'),\n",
              " (-10.700949702360713, 'south carolina'),\n",
              " (-10.700949702360713, 'south korean'),\n",
              " (-10.700949702360713, 'spacex'),\n",
              " (-10.700949702360713, 'speaker paul'),\n",
              " (-10.700949702360713, 'speaker paul ryan'),\n",
              " (-10.700949702360713, 'specul'),\n",
              " (-10.700949702360713, 'speech breitbart'),\n",
              " (-10.700949702360713, 'speech new york'),\n",
              " (-10.700949702360713, 'spicer'),\n",
              " (-10.700949702360713, 'sport'),\n",
              " (-10.700949702360713, 'sport new'),\n",
              " (-10.700949702360713, 'sport new york'),\n",
              " (-10.700949702360713, 'spotlight'),\n",
              " (-10.700949702360713, 'stanc'),\n",
              " (-10.700949702360713, 'stanford'),\n",
              " (-10.700949702360713, 'star new'),\n",
              " (-10.700949702360713, 'star new york'),\n",
              " (-10.700949702360713, 'start new'),\n",
              " (-10.700949702360713, 'start new york'),\n",
              " (-10.700949702360713, 'state breitbart'),\n",
              " (-10.700949702360713, 'state new'),\n",
              " (-10.700949702360713, 'state new york'),\n",
              " (-10.700949702360713, 'state support'),\n",
              " (-10.700949702360713, 'state warrior'),\n",
              " (-10.700949702360713, 'stem'),\n",
              " (-10.700949702360713, 'step new'),\n",
              " (-10.700949702360713, 'step new york'),\n",
              " (-10.700949702360713, 'stephen bannon'),\n",
              " (-10.700949702360713, 'stockholm'),\n",
              " (-10.700949702360713, 'stori new'),\n",
              " (-10.700949702360713, 'stori new york'),\n",
              " (-10.700949702360713, 'strand'),\n",
              " (-10.700949702360713, 'streep'),\n",
              " (-10.700949702360713, 'street new york'),\n",
              " (-10.700949702360713, 'streisand'),\n",
              " (-10.700949702360713, 'student new'),\n",
              " (-10.700949702360713, 'student new york'),\n",
              " (-10.700949702360713, 'stumbl'),\n",
              " (-10.700949702360713, 'suburb'),\n",
              " (-10.700949702360713, 'subway'),\n",
              " (-10.700949702360713, 'suddenli'),\n",
              " (-10.700949702360713, 'sunday'),\n",
              " (-10.700949702360713, 'super bowl'),\n",
              " (-10.700949702360713, 'support donald'),\n",
              " (-10.700949702360713, 'support donald trump'),\n",
              " (-10.700949702360713, 'suprem court new'),\n",
              " (-10.700949702360713, 'swift'),\n",
              " (-10.700949702360713, 'swimmer'),\n",
              " (-10.700949702360713, 'syria new york'),\n",
              " (-10.700949702360713, 'syria strike'),\n",
              " (-10.700949702360713, 'taiwan'),\n",
              " (-10.700949702360713, 'takata'),\n",
              " (-10.700949702360713, 'takeaway'),\n",
              " (-10.700949702360713, 'taliban'),\n",
              " (-10.700949702360713, 'talk new'),\n",
              " (-10.700949702360713, 'tap'),\n",
              " (-10.700949702360713, 'tax return'),\n",
              " (-10.700949702360713, 'team new'),\n",
              " (-10.700949702360713, 'team new york'),\n",
              " (-10.700949702360713, 'temporari'),\n",
              " (-10.700949702360713, 'term new'),\n",
              " (-10.700949702360713, 'term new york'),\n",
              " (-10.700949702360713, 'terror breitbart'),\n",
              " (-10.700949702360713, 'terror new'),\n",
              " (-10.700949702360713, 'test new york'),\n",
              " (-10.700949702360713, 'texa border'),\n",
              " (-10.700949702360713, 'theresa'),\n",
              " (-10.700949702360713, 'theresa may'),\n",
              " (-10.700949702360713, 'thing new'),\n",
              " (-10.700949702360713, 'thing new york'),\n",
              " (-10.700949702360713, 'thursday'),\n",
              " (-10.700949702360713, 'thursday even'),\n",
              " (-10.700949702360713, 'thursday even brief'),\n",
              " (-10.700949702360713, 'tie new'),\n",
              " (-10.700949702360713, 'tie new york'),\n",
              " (-10.700949702360713, 'tillerson'),\n",
              " (-10.700949702360713, 'time new'),\n",
              " (-10.700949702360713, 'time new york'),\n",
              " (-10.700949702360713, 'titl new'),\n",
              " (-10.700949702360713, 'titl new york'),\n",
              " (-10.700949702360713, 'todd'),\n",
              " (-10.700949702360713, 'toll'),\n",
              " (-10.700949702360713, 'tom bradi'),\n",
              " (-10.700949702360713, 'tone'),\n",
              " (-10.700949702360713, 'tough'),\n",
              " (-10.700949702360713, 'tourist'),\n",
              " (-10.700949702360713, 'town hall'),\n",
              " (-10.700949702360713, 'town new'),\n",
              " (-10.700949702360713, 'town new york'),\n",
              " (-10.700949702360713, 'trailer breitbart'),\n",
              " (-10.700949702360713, 'tran'),\n",
              " (-10.700949702360713, 'transit team'),\n",
              " (-10.700949702360713, 'travel ban'),\n",
              " (-10.700949702360713, 'travel ban new'),\n",
              " (-10.700949702360713, 'trial new'),\n",
              " (-10.700949702360713, 'trial new york'),\n",
              " (-10.700949702360713, 'trophi'),\n",
              " (-10.700949702360713, 'trove'),\n",
              " (-10.700949702360713, 'trudeau'),\n",
              " (-10.700949702360713, 'trump admin'),\n",
              " (-10.700949702360713, 'trump border'),\n",
              " (-10.700949702360713, 'trump breitbart'),\n",
              " (-10.700949702360713, 'trump budget'),\n",
              " (-10.700949702360713, 'trump celebr'),\n",
              " (-10.700949702360713, 'trump choic'),\n",
              " (-10.700949702360713, 'trump could'),\n",
              " (-10.700949702360713, 'trump execut'),\n",
              " (-10.700949702360713, 'trump execut order'),\n",
              " (-10.700949702360713, 'trump fire'),\n",
              " (-10.700949702360713, 'trump first day'),\n",
              " (-10.700949702360713, 'trump go'),\n",
              " (-10.700949702360713, 'trump immigr'),\n",
              " (-10.700949702360713, 'trump immigr order'),\n",
              " (-10.700949702360713, 'trump keep'),\n",
              " (-10.700949702360713, 'trump may'),\n",
              " (-10.700949702360713, 'trump new york'),\n",
              " (-10.700949702360713, 'trump nomine'),\n",
              " (-10.700949702360713, 'trump order'),\n",
              " (-10.700949702360713, 'trump pick'),\n",
              " (-10.700949702360713, 'trump polici'),\n",
              " (-10.700949702360713, 'trump talk'),\n",
              " (-10.700949702360713, 'trump travel'),\n",
              " (-10.700949702360713, 'trump travel ban'),\n",
              " (-10.700949702360713, 'trump tri'),\n",
              " (-10.700949702360713, 'trump visit'),\n",
              " (-10.700949702360713, 'trump vow'),\n",
              " (-10.700949702360713, 'trump wall'),\n",
              " (-10.700949702360713, 'trump women'),\n",
              " (-10.700949702360713, 'tuesday brief'),\n",
              " (-10.700949702360713, 'tuesday brief new'),\n",
              " (-10.700949702360713, 'tuesday even'),\n",
              " (-10.700949702360713, 'tuesday even brief'),\n",
              " (-10.700949702360713, 'turmoil'),\n",
              " (-10.700949702360713, 'twitter breitbart'),\n",
              " (-10.700949702360713, 'two year'),\n",
              " (-10.700949702360713, 'uc davi'),\n",
              " (-10.700949702360713, 'unlik'),\n",
              " (-10.700949702360713, 'unmask'),\n",
              " (-10.700949702360713, 'upend'),\n",
              " (-10.700949702360713, 'uphold'),\n",
              " (-10.700949702360713, 'us new york'),\n",
              " (-10.700949702360713, 'vacat'),\n",
              " (-10.700949702360713, 'vacat new'),\n",
              " (-10.700949702360713, 'vacat new york'),\n",
              " (-10.700949702360713, 'vanish'),\n",
              " (-10.700949702360713, 'veto'),\n",
              " (-10.700949702360713, 'violenc new'),\n",
              " (-10.700949702360713, 'violenc new york'),\n",
              " (-10.700949702360713, 'virgil'),\n",
              " (-10.700949702360713, 'vogu'),\n",
              " (-10.700949702360713, 'volkswagen'),\n",
              " (-10.700949702360713, 'vote new'),\n",
              " (-10.700949702360713, 'vote new york'),\n",
              " (-10.700949702360713, 'voter id'),\n",
              " (-10.700949702360713, 'wait new'),\n",
              " (-10.700949702360713, 'wall breitbart'),\n",
              " (-10.700949702360713, 'war new'),\n",
              " (-10.700949702360713, 'war new york'),\n",
              " (-10.700949702360713, 'wari'),\n",
              " (-10.700949702360713, 'warn new'),\n",
              " (-10.700949702360713, 'warn new york'),\n",
              " (-10.700949702360713, 'warner'),\n",
              " (-10.700949702360713, 'warrior'),\n",
              " (-10.700949702360713, 'washington new'),\n",
              " (-10.700949702360713, 'washington new york'),\n",
              " (-10.700949702360713, 'water new'),\n",
              " (-10.700949702360713, 'water new york'),\n",
              " (-10.700949702360713, 'way new'),\n",
              " (-10.700949702360713, 'way new york'),\n",
              " (-10.700949702360713, 'wednesday brief'),\n",
              " (-10.700949702360713, 'wednesday brief new'),\n",
              " (-10.700949702360713, 'wednesday even'),\n",
              " (-10.700949702360713, 'wednesday even brief'),\n",
              " (-10.700949702360713, 'week new'),\n",
              " (-10.700949702360713, 'week new york'),\n",
              " (-10.700949702360713, 'weekend brief'),\n",
              " (-10.700949702360713, 'weekend brief new'),\n",
              " (-10.700949702360713, 'weekend new'),\n",
              " (-10.700949702360713, 'weekend new york'),\n",
              " (-10.700949702360713, 'well fargo'),\n",
              " (-10.700949702360713, 'west bank'),\n",
              " (-10.700949702360713, 'westminst'),\n",
              " (-10.700949702360713, 'wh'),\n",
              " (-10.700949702360713, 'white hous breitbart'),\n",
              " (-10.700949702360713, 'white hous new'),\n",
              " (-10.700949702360713, 'white nationalist'),\n",
              " (-10.700949702360713, 'wider'),\n",
              " (-10.700949702360713, 'wield'),\n",
              " (-10.700949702360713, 'wildfir'),\n",
              " (-10.700949702360713, 'wimbledon'),\n",
              " (-10.700949702360713, 'win breitbart'),\n",
              " (-10.700949702360713, 'wiretap claim'),\n",
              " (-10.700949702360713, 'women march'),\n",
              " (-10.700949702360713, 'women new'),\n",
              " (-10.700949702360713, 'women new york'),\n",
              " (-10.700949702360713, 'work new'),\n",
              " (-10.700949702360713, 'work new york'),\n",
              " (-10.700949702360713, 'world new'),\n",
              " (-10.700949702360713, 'world new york'),\n",
              " (-10.700949702360713, 'worri new'),\n",
              " (-10.700949702360713, 'worri new york'),\n",
              " (-10.700949702360713, 'wrestl'),\n",
              " (-10.700949702360713, 'yahoo'),\n",
              " (-10.700949702360713, 'year breitbart'),\n",
              " (-10.700949702360713, 'year eve'),\n",
              " (-10.700949702360713, 'year new york'),\n",
              " (-10.700949702360713, 'york new'),\n",
              " (-10.700949702360713, 'york new york'),\n",
              " (-10.700949702360713, 'york state'),\n",
              " (-10.700949702360713, 'zone new'),\n",
              " (-10.700949702360713, 'zone new york'),\n",
              " (-10.700949702360713, 'zoo'),\n",
              " (-10.007802521800768, 'academi'),\n",
              " (-10.007802521800768, 'accid'),\n",
              " (-10.007802521800768, 'aclu'),\n",
              " (-10.007802521800768, 'acr'),\n",
              " (-10.007802521800768, 'adopt'),\n",
              " (-10.007802521800768, 'ahead trump'),\n",
              " (-10.007802521800768, 'airbnb'),\n",
              " (-10.007802521800768, 'airlin'),\n",
              " (-10.007802521800768, 'album'),\n",
              " (-10.007802521800768, 'alex jone'),\n",
              " (-10.007802521800768, 'allegedli'),\n",
              " (-10.007802521800768, 'allianc'),\n",
              " (-10.007802521800768, 'america new'),\n",
              " (-10.007802521800768, 'anchor'),\n",
              " (-10.007802521800768, 'anger'),\n",
              " (-10.007802521800768, 'anti israel'),\n",
              " (-10.007802521800768, 'anti semit'),\n",
              " (-10.007802521800768, 'anymor'),\n",
              " (-10.007802521800768, 'applic'),\n",
              " (-10.007802521800768, 'approach'),\n",
              " (-10.007802521800768, 'appropri'),\n",
              " (-10.007802521800768, 'around world'),\n",
              " (-10.007802521800768, 'artifici'),\n",
              " (-10.007802521800768, 'asylum seeker'),\n",
              " (-10.007802521800768, 'atlant'),\n",
              " (-10.007802521800768, 'attack polic'),\n",
              " (-10.007802521800768, 'attack trump'),\n",
              " (-10.007802521800768, 'auto'),\n",
              " (-10.007802521800768, 'aviv'),\n",
              " (-10.007802521800768, 'back trump'),\n",
              " (-10.007802521800768, 'baghdad'),\n",
              " (-10.007802521800768, 'band'),\n",
              " (-10.007802521800768, 'barrier'),\n",
              " (-10.007802521800768, 'barron'),\n",
              " (-10.007802521800768, 'beach'),\n",
              " (-10.007802521800768, 'beer'),\n",
              " (-10.007802521800768, 'behead'),\n",
              " (-10.007802521800768, 'beij'),\n",
              " (-10.007802521800768, 'ben'),\n",
              " (-10.007802521800768, 'berlin'),\n",
              " (-10.007802521800768, 'bet'),\n",
              " (-10.007802521800768, 'beyonc'),\n",
              " (-10.007802521800768, 'bill cosbi'),\n",
              " (-10.007802521800768, 'bitter'),\n",
              " (-10.007802521800768, 'blasio'),\n",
              " (-10.007802521800768, 'block trump'),\n",
              " (-10.007802521800768, 'boat'),\n",
              " (-10.007802521800768, 'boe'),\n",
              " (-10.007802521800768, 'boko'),\n",
              " (-10.007802521800768, 'boko haram'),\n",
              " (-10.007802521800768, 'bolton'),\n",
              " (-10.007802521800768, 'bomber'),\n",
              " (-10.007802521800768, 'bori'),\n",
              " (-10.007802521800768, 'boss'),\n",
              " (-10.007802521800768, 'bow'),\n",
              " (-10.007802521800768, 'branch'),\n",
              " (-10.007802521800768, 'breitbart news'),\n",
              " (-10.007802521800768, 'bribe'),\n",
              " (-10.007802521800768, 'brought'),\n",
              " (-10.007802521800768, 'built'),\n",
              " (-10.007802521800768, 'bull'),\n",
              " ...]"
            ]
          },
          "metadata": {},
          "execution_count": 63
        }
      ]
    },
    {
      "cell_type": "code",
      "source": [
        "min(sorted(zip(classifier_2.coef_[0], feature_names))[:5000])"
      ],
      "metadata": {
        "colab": {
          "base_uri": "https://localhost:8080/"
        },
        "id": "Eu3gRh1ZLtAy",
        "outputId": "01ef7d7f-f5a1-4303-d2e2-9781534ee01a"
      },
      "execution_count": 50,
      "outputs": [
        {
          "output_type": "execute_result",
          "data": {
            "text/plain": [
              "(-10.700949702360713, 'abe')"
            ]
          },
          "metadata": {},
          "execution_count": 50
        }
      ]
    },
    {
      "cell_type": "code",
      "source": [
        "max(sorted(zip(classifier_2.coef_[0], feature_names))[:5000])"
      ],
      "metadata": {
        "colab": {
          "base_uri": "https://localhost:8080/"
        },
        "id": "7ag4f1ibPiEl",
        "outputId": "e05222a4-81ed-4b78-9f5d-be982671b4dc"
      },
      "execution_count": 52,
      "outputs": [
        {
          "output_type": "execute_result",
          "data": {
            "text/plain": [
              "(-4.011350433181747, 'trump')"
            ]
          },
          "metadata": {},
          "execution_count": 52
        }
      ]
    },
    {
      "cell_type": "markdown",
      "source": [
        " -----------------"
      ],
      "metadata": {
        "id": "D5fq-3Uqvo5u"
      }
    },
    {
      "cell_type": "markdown",
      "source": [
        "## Let's now use tf-idf to encode words and repeat the process of classification again :"
      ],
      "metadata": {
        "id": "okxla9q3vsOd"
      }
    },
    {
      "cell_type": "code",
      "source": [
        "messages=data.copy()\n"
      ],
      "metadata": {
        "id": "PqQ69AFmwjLK"
      },
      "execution_count": 111,
      "outputs": []
    },
    {
      "cell_type": "code",
      "source": [
        "messages.dropna(inplace = True)"
      ],
      "metadata": {
        "id": "EOm-kRCnyMa5"
      },
      "execution_count": 114,
      "outputs": []
    },
    {
      "cell_type": "code",
      "source": [
        "messages.reset_index(inplace = True)"
      ],
      "metadata": {
        "id": "9ku2Cfz_yuEp"
      },
      "execution_count": 115,
      "outputs": []
    },
    {
      "cell_type": "code",
      "source": [
        "y=messages['label']"
      ],
      "metadata": {
        "id": "32Ewpe5Xy3jE"
      },
      "execution_count": 117,
      "outputs": []
    },
    {
      "cell_type": "code",
      "source": [
        "corpus_new = []\n",
        "for i in range(0, len(messages)):\n",
        "    review_1 = re.sub('[^a-zA-Z]', ' ', messages['title'][i])\n",
        "    review_1 = review_1.lower()\n",
        "    review_1 = review_1.split()\n",
        "    \n",
        "    review_1 = [ps.stem(word) for word in review_1 if not word in stopwords.words('english')]\n",
        "    review_1 = ' '.join(review_1)\n",
        "    corpus_new.append(review_1)"
      ],
      "metadata": {
        "id": "bIHqV1p4vr-R"
      },
      "execution_count": 119,
      "outputs": []
    },
    {
      "cell_type": "code",
      "source": [
        "corpus_new[4]"
      ],
      "metadata": {
        "colab": {
          "base_uri": "https://localhost:8080/",
          "height": 35
        },
        "id": "K_e0_fY4xM8F",
        "outputId": "10d06a68-d308-43ac-87c8-75e1c5d20c62"
      },
      "execution_count": 120,
      "outputs": [
        {
          "output_type": "execute_result",
          "data": {
            "text/plain": [
              "'iranian woman jail fiction unpublish stori woman stone death adulteri'"
            ],
            "application/vnd.google.colaboratory.intrinsic+json": {
              "type": "string"
            }
          },
          "metadata": {},
          "execution_count": 120
        }
      ]
    },
    {
      "cell_type": "code",
      "source": [
        "tfidf_v=TfidfVectorizer(max_features=5000,ngram_range=(1,3))\n",
        "X_new = tfidf_v.fit_transform(corpus_new).toarray()"
      ],
      "metadata": {
        "id": "78ReYcP0xM5A"
      },
      "execution_count": 121,
      "outputs": []
    },
    {
      "cell_type": "markdown",
      "source": [
        "## Splitting"
      ],
      "metadata": {
        "id": "rahQrLKEzd-e"
      }
    },
    {
      "cell_type": "code",
      "source": [
        "X_train, X_test, y_train, y_test = train_test_split(X_new, y, test_size=0.33, random_state=0)"
      ],
      "metadata": {
        "id": "jHFuh3MVxM1s"
      },
      "execution_count": 122,
      "outputs": []
    },
    {
      "cell_type": "markdown",
      "source": [
        "## Encoding words using TF-IDF vectorizer "
      ],
      "metadata": {
        "id": "uaZFpS7NzgFB"
      }
    },
    {
      "cell_type": "code",
      "source": [
        "count_df_new = pd.DataFrame(X_train, columns=tfidf_v.get_feature_names())\n",
        "count_df_new "
      ],
      "metadata": {
        "colab": {
          "base_uri": "https://localhost:8080/",
          "height": 424
        },
        "id": "4DzyzxC3zRDl",
        "outputId": "570de581-327d-47b1-ce01-846ceb5a1dd7"
      },
      "execution_count": 123,
      "outputs": [
        {
          "output_type": "execute_result",
          "data": {
            "text/plain": [
              "       abandon  abc  abc news  abduct  abe  abedin  abl  abort  abroad  \\\n",
              "0          0.0  0.0       0.0     0.0  0.0     0.0  0.0    0.0     0.0   \n",
              "1          0.0  0.0       0.0     0.0  0.0     0.0  0.0    0.0     0.0   \n",
              "2          0.0  0.0       0.0     0.0  0.0     0.0  0.0    0.0     0.0   \n",
              "3          0.0  0.0       0.0     0.0  0.0     0.0  0.0    0.0     0.0   \n",
              "4          0.0  0.0       0.0     0.0  0.0     0.0  0.0    0.0     0.0   \n",
              "...        ...  ...       ...     ...  ...     ...  ...    ...     ...   \n",
              "12245      0.0  0.0       0.0     0.0  0.0     0.0  0.0    0.0     0.0   \n",
              "12246      0.0  0.0       0.0     0.0  0.0     0.0  0.0    0.0     0.0   \n",
              "12247      0.0  0.0       0.0     0.0  0.0     0.0  0.0    0.0     0.0   \n",
              "12248      0.0  0.0       0.0     0.0  0.0     0.0  0.0    0.0     0.0   \n",
              "12249      0.0  0.0       0.0     0.0  0.0     0.0  0.0    0.0     0.0   \n",
              "\n",
              "        absolut  ...  zero  zika  zika viru  zionist  zone  zone new  \\\n",
              "0      0.000000  ...   0.0   0.0        0.0      0.0   0.0       0.0   \n",
              "1      0.000000  ...   0.0   0.0        0.0      0.0   0.0       0.0   \n",
              "2      0.000000  ...   0.0   0.0        0.0      0.0   0.0       0.0   \n",
              "3      0.000000  ...   0.0   0.0        0.0      0.0   0.0       0.0   \n",
              "4      0.305244  ...   0.0   0.0        0.0      0.0   0.0       0.0   \n",
              "...         ...  ...   ...   ...        ...      ...   ...       ...   \n",
              "12245  0.000000  ...   0.0   0.0        0.0      0.0   0.0       0.0   \n",
              "12246  0.000000  ...   0.0   0.0        0.0      0.0   0.0       0.0   \n",
              "12247  0.000000  ...   0.0   0.0        0.0      0.0   0.0       0.0   \n",
              "12248  0.000000  ...   0.0   0.0        0.0      0.0   0.0       0.0   \n",
              "12249  0.000000  ...   0.0   0.0        0.0      0.0   0.0       0.0   \n",
              "\n",
              "       zone new york  zoo   zu  zuckerberg  \n",
              "0                0.0  0.0  0.0         0.0  \n",
              "1                0.0  0.0  0.0         0.0  \n",
              "2                0.0  0.0  0.0         0.0  \n",
              "3                0.0  0.0  0.0         0.0  \n",
              "4                0.0  0.0  0.0         0.0  \n",
              "...              ...  ...  ...         ...  \n",
              "12245            0.0  0.0  0.0         0.0  \n",
              "12246            0.0  0.0  0.0         0.0  \n",
              "12247            0.0  0.0  0.0         0.0  \n",
              "12248            0.0  0.0  0.0         0.0  \n",
              "12249            0.0  0.0  0.0         0.0  \n",
              "\n",
              "[12250 rows x 5000 columns]"
            ],
            "text/html": [
              "\n",
              "  <div id=\"df-c7ef6404-c885-4aa1-8902-9c4fde758e98\">\n",
              "    <div class=\"colab-df-container\">\n",
              "      <div>\n",
              "<style scoped>\n",
              "    .dataframe tbody tr th:only-of-type {\n",
              "        vertical-align: middle;\n",
              "    }\n",
              "\n",
              "    .dataframe tbody tr th {\n",
              "        vertical-align: top;\n",
              "    }\n",
              "\n",
              "    .dataframe thead th {\n",
              "        text-align: right;\n",
              "    }\n",
              "</style>\n",
              "<table border=\"1\" class=\"dataframe\">\n",
              "  <thead>\n",
              "    <tr style=\"text-align: right;\">\n",
              "      <th></th>\n",
              "      <th>abandon</th>\n",
              "      <th>abc</th>\n",
              "      <th>abc news</th>\n",
              "      <th>abduct</th>\n",
              "      <th>abe</th>\n",
              "      <th>abedin</th>\n",
              "      <th>abl</th>\n",
              "      <th>abort</th>\n",
              "      <th>abroad</th>\n",
              "      <th>absolut</th>\n",
              "      <th>...</th>\n",
              "      <th>zero</th>\n",
              "      <th>zika</th>\n",
              "      <th>zika viru</th>\n",
              "      <th>zionist</th>\n",
              "      <th>zone</th>\n",
              "      <th>zone new</th>\n",
              "      <th>zone new york</th>\n",
              "      <th>zoo</th>\n",
              "      <th>zu</th>\n",
              "      <th>zuckerberg</th>\n",
              "    </tr>\n",
              "  </thead>\n",
              "  <tbody>\n",
              "    <tr>\n",
              "      <th>0</th>\n",
              "      <td>0.0</td>\n",
              "      <td>0.0</td>\n",
              "      <td>0.0</td>\n",
              "      <td>0.0</td>\n",
              "      <td>0.0</td>\n",
              "      <td>0.0</td>\n",
              "      <td>0.0</td>\n",
              "      <td>0.0</td>\n",
              "      <td>0.0</td>\n",
              "      <td>0.000000</td>\n",
              "      <td>...</td>\n",
              "      <td>0.0</td>\n",
              "      <td>0.0</td>\n",
              "      <td>0.0</td>\n",
              "      <td>0.0</td>\n",
              "      <td>0.0</td>\n",
              "      <td>0.0</td>\n",
              "      <td>0.0</td>\n",
              "      <td>0.0</td>\n",
              "      <td>0.0</td>\n",
              "      <td>0.0</td>\n",
              "    </tr>\n",
              "    <tr>\n",
              "      <th>1</th>\n",
              "      <td>0.0</td>\n",
              "      <td>0.0</td>\n",
              "      <td>0.0</td>\n",
              "      <td>0.0</td>\n",
              "      <td>0.0</td>\n",
              "      <td>0.0</td>\n",
              "      <td>0.0</td>\n",
              "      <td>0.0</td>\n",
              "      <td>0.0</td>\n",
              "      <td>0.000000</td>\n",
              "      <td>...</td>\n",
              "      <td>0.0</td>\n",
              "      <td>0.0</td>\n",
              "      <td>0.0</td>\n",
              "      <td>0.0</td>\n",
              "      <td>0.0</td>\n",
              "      <td>0.0</td>\n",
              "      <td>0.0</td>\n",
              "      <td>0.0</td>\n",
              "      <td>0.0</td>\n",
              "      <td>0.0</td>\n",
              "    </tr>\n",
              "    <tr>\n",
              "      <th>2</th>\n",
              "      <td>0.0</td>\n",
              "      <td>0.0</td>\n",
              "      <td>0.0</td>\n",
              "      <td>0.0</td>\n",
              "      <td>0.0</td>\n",
              "      <td>0.0</td>\n",
              "      <td>0.0</td>\n",
              "      <td>0.0</td>\n",
              "      <td>0.0</td>\n",
              "      <td>0.000000</td>\n",
              "      <td>...</td>\n",
              "      <td>0.0</td>\n",
              "      <td>0.0</td>\n",
              "      <td>0.0</td>\n",
              "      <td>0.0</td>\n",
              "      <td>0.0</td>\n",
              "      <td>0.0</td>\n",
              "      <td>0.0</td>\n",
              "      <td>0.0</td>\n",
              "      <td>0.0</td>\n",
              "      <td>0.0</td>\n",
              "    </tr>\n",
              "    <tr>\n",
              "      <th>3</th>\n",
              "      <td>0.0</td>\n",
              "      <td>0.0</td>\n",
              "      <td>0.0</td>\n",
              "      <td>0.0</td>\n",
              "      <td>0.0</td>\n",
              "      <td>0.0</td>\n",
              "      <td>0.0</td>\n",
              "      <td>0.0</td>\n",
              "      <td>0.0</td>\n",
              "      <td>0.000000</td>\n",
              "      <td>...</td>\n",
              "      <td>0.0</td>\n",
              "      <td>0.0</td>\n",
              "      <td>0.0</td>\n",
              "      <td>0.0</td>\n",
              "      <td>0.0</td>\n",
              "      <td>0.0</td>\n",
              "      <td>0.0</td>\n",
              "      <td>0.0</td>\n",
              "      <td>0.0</td>\n",
              "      <td>0.0</td>\n",
              "    </tr>\n",
              "    <tr>\n",
              "      <th>4</th>\n",
              "      <td>0.0</td>\n",
              "      <td>0.0</td>\n",
              "      <td>0.0</td>\n",
              "      <td>0.0</td>\n",
              "      <td>0.0</td>\n",
              "      <td>0.0</td>\n",
              "      <td>0.0</td>\n",
              "      <td>0.0</td>\n",
              "      <td>0.0</td>\n",
              "      <td>0.305244</td>\n",
              "      <td>...</td>\n",
              "      <td>0.0</td>\n",
              "      <td>0.0</td>\n",
              "      <td>0.0</td>\n",
              "      <td>0.0</td>\n",
              "      <td>0.0</td>\n",
              "      <td>0.0</td>\n",
              "      <td>0.0</td>\n",
              "      <td>0.0</td>\n",
              "      <td>0.0</td>\n",
              "      <td>0.0</td>\n",
              "    </tr>\n",
              "    <tr>\n",
              "      <th>...</th>\n",
              "      <td>...</td>\n",
              "      <td>...</td>\n",
              "      <td>...</td>\n",
              "      <td>...</td>\n",
              "      <td>...</td>\n",
              "      <td>...</td>\n",
              "      <td>...</td>\n",
              "      <td>...</td>\n",
              "      <td>...</td>\n",
              "      <td>...</td>\n",
              "      <td>...</td>\n",
              "      <td>...</td>\n",
              "      <td>...</td>\n",
              "      <td>...</td>\n",
              "      <td>...</td>\n",
              "      <td>...</td>\n",
              "      <td>...</td>\n",
              "      <td>...</td>\n",
              "      <td>...</td>\n",
              "      <td>...</td>\n",
              "      <td>...</td>\n",
              "    </tr>\n",
              "    <tr>\n",
              "      <th>12245</th>\n",
              "      <td>0.0</td>\n",
              "      <td>0.0</td>\n",
              "      <td>0.0</td>\n",
              "      <td>0.0</td>\n",
              "      <td>0.0</td>\n",
              "      <td>0.0</td>\n",
              "      <td>0.0</td>\n",
              "      <td>0.0</td>\n",
              "      <td>0.0</td>\n",
              "      <td>0.000000</td>\n",
              "      <td>...</td>\n",
              "      <td>0.0</td>\n",
              "      <td>0.0</td>\n",
              "      <td>0.0</td>\n",
              "      <td>0.0</td>\n",
              "      <td>0.0</td>\n",
              "      <td>0.0</td>\n",
              "      <td>0.0</td>\n",
              "      <td>0.0</td>\n",
              "      <td>0.0</td>\n",
              "      <td>0.0</td>\n",
              "    </tr>\n",
              "    <tr>\n",
              "      <th>12246</th>\n",
              "      <td>0.0</td>\n",
              "      <td>0.0</td>\n",
              "      <td>0.0</td>\n",
              "      <td>0.0</td>\n",
              "      <td>0.0</td>\n",
              "      <td>0.0</td>\n",
              "      <td>0.0</td>\n",
              "      <td>0.0</td>\n",
              "      <td>0.0</td>\n",
              "      <td>0.000000</td>\n",
              "      <td>...</td>\n",
              "      <td>0.0</td>\n",
              "      <td>0.0</td>\n",
              "      <td>0.0</td>\n",
              "      <td>0.0</td>\n",
              "      <td>0.0</td>\n",
              "      <td>0.0</td>\n",
              "      <td>0.0</td>\n",
              "      <td>0.0</td>\n",
              "      <td>0.0</td>\n",
              "      <td>0.0</td>\n",
              "    </tr>\n",
              "    <tr>\n",
              "      <th>12247</th>\n",
              "      <td>0.0</td>\n",
              "      <td>0.0</td>\n",
              "      <td>0.0</td>\n",
              "      <td>0.0</td>\n",
              "      <td>0.0</td>\n",
              "      <td>0.0</td>\n",
              "      <td>0.0</td>\n",
              "      <td>0.0</td>\n",
              "      <td>0.0</td>\n",
              "      <td>0.000000</td>\n",
              "      <td>...</td>\n",
              "      <td>0.0</td>\n",
              "      <td>0.0</td>\n",
              "      <td>0.0</td>\n",
              "      <td>0.0</td>\n",
              "      <td>0.0</td>\n",
              "      <td>0.0</td>\n",
              "      <td>0.0</td>\n",
              "      <td>0.0</td>\n",
              "      <td>0.0</td>\n",
              "      <td>0.0</td>\n",
              "    </tr>\n",
              "    <tr>\n",
              "      <th>12248</th>\n",
              "      <td>0.0</td>\n",
              "      <td>0.0</td>\n",
              "      <td>0.0</td>\n",
              "      <td>0.0</td>\n",
              "      <td>0.0</td>\n",
              "      <td>0.0</td>\n",
              "      <td>0.0</td>\n",
              "      <td>0.0</td>\n",
              "      <td>0.0</td>\n",
              "      <td>0.000000</td>\n",
              "      <td>...</td>\n",
              "      <td>0.0</td>\n",
              "      <td>0.0</td>\n",
              "      <td>0.0</td>\n",
              "      <td>0.0</td>\n",
              "      <td>0.0</td>\n",
              "      <td>0.0</td>\n",
              "      <td>0.0</td>\n",
              "      <td>0.0</td>\n",
              "      <td>0.0</td>\n",
              "      <td>0.0</td>\n",
              "    </tr>\n",
              "    <tr>\n",
              "      <th>12249</th>\n",
              "      <td>0.0</td>\n",
              "      <td>0.0</td>\n",
              "      <td>0.0</td>\n",
              "      <td>0.0</td>\n",
              "      <td>0.0</td>\n",
              "      <td>0.0</td>\n",
              "      <td>0.0</td>\n",
              "      <td>0.0</td>\n",
              "      <td>0.0</td>\n",
              "      <td>0.000000</td>\n",
              "      <td>...</td>\n",
              "      <td>0.0</td>\n",
              "      <td>0.0</td>\n",
              "      <td>0.0</td>\n",
              "      <td>0.0</td>\n",
              "      <td>0.0</td>\n",
              "      <td>0.0</td>\n",
              "      <td>0.0</td>\n",
              "      <td>0.0</td>\n",
              "      <td>0.0</td>\n",
              "      <td>0.0</td>\n",
              "    </tr>\n",
              "  </tbody>\n",
              "</table>\n",
              "<p>12250 rows × 5000 columns</p>\n",
              "</div>\n",
              "      <button class=\"colab-df-convert\" onclick=\"convertToInteractive('df-c7ef6404-c885-4aa1-8902-9c4fde758e98')\"\n",
              "              title=\"Convert this dataframe to an interactive table.\"\n",
              "              style=\"display:none;\">\n",
              "        \n",
              "  <svg xmlns=\"http://www.w3.org/2000/svg\" height=\"24px\"viewBox=\"0 0 24 24\"\n",
              "       width=\"24px\">\n",
              "    <path d=\"M0 0h24v24H0V0z\" fill=\"none\"/>\n",
              "    <path d=\"M18.56 5.44l.94 2.06.94-2.06 2.06-.94-2.06-.94-.94-2.06-.94 2.06-2.06.94zm-11 1L8.5 8.5l.94-2.06 2.06-.94-2.06-.94L8.5 2.5l-.94 2.06-2.06.94zm10 10l.94 2.06.94-2.06 2.06-.94-2.06-.94-.94-2.06-.94 2.06-2.06.94z\"/><path d=\"M17.41 7.96l-1.37-1.37c-.4-.4-.92-.59-1.43-.59-.52 0-1.04.2-1.43.59L10.3 9.45l-7.72 7.72c-.78.78-.78 2.05 0 2.83L4 21.41c.39.39.9.59 1.41.59.51 0 1.02-.2 1.41-.59l7.78-7.78 2.81-2.81c.8-.78.8-2.07 0-2.86zM5.41 20L4 18.59l7.72-7.72 1.47 1.35L5.41 20z\"/>\n",
              "  </svg>\n",
              "      </button>\n",
              "      \n",
              "  <style>\n",
              "    .colab-df-container {\n",
              "      display:flex;\n",
              "      flex-wrap:wrap;\n",
              "      gap: 12px;\n",
              "    }\n",
              "\n",
              "    .colab-df-convert {\n",
              "      background-color: #E8F0FE;\n",
              "      border: none;\n",
              "      border-radius: 50%;\n",
              "      cursor: pointer;\n",
              "      display: none;\n",
              "      fill: #1967D2;\n",
              "      height: 32px;\n",
              "      padding: 0 0 0 0;\n",
              "      width: 32px;\n",
              "    }\n",
              "\n",
              "    .colab-df-convert:hover {\n",
              "      background-color: #E2EBFA;\n",
              "      box-shadow: 0px 1px 2px rgba(60, 64, 67, 0.3), 0px 1px 3px 1px rgba(60, 64, 67, 0.15);\n",
              "      fill: #174EA6;\n",
              "    }\n",
              "\n",
              "    [theme=dark] .colab-df-convert {\n",
              "      background-color: #3B4455;\n",
              "      fill: #D2E3FC;\n",
              "    }\n",
              "\n",
              "    [theme=dark] .colab-df-convert:hover {\n",
              "      background-color: #434B5C;\n",
              "      box-shadow: 0px 1px 3px 1px rgba(0, 0, 0, 0.15);\n",
              "      filter: drop-shadow(0px 1px 2px rgba(0, 0, 0, 0.3));\n",
              "      fill: #FFFFFF;\n",
              "    }\n",
              "  </style>\n",
              "\n",
              "      <script>\n",
              "        const buttonEl =\n",
              "          document.querySelector('#df-c7ef6404-c885-4aa1-8902-9c4fde758e98 button.colab-df-convert');\n",
              "        buttonEl.style.display =\n",
              "          google.colab.kernel.accessAllowed ? 'block' : 'none';\n",
              "\n",
              "        async function convertToInteractive(key) {\n",
              "          const element = document.querySelector('#df-c7ef6404-c885-4aa1-8902-9c4fde758e98');\n",
              "          const dataTable =\n",
              "            await google.colab.kernel.invokeFunction('convertToInteractive',\n",
              "                                                     [key], {});\n",
              "          if (!dataTable) return;\n",
              "\n",
              "          const docLinkHtml = 'Like what you see? Visit the ' +\n",
              "            '<a target=\"_blank\" href=https://colab.research.google.com/notebooks/data_table.ipynb>data table notebook</a>'\n",
              "            + ' to learn more about interactive tables.';\n",
              "          element.innerHTML = '';\n",
              "          dataTable['output_type'] = 'display_data';\n",
              "          await google.colab.output.renderOutput(dataTable, element);\n",
              "          const docLink = document.createElement('div');\n",
              "          docLink.innerHTML = docLinkHtml;\n",
              "          element.appendChild(docLink);\n",
              "        }\n",
              "      </script>\n",
              "    </div>\n",
              "  </div>\n",
              "  "
            ]
          },
          "metadata": {},
          "execution_count": 123
        }
      ]
    },
    {
      "cell_type": "markdown",
      "source": [
        "## Models and Evaluation :"
      ],
      "metadata": {
        "id": "OjLhpuy4zxFh"
      }
    },
    {
      "cell_type": "markdown",
      "source": [
        "### 1. MultinomialNB"
      ],
      "metadata": {
        "id": "30EQXDqb4zkI"
      }
    },
    {
      "cell_type": "code",
      "source": [
        "c1 =  MultinomialNB()\n",
        "c1.fit(X_train, y_train)"
      ],
      "metadata": {
        "colab": {
          "base_uri": "https://localhost:8080/"
        },
        "id": "9dZRp-dQzQ_1",
        "outputId": "2fd6c8b2-08c8-4f3d-f715-5ac5f56a0acb"
      },
      "execution_count": 124,
      "outputs": [
        {
          "output_type": "execute_result",
          "data": {
            "text/plain": [
              "MultinomialNB()"
            ]
          },
          "metadata": {},
          "execution_count": 124
        }
      ]
    },
    {
      "cell_type": "code",
      "source": [
        "y_hat_1 = c1.predict(X_test)"
      ],
      "metadata": {
        "id": "fBr757yfzQ8G"
      },
      "execution_count": 125,
      "outputs": []
    },
    {
      "cell_type": "code",
      "source": [
        "print(classification_report(y_test, y_hat_1))\n",
        "print(150 * '*'+'\\n')\n",
        "score=accuracy_score(y_test,y_hat_1)\n",
        "print(\"Accuracy score is \" , score ,'\\n')\n",
        "print(150 * '*'+'\\n')\n",
        "cm = confusion_matrix(y_test, y_hat_1)\n",
        "plot_confusion_matrix(cm, classes=['FAKE','REAL']);"
      ],
      "metadata": {
        "colab": {
          "base_uri": "https://localhost:8080/",
          "height": 598
        },
        "id": "e0hUaGZTzQ4l",
        "outputId": "3d8407d6-828c-4aa8-d117-bd3f5ff44c91"
      },
      "execution_count": 126,
      "outputs": [
        {
          "output_type": "stream",
          "name": "stdout",
          "text": [
            "              precision    recall  f1-score   support\n",
            "\n",
            "           0       0.86      0.94      0.90      3389\n",
            "           1       0.91      0.80      0.86      2646\n",
            "\n",
            "    accuracy                           0.88      6035\n",
            "   macro avg       0.89      0.87      0.88      6035\n",
            "weighted avg       0.88      0.88      0.88      6035\n",
            "\n",
            "******************************************************************************************************************************************************\n",
            "\n",
            "Accuracy score is  0.8810273405136703 \n",
            "\n",
            "******************************************************************************************************************************************************\n",
            "\n",
            "Confusion matrix, without normalization\n"
          ]
        },
        {
          "output_type": "display_data",
          "data": {
            "text/plain": [
              "<Figure size 432x288 with 2 Axes>"
            ],
            "image/png": "[encoded data removed]"
          },
          "metadata": {
            "needs_background": "light"
          }
        }
      ]
    },
    {
      "cell_type": "markdown",
      "source": [
        "### 2. Passive aggressive :"
      ],
      "metadata": {
        "id": "nt_m3G1L41x3"
      }
    },
    {
      "cell_type": "code",
      "source": [
        "c2 = PassiveAggressiveClassifier(max_iter=100,random_state=2)\n",
        "c2.fit(X_train, y_train)"
      ],
      "metadata": {
        "colab": {
          "base_uri": "https://localhost:8080/"
        },
        "id": "xsxG5CaN5Hvl",
        "outputId": "35951bdf-f99d-48c1-dd7b-7d8291d1dc87"
      },
      "execution_count": 130,
      "outputs": [
        {
          "output_type": "execute_result",
          "data": {
            "text/plain": [
              "PassiveAggressiveClassifier(max_iter=100, random_state=2)"
            ]
          },
          "metadata": {},
          "execution_count": 130
        }
      ]
    },
    {
      "cell_type": "code",
      "source": [
        "y_hat_2 = c2.predict(X_test)"
      ],
      "metadata": {
        "id": "jCWh55Xj5Lz9"
      },
      "execution_count": 133,
      "outputs": []
    },
    {
      "cell_type": "code",
      "source": [
        "print(classification_report(y_test,y_hat_2))\n",
        "print(150 * '*'+'\\n')\n",
        "sc=accuracy_score(y_test,y_hat_2)\n",
        "print(\"Accuracy score is \" , sc ,'\\n')\n",
        "print(150 * '*'+'\\n')\n",
        "cm = confusion_matrix(y_test, y_hat_2)\n",
        "plot_confusion_matrix(cm, classes=['FAKE','REAL'],cmap=plt.cm.YlGn);"
      ],
      "metadata": {
        "colab": {
          "base_uri": "https://localhost:8080/",
          "height": 598
        },
        "id": "DoYPJJIT42RB",
        "outputId": "3e5e0dd9-5e88-4cd6-da5f-2ca698d15c40"
      },
      "execution_count": 134,
      "outputs": [
        {
          "output_type": "stream",
          "name": "stdout",
          "text": [
            "              precision    recall  f1-score   support\n",
            "\n",
            "           0       0.93      0.92      0.93      3389\n",
            "           1       0.90      0.91      0.91      2646\n",
            "\n",
            "    accuracy                           0.92      6035\n",
            "   macro avg       0.92      0.92      0.92      6035\n",
            "weighted avg       0.92      0.92      0.92      6035\n",
            "\n",
            "******************************************************************************************************************************************************\n",
            "\n",
            "Accuracy score is  0.9169842584921293 \n",
            "\n",
            "******************************************************************************************************************************************************\n",
            "\n",
            "Confusion matrix, without normalization\n"
          ]
        },
        {
          "output_type": "display_data",
          "data": {
            "text/plain": [
              "<Figure size 432x288 with 2 Axes>"
            ],
            "image/png": "[encoded data removed]"
          },
          "metadata": {
            "needs_background": "light"
          }
        }
      ]
    },
    {
      "cell_type": "markdown",
      "source": [
        "---------------------------------------"
      ],
      "metadata": {
        "id": "by-20OM08T6M"
      }
    },
    {
      "cell_type": "markdown",
      "source": [
        "## Now Encoding words using Hashing vectorizer :"
      ],
      "metadata": {
        "id": "Uaqk3B-w6C97"
      }
    },
    {
      "cell_type": "code",
      "source": [
        "hs_vectorizer=HashingVectorizer(n_features=5000,alternate_sign=False)\n",
        "X_last=hs_vectorizer.fit_transform(corpus_new).toarray()"
      ],
      "metadata": {
        "id": "jPER3K1T5Vg3"
      },
      "execution_count": 139,
      "outputs": []
    },
    {
      "cell_type": "code",
      "source": [
        "X_last"
      ],
      "metadata": {
        "colab": {
          "base_uri": "https://localhost:8080/"
        },
        "id": "iVRPDEUH7oHw",
        "outputId": "a9356895-a69c-42bb-e753-c465c2b57633"
      },
      "execution_count": 140,
      "outputs": [
        {
          "output_type": "execute_result",
          "data": {
            "text/plain": [
              "array([[0.        , 0.31622777, 0.        , ..., 0.        , 0.        ,\n",
              "        0.        ],\n",
              "       [0.        , 0.        , 0.        , ..., 0.        , 0.        ,\n",
              "        0.        ],\n",
              "       [0.        , 0.        , 0.        , ..., 0.        , 0.        ,\n",
              "        0.        ],\n",
              "       ...,\n",
              "       [0.        , 0.        , 0.        , ..., 0.        , 0.        ,\n",
              "        0.        ],\n",
              "       [0.        , 0.        , 0.        , ..., 0.        , 0.        ,\n",
              "        0.        ],\n",
              "       [0.        , 0.        , 0.        , ..., 0.        , 0.        ,\n",
              "        0.        ]])"
            ]
          },
          "metadata": {},
          "execution_count": 140
        }
      ]
    },
    {
      "cell_type": "markdown",
      "source": [
        "### Splitting :"
      ],
      "metadata": {
        "id": "EImTj7R1644X"
      }
    },
    {
      "cell_type": "code",
      "source": [
        "X_train, X_test, y_train, y_test = train_test_split(X_last, y, test_size=0.33, random_state=0)"
      ],
      "metadata": {
        "id": "LIp_83Gp67KL"
      },
      "execution_count": 141,
      "outputs": []
    },
    {
      "cell_type": "markdown",
      "source": [
        "## Models and Evaluation :"
      ],
      "metadata": {
        "id": "zCQAeZi77ClV"
      }
    },
    {
      "cell_type": "markdown",
      "source": [
        "### 1. MultinomialNB :"
      ],
      "metadata": {
        "id": "-noxIlyz7y2s"
      }
    },
    {
      "cell_type": "code",
      "source": [
        "c11 =  MultinomialNB()\n",
        "c11.fit(X_train, y_train)"
      ],
      "metadata": {
        "colab": {
          "base_uri": "https://localhost:8080/"
        },
        "id": "Kp9EEHw07C_Y",
        "outputId": "410ae349-14b0-4d70-b141-55d085442a50"
      },
      "execution_count": 142,
      "outputs": [
        {
          "output_type": "execute_result",
          "data": {
            "text/plain": [
              "MultinomialNB()"
            ]
          },
          "metadata": {},
          "execution_count": 142
        }
      ]
    },
    {
      "cell_type": "code",
      "source": [
        "y_hat_11= c11.predict(X_test)"
      ],
      "metadata": {
        "id": "Nfrb22FG787j"
      },
      "execution_count": 143,
      "outputs": []
    },
    {
      "cell_type": "code",
      "source": [
        "print(classification_report(y_test, y_hat_11))\n",
        "print(150 * '*'+'\\n')\n",
        "score=accuracy_score(y_test,y_hat_11)\n",
        "print(\"Accuracy score is \" , score ,'\\n')\n",
        "print(150 * '*'+'\\n')\n",
        "cm = confusion_matrix(y_test, y_hat_11)\n",
        "plot_confusion_matrix(cm, classes=['FAKE','REAL']);"
      ],
      "metadata": {
        "colab": {
          "base_uri": "https://localhost:8080/",
          "height": 598
        },
        "id": "m0fXrcB77_ps",
        "outputId": "e5b72bb9-67fa-4694-933b-45d9fffbe881"
      },
      "execution_count": 144,
      "outputs": [
        {
          "output_type": "stream",
          "name": "stdout",
          "text": [
            "              precision    recall  f1-score   support\n",
            "\n",
            "           0       0.85      0.94      0.89      3389\n",
            "           1       0.91      0.78      0.84      2646\n",
            "\n",
            "    accuracy                           0.87      6035\n",
            "   macro avg       0.88      0.86      0.87      6035\n",
            "weighted avg       0.87      0.87      0.87      6035\n",
            "\n",
            "******************************************************************************************************************************************************\n",
            "\n",
            "Accuracy score is  0.8707539353769677 \n",
            "\n",
            "******************************************************************************************************************************************************\n",
            "\n",
            "Confusion matrix, without normalization\n"
          ]
        },
        {
          "output_type": "display_data",
          "data": {
            "text/plain": [
              "<Figure size 432x288 with 2 Axes>"
            ],
            "image/png": "[encoded data removed]"
          },
          "metadata": {
            "needs_background": "light"
          }
        }
      ]
    },
    {
      "cell_type": "markdown",
      "source": [
        "### 2. Passive Agressive :"
      ],
      "metadata": {
        "id": "UdrEPu2J8HzX"
      }
    },
    {
      "cell_type": "code",
      "source": [
        "c22 = PassiveAggressiveClassifier(max_iter=100,random_state=2)\n",
        "c22.fit(X_train, y_train)"
      ],
      "metadata": {
        "colab": {
          "base_uri": "https://localhost:8080/"
        },
        "id": "Mf1LdAGq7_hS",
        "outputId": "ad706876-83bb-429c-bd6d-a73cb93eefdb"
      },
      "execution_count": 145,
      "outputs": [
        {
          "output_type": "execute_result",
          "data": {
            "text/plain": [
              "PassiveAggressiveClassifier(max_iter=100, random_state=2)"
            ]
          },
          "metadata": {},
          "execution_count": 145
        }
      ]
    },
    {
      "cell_type": "code",
      "source": [
        "y_hat_22 = c22.predict(X_test)"
      ],
      "metadata": {
        "id": "YopyIRjB7_ey"
      },
      "execution_count": 146,
      "outputs": []
    },
    {
      "cell_type": "code",
      "source": [
        "print(classification_report(y_test,y_hat_22))\n",
        "print(150 * '*'+'\\n')\n",
        "sc=accuracy_score(y_test,y_hat_22)\n",
        "print(\"Accuracy score is \" , sc ,'\\n')\n",
        "print(150 * '*'+'\\n')\n",
        "cm = confusion_matrix(y_test, y_hat_22)\n",
        "plot_confusion_matrix(cm, classes=['FAKE','REAL'],cmap=plt.cm.Dark2);"
      ],
      "metadata": {
        "colab": {
          "base_uri": "https://localhost:8080/",
          "height": 598
        },
        "id": "XAf8PLYh8iuw",
        "outputId": "df6ae462-add9-46b9-993f-78231266187c"
      },
      "execution_count": 156,
      "outputs": [
        {
          "output_type": "stream",
          "name": "stdout",
          "text": [
            "              precision    recall  f1-score   support\n",
            "\n",
            "           0       0.95      0.87      0.91      3389\n",
            "           1       0.85      0.94      0.90      2646\n",
            "\n",
            "    accuracy                           0.90      6035\n",
            "   macro avg       0.90      0.91      0.90      6035\n",
            "weighted avg       0.91      0.90      0.90      6035\n",
            "\n",
            "******************************************************************************************************************************************************\n",
            "\n",
            "Accuracy score is  0.9032311516155758 \n",
            "\n",
            "******************************************************************************************************************************************************\n",
            "\n",
            "Confusion matrix, without normalization\n"
          ]
        },
        {
          "output_type": "display_data",
          "data": {
            "text/plain": [
              "<Figure size 432x288 with 2 Axes>"
            ],
            "image/png": "[encoded data removed]"
          },
          "metadata": {
            "needs_background": "light"
          }
        }
      ]
    },
    {
      "cell_type": "markdown",
      "source": [
        "## We can see that the Passive-Agressive classifier performs better than MultinomialNB classifier on this task whatever the type of vectorization we use to encode words..."
      ],
      "metadata": {
        "id": "i5d9l9OT_AD5"
      }
    }
  ]
}